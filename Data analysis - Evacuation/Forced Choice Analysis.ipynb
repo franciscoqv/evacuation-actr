{
 "cells": [
  {
   "cell_type": "markdown",
   "metadata": {},
   "source": [
    "# Libraries"
   ]
  },
  {
   "cell_type": "code",
   "execution_count": 1,
   "metadata": {},
   "outputs": [
    {
     "name": "stderr",
     "output_type": "stream",
     "text": [
      "Warning message:\n",
      "\"package 'plyr' was built under R version 3.3.3\"Warning message:\n",
      "\"package 'tidyverse' was built under R version 3.3.3\"Loading tidyverse: ggplot2\n",
      "Loading tidyverse: tibble\n",
      "Loading tidyverse: tidyr\n",
      "Loading tidyverse: readr\n",
      "Loading tidyverse: purrr\n",
      "Loading tidyverse: dplyr\n",
      "Warning message:\n",
      "\"package 'ggplot2' was built under R version 3.3.3\"Warning message:\n",
      "\"package 'tibble' was built under R version 3.3.3\"Warning message:\n",
      "\"package 'tidyr' was built under R version 3.3.3\"Warning message:\n",
      "\"package 'readr' was built under R version 3.3.3\"Warning message:\n",
      "\"package 'purrr' was built under R version 3.3.3\"Warning message:\n",
      "\"package 'dplyr' was built under R version 3.3.3\"Conflicts with tidy packages ---------------------------------------------------\n",
      "arrange():   dplyr, plyr\n",
      "compact():   purrr, plyr\n",
      "count():     dplyr, plyr\n",
      "failwith():  dplyr, plyr\n",
      "filter():    dplyr, stats\n",
      "id():        dplyr, plyr\n",
      "lag():       dplyr, stats\n",
      "mutate():    dplyr, plyr\n",
      "rename():    dplyr, plyr\n",
      "summarise(): dplyr, plyr\n",
      "summarize(): dplyr, plyr\n",
      "Warning message:\n",
      "\"package 'DT' was built under R version 3.3.3\"Warning message:\n",
      "\"package 'ggthemes' was built under R version 3.3.3\""
     ]
    }
   ],
   "source": [
    "library(plyr)\n",
    "\n",
    "library(tidyverse)\n",
    "library(DT) # dependency\n",
    "library(ggthemes) # dependency"
   ]
  },
  {
   "cell_type": "code",
   "execution_count": 2,
   "metadata": {
    "collapsed": true
   },
   "outputs": [],
   "source": [
    "source(\"tools.R\") # Ad-hoc tools"
   ]
  },
  {
   "cell_type": "markdown",
   "metadata": {},
   "source": [
    "# General variables and functions"
   ]
  },
  {
   "cell_type": "code",
   "execution_count": 3,
   "metadata": {
    "collapsed": true
   },
   "outputs": [],
   "source": [
    "se <- function(x) {\n",
    "    sd(x)/sqrt(length(x))\n",
    "}\n",
    "\n",
    "bar_graph <- function(plot_data) {\n",
    "    plot_data %>%\n",
    "        ggplot(aes(x=x, y=y))+\n",
    "        geom_bar(stat=\"identity\", position=position_dodge()) +\n",
    "        geom_errorbar(aes(ymin=lower_bound, ymax=upper_bound),\n",
    "                      position=position_dodge(.9),\n",
    "                      width=0.2 )\n",
    "}\n",
    "\n",
    "decimals <- 2 # for rounding"
   ]
  },
  {
   "cell_type": "markdown",
   "metadata": {},
   "source": [
    "# Import data"
   ]
  },
  {
   "cell_type": "code",
   "execution_count": 4,
   "metadata": {
    "collapsed": true
   },
   "outputs": [],
   "source": [
    "directory <- \"Data January 2017/\"\n",
    "\n",
    "dat <- get_fc_table(directory)"
   ]
  },
  {
   "cell_type": "markdown",
   "metadata": {},
   "source": [
    "### Data mutation"
   ]
  },
  {
   "cell_type": "code",
   "execution_count": 5,
   "metadata": {},
   "outputs": [
    {
     "name": "stderr",
     "output_type": "stream",
     "text": [
      "Warning message:\n",
      "\"package 'bindrcpp' was built under R version 3.3.3\""
     ]
    }
   ],
   "source": [
    "# Change column names\n",
    "colnames(dat) <- c( \"row_id\",\n",
    "                    \"left_door\",\n",
    "                    \"right_door\",\n",
    "                    \"rt\",\n",
    "                    \"KEY_RESPONSE_TIME\",\n",
    "                    \"DISPLAY_TIME\", \n",
    "                    \"key_pressed\",\n",
    "                    \"block_level_1_fc\",\n",
    "                    \"block\",\n",
    "                    \"id\",\n",
    "                    \"experiment\" )\n",
    "\n",
    "\n",
    "# Remove \".jpg\" of the doors' names; Change {f,j} to {left, right}; Add chosen_door column\n",
    "dat <- dat %>%\n",
    "    mutate(left_door = substr(left_door, 0, 7), \n",
    "           right_door = substr(right_door, 0, 7),\n",
    "           key_pressed = ifelse(key_pressed=='f', 'left', 'right'), \n",
    "           chosen_door = ifelse(key_pressed=='left', left_door, right_door)) "
   ]
  },
  {
   "cell_type": "markdown",
   "metadata": {},
   "source": [
    "Cue values"
   ]
  },
  {
   "cell_type": "code",
   "execution_count": 6,
   "metadata": {
    "collapsed": true,
    "scrolled": true
   },
   "outputs": [],
   "source": [
    "for(index in 1:length(dat$id)){\n",
    "    dat$left_speed[index] <- get_cues(dat$experiment[index], dat$left_door[index])[1]\n",
    "    dat$left_safety[index] <- get_cues(dat$experiment[index], dat$left_door[index])[2]\n",
    "    \n",
    "    dat$right_speed[index] <- get_cues(dat$experiment[index], dat$right_door[index])[1]\n",
    "    dat$right_safety[index] <- get_cues(dat$experiment[index], dat$right_door[index])[2]\n",
    "    \n",
    "    dat$chosen_speed[index] <- get_cues(dat$experiment[index], dat$chosen_door[index])[1]\n",
    "    dat$chosen_safety[index] <- get_cues(dat$experiment[index], dat$chosen_door[index])[2]\n",
    "}"
   ]
  },
  {
   "cell_type": "markdown",
   "metadata": {},
   "source": [
    "Add final columns"
   ]
  },
  {
   "cell_type": "code",
   "execution_count": 7,
   "metadata": {
    "collapsed": true
   },
   "outputs": [],
   "source": [
    "# Number of cues to check\n",
    "# ASSUMPTION: when an unknown door is involved, the decision takes 1 step\n",
    "\n",
    "dat <- dat %>%\n",
    "    mutate(steps_ttb_speed = ifelse(left_speed == right_speed, 2, 1),\n",
    "           steps_ttb_safety = ifelse(left_safety == right_safety, 2, 1),\n",
    "           unknown_door_involved = (left_speed == 0 | right_speed ==0),\n",
    "           chosen_door_is_unknown = (chosen_speed == 0) ) # Checking one cue is enough"
   ]
  },
  {
   "cell_type": "markdown",
   "metadata": {},
   "source": [
    "Now that we have the cue values, we can calculate the **predicted** decisions"
   ]
  },
  {
   "cell_type": "code",
   "execution_count": 8,
   "metadata": {
    "collapsed": true
   },
   "outputs": [],
   "source": [
    "# Choice per TTB.\n",
    "# ASSUMPTION: unknown door is never chosen\n",
    "\n",
    "## TTB Speed\n",
    "\n",
    "dat[!dat$unknown_door_involved & dat$left_speed > dat$right_speed, 'chosen_ttb_speed'] <- 'left'\n",
    "\n",
    "dat[!dat$unknown_door_involved & dat$left_speed < dat$right_speed, 'chosen_ttb_speed'] <- 'right'\n",
    "\n",
    "dat[!dat$unknown_door_involved & dat$left_speed == dat$right_speed & dat$left_safety > dat$right_safety, 'chosen_ttb_speed'] <- 'left'\n",
    "\n",
    "dat[!dat$unknown_door_involved & dat$left_speed == dat$right_speed & dat$left_safety < dat$right_safety, 'chosen_ttb_speed'] <- 'right'\n",
    "\n",
    "dat[dat$unknown_door_involved & dat$left_speed == 0 , 'chosen_ttb_speed'] <- 'right'\n",
    "\n",
    "dat[dat$unknown_door_involved & dat$right_speed == 0 , 'chosen_ttb_speed'] <- 'left'\n",
    "\n",
    "\n",
    "## TTB Safety\n",
    "\n",
    "dat[!dat$unknown_door_involved & dat$left_safety > dat$right_safety, 'chosen_ttb_safety'] <- 'left'\n",
    "\n",
    "dat[!dat$unknown_door_involved & dat$left_safety < dat$right_safety, 'chosen_ttb_safety'] <- 'right'\n",
    "\n",
    "dat[!dat$unknown_door_involved & dat$left_safety == dat$right_safety & dat$left_speed > dat$right_speed, 'chosen_ttb_safety'] <- 'left'\n",
    "\n",
    "dat[!dat$unknown_door_involved & dat$left_safety == dat$right_safety & dat$left_speed < dat$right_speed, 'chosen_ttb_safety'] <- 'right'\n",
    "\n",
    "dat[dat$unknown_door_involved & dat$left_safety == 0 , 'chosen_ttb_safety'] <- 'right'\n",
    "\n",
    "dat[dat$unknown_door_involved & dat$right_safety == 0 , 'chosen_ttb_safety'] <- 'left'"
   ]
  },
  {
   "cell_type": "markdown",
   "metadata": {},
   "source": [
    "\n",
    "\n",
    "\n",
    "\n",
    "\n"
   ]
  },
  {
   "cell_type": "markdown",
   "metadata": {},
   "source": [
    "<hr>\n",
    "<hr>"
   ]
  },
  {
   "cell_type": "markdown",
   "metadata": {},
   "source": [
    "# Accordance rates"
   ]
  },
  {
   "cell_type": "code",
   "execution_count": 9,
   "metadata": {
    "collapsed": true
   },
   "outputs": [],
   "source": [
    "accordance <- function( data, column ) {\n",
    "    \n",
    "    column <- enquo(column)\n",
    "    \n",
    "    data %>%\n",
    "        mutate( correctly_predicted = (key_pressed == !!column) ) %>%\n",
    "        group_by( id ) %>%\n",
    "        summarize( accordance_rate = mean(correctly_predicted) ) %>%\n",
    "        summarize( accordance_rate_mean = mean(accordance_rate), se = se(accordance_rate) ) %>%\n",
    "        round( decimals )\n",
    "}"
   ]
  },
  {
   "cell_type": "markdown",
   "metadata": {},
   "source": [
    "### TTB_Speed"
   ]
  },
  {
   "cell_type": "markdown",
   "metadata": {},
   "source": [
    "Overall"
   ]
  },
  {
   "cell_type": "code",
   "execution_count": 10,
   "metadata": {},
   "outputs": [
    {
     "data": {
      "text/html": [
       "<table>\n",
       "<thead><tr><th scope=col>accordance_rate_mean</th><th scope=col>se</th></tr></thead>\n",
       "<tbody>\n",
       "\t<tr><td>0.65</td><td>0.01</td></tr>\n",
       "</tbody>\n",
       "</table>\n"
      ],
      "text/latex": [
       "\\begin{tabular}{r|ll}\n",
       " accordance\\_rate\\_mean & se\\\\\n",
       "\\hline\n",
       "\t 0.65 & 0.01\\\\\n",
       "\\end{tabular}\n"
      ],
      "text/markdown": [
       "\n",
       "accordance_rate_mean | se | \n",
       "|---|\n",
       "| 0.65 | 0.01 | \n",
       "\n",
       "\n"
      ],
      "text/plain": [
       "  accordance_rate_mean se  \n",
       "1 0.65                 0.01"
      ]
     },
     "metadata": {},
     "output_type": "display_data"
    }
   ],
   "source": [
    "dat %>%\n",
    "    accordance(chosen_ttb_speed)"
   ]
  },
  {
   "cell_type": "markdown",
   "metadata": {},
   "source": [
    "Excluding unknown doors"
   ]
  },
  {
   "cell_type": "code",
   "execution_count": 11,
   "metadata": {},
   "outputs": [
    {
     "data": {
      "text/html": [
       "<table>\n",
       "<thead><tr><th scope=col>accordance_rate_mean</th><th scope=col>se</th></tr></thead>\n",
       "<tbody>\n",
       "\t<tr><td>0.77</td><td>0.01</td></tr>\n",
       "</tbody>\n",
       "</table>\n"
      ],
      "text/latex": [
       "\\begin{tabular}{r|ll}\n",
       " accordance\\_rate\\_mean & se\\\\\n",
       "\\hline\n",
       "\t 0.77 & 0.01\\\\\n",
       "\\end{tabular}\n"
      ],
      "text/markdown": [
       "\n",
       "accordance_rate_mean | se | \n",
       "|---|\n",
       "| 0.77 | 0.01 | \n",
       "\n",
       "\n"
      ],
      "text/plain": [
       "  accordance_rate_mean se  \n",
       "1 0.77                 0.01"
      ]
     },
     "metadata": {},
     "output_type": "display_data"
    }
   ],
   "source": [
    "dat %>%\n",
    "    filter(unknown_door_involved == FALSE) %>%\n",
    "    accordance(chosen_ttb_speed)"
   ]
  },
  {
   "cell_type": "markdown",
   "metadata": {},
   "source": [
    "### TTB_Safety"
   ]
  },
  {
   "cell_type": "markdown",
   "metadata": {},
   "source": [
    "Overall"
   ]
  },
  {
   "cell_type": "code",
   "execution_count": 12,
   "metadata": {},
   "outputs": [
    {
     "data": {
      "text/html": [
       "<table>\n",
       "<thead><tr><th scope=col>accordance_rate_mean</th><th scope=col>se</th></tr></thead>\n",
       "<tbody>\n",
       "\t<tr><td>0.71</td><td>0.01</td></tr>\n",
       "</tbody>\n",
       "</table>\n"
      ],
      "text/latex": [
       "\\begin{tabular}{r|ll}\n",
       " accordance\\_rate\\_mean & se\\\\\n",
       "\\hline\n",
       "\t 0.71 & 0.01\\\\\n",
       "\\end{tabular}\n"
      ],
      "text/markdown": [
       "\n",
       "accordance_rate_mean | se | \n",
       "|---|\n",
       "| 0.71 | 0.01 | \n",
       "\n",
       "\n"
      ],
      "text/plain": [
       "  accordance_rate_mean se  \n",
       "1 0.71                 0.01"
      ]
     },
     "metadata": {},
     "output_type": "display_data"
    }
   ],
   "source": [
    "dat %>%\n",
    "    accordance(chosen_ttb_safety)"
   ]
  },
  {
   "cell_type": "markdown",
   "metadata": {},
   "source": [
    "Excluding unknown doors"
   ]
  },
  {
   "cell_type": "code",
   "execution_count": 13,
   "metadata": {},
   "outputs": [
    {
     "data": {
      "text/html": [
       "<table>\n",
       "<thead><tr><th scope=col>accordance_rate_mean</th><th scope=col>se</th></tr></thead>\n",
       "<tbody>\n",
       "\t<tr><td>0.93</td><td>0.01</td></tr>\n",
       "</tbody>\n",
       "</table>\n"
      ],
      "text/latex": [
       "\\begin{tabular}{r|ll}\n",
       " accordance\\_rate\\_mean & se\\\\\n",
       "\\hline\n",
       "\t 0.93 & 0.01\\\\\n",
       "\\end{tabular}\n"
      ],
      "text/markdown": [
       "\n",
       "accordance_rate_mean | se | \n",
       "|---|\n",
       "| 0.93 | 0.01 | \n",
       "\n",
       "\n"
      ],
      "text/plain": [
       "  accordance_rate_mean se  \n",
       "1 0.93                 0.01"
      ]
     },
     "metadata": {},
     "output_type": "display_data"
    }
   ],
   "source": [
    "dat %>%\n",
    "    filter(unknown_door_involved == FALSE) %>%\n",
    "    accordance(chosen_ttb_safety)"
   ]
  },
  {
   "cell_type": "markdown",
   "metadata": {},
   "source": [
    "Excluding unknown doors and equivalent safety value"
   ]
  },
  {
   "cell_type": "code",
   "execution_count": 14,
   "metadata": {},
   "outputs": [
    {
     "data": {
      "text/html": [
       "<table>\n",
       "<thead><tr><th scope=col>accordance_rate_mean</th><th scope=col>se</th></tr></thead>\n",
       "<tbody>\n",
       "\t<tr><td>0.97</td><td>0.01</td></tr>\n",
       "</tbody>\n",
       "</table>\n"
      ],
      "text/latex": [
       "\\begin{tabular}{r|ll}\n",
       " accordance\\_rate\\_mean & se\\\\\n",
       "\\hline\n",
       "\t 0.97 & 0.01\\\\\n",
       "\\end{tabular}\n"
      ],
      "text/markdown": [
       "\n",
       "accordance_rate_mean | se | \n",
       "|---|\n",
       "| 0.97 | 0.01 | \n",
       "\n",
       "\n"
      ],
      "text/plain": [
       "  accordance_rate_mean se  \n",
       "1 0.97                 0.01"
      ]
     },
     "metadata": {},
     "output_type": "display_data"
    }
   ],
   "source": [
    "dat %>%\n",
    "    filter(unknown_door_involved == FALSE,\n",
    "           left_safety != right_safety) %>%\n",
    "    accordance(chosen_ttb_safety)"
   ]
  },
  {
   "cell_type": "markdown",
   "metadata": {},
   "source": [
    "# Comparisons with unknown doors"
   ]
  },
  {
   "cell_type": "code",
   "execution_count": 15,
   "metadata": {
    "collapsed": true
   },
   "outputs": [],
   "source": [
    "ratio_unknown_door <- function ( data ) {\n",
    "   data %>%\n",
    "        filter( unknown_door_involved) %>%\n",
    "        mutate( chosen_door_is_unknown_length = ifelse(chosen_door_is_unknown, 1, 0)) %>%\n",
    "        group_by( id ) %>% # Each individual is grouped\n",
    "        summarize( ratio_unknown_door = round(sum(chosen_door_is_unknown) / length(chosen_door_is_unknown), 2)) %>%\n",
    "        summarize( ratio_unknown_door_mean = mean(ratio_unknown_door), se = se((ratio_unknown_door)) ) %>%\n",
    "        round( decimals )\n",
    "}"
   ]
  },
  {
   "cell_type": "markdown",
   "metadata": {},
   "source": [
    "### Overall ratio"
   ]
  },
  {
   "cell_type": "markdown",
   "metadata": {},
   "source": [
    "When an unknown door is available, what is the probability of them choosing it?"
   ]
  },
  {
   "cell_type": "code",
   "execution_count": 16,
   "metadata": {},
   "outputs": [
    {
     "data": {
      "text/html": [
       "<table>\n",
       "<thead><tr><th scope=col>ratio_unknown_door_mean</th><th scope=col>se</th></tr></thead>\n",
       "<tbody>\n",
       "\t<tr><td>0.49</td><td>0.02</td></tr>\n",
       "</tbody>\n",
       "</table>\n"
      ],
      "text/latex": [
       "\\begin{tabular}{r|ll}\n",
       " ratio\\_unknown\\_door\\_mean & se\\\\\n",
       "\\hline\n",
       "\t 0.49 & 0.02\\\\\n",
       "\\end{tabular}\n"
      ],
      "text/markdown": [
       "\n",
       "ratio_unknown_door_mean | se | \n",
       "|---|\n",
       "| 0.49 | 0.02 | \n",
       "\n",
       "\n"
      ],
      "text/plain": [
       "  ratio_unknown_door_mean se  \n",
       "1 0.49                    0.02"
      ]
     },
     "metadata": {},
     "output_type": "display_data"
    }
   ],
   "source": [
    "dat %>%\n",
    "        ratio_unknown_door"
   ]
  },
  {
   "cell_type": "markdown",
   "metadata": {},
   "source": [
    "### Extremes versus unknown"
   ]
  },
  {
   "cell_type": "markdown",
   "metadata": {},
   "source": [
    "What if the known door was **extremely weak** (i.e. unsafe and slow)?"
   ]
  },
  {
   "cell_type": "code",
   "execution_count": 17,
   "metadata": {},
   "outputs": [
    {
     "data": {
      "text/html": [
       "<table>\n",
       "<thead><tr><th scope=col>ratio_unknown_door_mean</th><th scope=col>se</th></tr></thead>\n",
       "<tbody>\n",
       "\t<tr><td>0.86</td><td>0.03</td></tr>\n",
       "</tbody>\n",
       "</table>\n"
      ],
      "text/latex": [
       "\\begin{tabular}{r|ll}\n",
       " ratio\\_unknown\\_door\\_mean & se\\\\\n",
       "\\hline\n",
       "\t 0.86 & 0.03\\\\\n",
       "\\end{tabular}\n"
      ],
      "text/markdown": [
       "\n",
       "ratio_unknown_door_mean | se | \n",
       "|---|\n",
       "| 0.86 | 0.03 | \n",
       "\n",
       "\n"
      ],
      "text/plain": [
       "  ratio_unknown_door_mean se  \n",
       "1 0.86                    0.03"
      ]
     },
     "metadata": {},
     "output_type": "display_data"
    }
   ],
   "source": [
    "dat %>%\n",
    "        filter(( left_safety == -1 & left_speed == -1 ) | \n",
    "               ( right_safety == -1 & right_speed == -1 )) %>%\n",
    "        ratio_unknown_door"
   ]
  },
  {
   "cell_type": "markdown",
   "metadata": {},
   "source": [
    "What if the known door was **extremely strong** (i.e. safe and fast)?"
   ]
  },
  {
   "cell_type": "code",
   "execution_count": 18,
   "metadata": {},
   "outputs": [
    {
     "data": {
      "text/html": [
       "<table>\n",
       "<thead><tr><th scope=col>ratio_unknown_door_mean</th><th scope=col>se</th></tr></thead>\n",
       "<tbody>\n",
       "\t<tr><td>0.03</td><td>0.01</td></tr>\n",
       "</tbody>\n",
       "</table>\n"
      ],
      "text/latex": [
       "\\begin{tabular}{r|ll}\n",
       " ratio\\_unknown\\_door\\_mean & se\\\\\n",
       "\\hline\n",
       "\t 0.03 & 0.01\\\\\n",
       "\\end{tabular}\n"
      ],
      "text/markdown": [
       "\n",
       "ratio_unknown_door_mean | se | \n",
       "|---|\n",
       "| 0.03 | 0.01 | \n",
       "\n",
       "\n"
      ],
      "text/plain": [
       "  ratio_unknown_door_mean se  \n",
       "1 0.03                    0.01"
      ]
     },
     "metadata": {},
     "output_type": "display_data"
    }
   ],
   "source": [
    "dat %>%\n",
    "        filter(( left_safety == 1 & left_speed == 1 ) | \n",
    "               ( right_safety == 1 & right_speed == 1 )) %>%\n",
    "        ratio_unknown_door"
   ]
  },
  {
   "cell_type": "markdown",
   "metadata": {},
   "source": [
    "### Other cases"
   ]
  },
  {
   "cell_type": "markdown",
   "metadata": {},
   "source": [
    "Where the known door is **safe** but slow"
   ]
  },
  {
   "cell_type": "code",
   "execution_count": 19,
   "metadata": {},
   "outputs": [
    {
     "data": {
      "text/html": [
       "<table>\n",
       "<thead><tr><th scope=col>ratio_unknown_door_mean</th><th scope=col>se</th></tr></thead>\n",
       "<tbody>\n",
       "\t<tr><td>0.08</td><td>0.02</td></tr>\n",
       "</tbody>\n",
       "</table>\n"
      ],
      "text/latex": [
       "\\begin{tabular}{r|ll}\n",
       " ratio\\_unknown\\_door\\_mean & se\\\\\n",
       "\\hline\n",
       "\t 0.08 & 0.02\\\\\n",
       "\\end{tabular}\n"
      ],
      "text/markdown": [
       "\n",
       "ratio_unknown_door_mean | se | \n",
       "|---|\n",
       "| 0.08 | 0.02 | \n",
       "\n",
       "\n"
      ],
      "text/plain": [
       "  ratio_unknown_door_mean se  \n",
       "1 0.08                    0.02"
      ]
     },
     "metadata": {},
     "output_type": "display_data"
    }
   ],
   "source": [
    "dat %>%\n",
    "        filter(( left_safety == 1 & left_speed == -1 ) | \n",
    "               ( right_safety == 1 & right_speed == -1 )) %>%\n",
    "        ratio_unknown_door"
   ]
  },
  {
   "cell_type": "markdown",
   "metadata": {},
   "source": [
    "Where the known door is **fast** but unsafe"
   ]
  },
  {
   "cell_type": "code",
   "execution_count": 20,
   "metadata": {},
   "outputs": [
    {
     "data": {
      "text/html": [
       "<table>\n",
       "<thead><tr><th scope=col>ratio_unknown_door_mean</th><th scope=col>se</th></tr></thead>\n",
       "<tbody>\n",
       "\t<tr><td>0.72</td><td>0.05</td></tr>\n",
       "</tbody>\n",
       "</table>\n"
      ],
      "text/latex": [
       "\\begin{tabular}{r|ll}\n",
       " ratio\\_unknown\\_door\\_mean & se\\\\\n",
       "\\hline\n",
       "\t 0.72 & 0.05\\\\\n",
       "\\end{tabular}\n"
      ],
      "text/markdown": [
       "\n",
       "ratio_unknown_door_mean | se | \n",
       "|---|\n",
       "| 0.72 | 0.05 | \n",
       "\n",
       "\n"
      ],
      "text/plain": [
       "  ratio_unknown_door_mean se  \n",
       "1 0.72                    0.05"
      ]
     },
     "metadata": {},
     "output_type": "display_data"
    }
   ],
   "source": [
    "dat %>%\n",
    "        filter(( left_safety == -1 & left_speed == 1 ) | \n",
    "               ( right_safety == -1 & right_speed == 1 )) %>%\n",
    "        ratio_unknown_door"
   ]
  },
  {
   "cell_type": "markdown",
   "metadata": {},
   "source": [
    "### Safe door (regardless of speed) versus unknown "
   ]
  },
  {
   "cell_type": "code",
   "execution_count": 21,
   "metadata": {},
   "outputs": [
    {
     "data": {
      "text/html": [
       "<table>\n",
       "<thead><tr><th scope=col>ratio_unknown_door_mean</th><th scope=col>se</th></tr></thead>\n",
       "<tbody>\n",
       "\t<tr><td>0.05</td><td>0.01</td></tr>\n",
       "</tbody>\n",
       "</table>\n"
      ],
      "text/latex": [
       "\\begin{tabular}{r|ll}\n",
       " ratio\\_unknown\\_door\\_mean & se\\\\\n",
       "\\hline\n",
       "\t 0.05 & 0.01\\\\\n",
       "\\end{tabular}\n"
      ],
      "text/markdown": [
       "\n",
       "ratio_unknown_door_mean | se | \n",
       "|---|\n",
       "| 0.05 | 0.01 | \n",
       "\n",
       "\n"
      ],
      "text/plain": [
       "  ratio_unknown_door_mean se  \n",
       "1 0.05                    0.01"
      ]
     },
     "metadata": {},
     "output_type": "display_data"
    }
   ],
   "source": [
    "dat %>%\n",
    "        filter(( left_safety == 1 ) | \n",
    "               ( right_safety == 1 )) %>%\n",
    "        ratio_unknown_door"
   ]
  },
  {
   "cell_type": "markdown",
   "metadata": {},
   "source": [
    "# Response times"
   ]
  },
  {
   "cell_type": "markdown",
   "metadata": {},
   "source": [
    "### Overall response time per block\n",
    "It is calculated as an average of averages."
   ]
  },
  {
   "cell_type": "code",
   "execution_count": 22,
   "metadata": {},
   "outputs": [
    {
     "data": {
      "text/html": [
       "<table>\n",
       "<thead><tr><th scope=col>block</th><th scope=col>y</th><th scope=col>se</th><th scope=col>lower_bound</th><th scope=col>upper_bound</th><th scope=col>x</th></tr></thead>\n",
       "<tbody>\n",
       "\t<tr><td>0        </td><td>2669.345 </td><td>264.27507</td><td>2537.207 </td><td>2801.483 </td><td>0        </td></tr>\n",
       "\t<tr><td>1        </td><td>1946.088 </td><td>169.01210</td><td>1861.582 </td><td>2030.594 </td><td>1        </td></tr>\n",
       "\t<tr><td>2        </td><td>1677.167 </td><td>159.32135</td><td>1597.506 </td><td>1756.827 </td><td>2        </td></tr>\n",
       "\t<tr><td>3        </td><td>1502.650 </td><td> 97.44472</td><td>1453.928 </td><td>1551.372 </td><td>3        </td></tr>\n",
       "\t<tr><td>4        </td><td>1639.612 </td><td>172.77521</td><td>1553.224 </td><td>1725.999 </td><td>4        </td></tr>\n",
       "\t<tr><td>5        </td><td>1526.050 </td><td>141.10220</td><td>1455.499 </td><td>1596.601 </td><td>5        </td></tr>\n",
       "</tbody>\n",
       "</table>\n"
      ],
      "text/latex": [
       "\\begin{tabular}{r|llllll}\n",
       " block & y & se & lower\\_bound & upper\\_bound & x\\\\\n",
       "\\hline\n",
       "\t 0         & 2669.345  & 264.27507 & 2537.207  & 2801.483  & 0        \\\\\n",
       "\t 1         & 1946.088  & 169.01210 & 1861.582  & 2030.594  & 1        \\\\\n",
       "\t 2         & 1677.167  & 159.32135 & 1597.506  & 1756.827  & 2        \\\\\n",
       "\t 3         & 1502.650  &  97.44472 & 1453.928  & 1551.372  & 3        \\\\\n",
       "\t 4         & 1639.612  & 172.77521 & 1553.224  & 1725.999  & 4        \\\\\n",
       "\t 5         & 1526.050  & 141.10220 & 1455.499  & 1596.601  & 5        \\\\\n",
       "\\end{tabular}\n"
      ],
      "text/markdown": [
       "\n",
       "block | y | se | lower_bound | upper_bound | x | \n",
       "|---|---|---|---|---|---|\n",
       "| 0         | 2669.345  | 264.27507 | 2537.207  | 2801.483  | 0         | \n",
       "| 1         | 1946.088  | 169.01210 | 1861.582  | 2030.594  | 1         | \n",
       "| 2         | 1677.167  | 159.32135 | 1597.506  | 1756.827  | 2         | \n",
       "| 3         | 1502.650  |  97.44472 | 1453.928  | 1551.372  | 3         | \n",
       "| 4         | 1639.612  | 172.77521 | 1553.224  | 1725.999  | 4         | \n",
       "| 5         | 1526.050  | 141.10220 | 1455.499  | 1596.601  | 5         | \n",
       "\n",
       "\n"
      ],
      "text/plain": [
       "  block y        se        lower_bound upper_bound x\n",
       "1 0     2669.345 264.27507 2537.207    2801.483    0\n",
       "2 1     1946.088 169.01210 1861.582    2030.594    1\n",
       "3 2     1677.167 159.32135 1597.506    1756.827    2\n",
       "4 3     1502.650  97.44472 1453.928    1551.372    3\n",
       "5 4     1639.612 172.77521 1553.224    1725.999    4\n",
       "6 5     1526.050 141.10220 1455.499    1596.601    5"
      ]
     },
     "metadata": {},
     "output_type": "display_data"
    }
   ],
   "source": [
    "response_times <- dat %>%\n",
    "                    group_by(id, block) %>%\n",
    "                    summarize(subject_rt_mean = mean(rt)) %>% # per subject per block\n",
    "                    group_by(block) %>%\n",
    "                    summarize(y = mean(subject_rt_mean),\n",
    "                              se = se(subject_rt_mean)) %>%\n",
    "                    mutate(lower_bound = y - se/2, \n",
    "                           upper_bound = y + se/2, \n",
    "                           x=block)\n",
    "\n",
    "response_times"
   ]
  },
  {
   "cell_type": "code",
   "execution_count": 23,
   "metadata": {
    "collapsed": true
   },
   "outputs": [],
   "source": [
    "p1 = bar_graph(response_times)"
   ]
  },
  {
   "cell_type": "markdown",
   "metadata": {},
   "source": [
    "### Only known doors: response times"
   ]
  },
  {
   "cell_type": "code",
   "execution_count": 24,
   "metadata": {},
   "outputs": [
    {
     "data": {
      "text/html": [
       "<table>\n",
       "<thead><tr><th scope=col>block</th><th scope=col>y</th><th scope=col>se</th><th scope=col>lower_bound</th><th scope=col>upper_bound</th><th scope=col>x</th></tr></thead>\n",
       "<tbody>\n",
       "\t<tr><td>0        </td><td>2508.158 </td><td>279.74501</td><td>2368.286 </td><td>2648.031 </td><td>0        </td></tr>\n",
       "\t<tr><td>1        </td><td>1831.096 </td><td>170.13779</td><td>1746.027 </td><td>1916.165 </td><td>1        </td></tr>\n",
       "\t<tr><td>2        </td><td>1488.537 </td><td> 97.91346</td><td>1439.581 </td><td>1537.494 </td><td>2        </td></tr>\n",
       "\t<tr><td>3        </td><td>1309.483 </td><td> 86.42481</td><td>1266.271 </td><td>1352.696 </td><td>3        </td></tr>\n",
       "\t<tr><td>4        </td><td>1537.992 </td><td>168.83033</td><td>1453.577 </td><td>1622.407 </td><td>4        </td></tr>\n",
       "\t<tr><td>5        </td><td>1319.933 </td><td>100.72531</td><td>1269.571 </td><td>1370.296 </td><td>5        </td></tr>\n",
       "</tbody>\n",
       "</table>\n"
      ],
      "text/latex": [
       "\\begin{tabular}{r|llllll}\n",
       " block & y & se & lower\\_bound & upper\\_bound & x\\\\\n",
       "\\hline\n",
       "\t 0         & 2508.158  & 279.74501 & 2368.286  & 2648.031  & 0        \\\\\n",
       "\t 1         & 1831.096  & 170.13779 & 1746.027  & 1916.165  & 1        \\\\\n",
       "\t 2         & 1488.537  &  97.91346 & 1439.581  & 1537.494  & 2        \\\\\n",
       "\t 3         & 1309.483  &  86.42481 & 1266.271  & 1352.696  & 3        \\\\\n",
       "\t 4         & 1537.992  & 168.83033 & 1453.577  & 1622.407  & 4        \\\\\n",
       "\t 5         & 1319.933  & 100.72531 & 1269.571  & 1370.296  & 5        \\\\\n",
       "\\end{tabular}\n"
      ],
      "text/markdown": [
       "\n",
       "block | y | se | lower_bound | upper_bound | x | \n",
       "|---|---|---|---|---|---|\n",
       "| 0         | 2508.158  | 279.74501 | 2368.286  | 2648.031  | 0         | \n",
       "| 1         | 1831.096  | 170.13779 | 1746.027  | 1916.165  | 1         | \n",
       "| 2         | 1488.537  |  97.91346 | 1439.581  | 1537.494  | 2         | \n",
       "| 3         | 1309.483  |  86.42481 | 1266.271  | 1352.696  | 3         | \n",
       "| 4         | 1537.992  | 168.83033 | 1453.577  | 1622.407  | 4         | \n",
       "| 5         | 1319.933  | 100.72531 | 1269.571  | 1370.296  | 5         | \n",
       "\n",
       "\n"
      ],
      "text/plain": [
       "  block y        se        lower_bound upper_bound x\n",
       "1 0     2508.158 279.74501 2368.286    2648.031    0\n",
       "2 1     1831.096 170.13779 1746.027    1916.165    1\n",
       "3 2     1488.537  97.91346 1439.581    1537.494    2\n",
       "4 3     1309.483  86.42481 1266.271    1352.696    3\n",
       "5 4     1537.992 168.83033 1453.577    1622.407    4\n",
       "6 5     1319.933 100.72531 1269.571    1370.296    5"
      ]
     },
     "metadata": {},
     "output_type": "display_data"
    }
   ],
   "source": [
    "response_times <- dat %>%\n",
    "                    filter(unknown_door_involved == FALSE) %>%\n",
    "                    group_by(id, block) %>%\n",
    "                    summarize(subject_rt_mean = mean(rt)) %>% # per subject per block\n",
    "                    group_by(block) %>%\n",
    "                    summarize(y = mean(subject_rt_mean),\n",
    "                              se = se(subject_rt_mean)) %>%\n",
    "                    mutate(lower_bound = y - se/2, \n",
    "                           upper_bound = y + se/2, \n",
    "                           x=block)\n",
    "\n",
    "response_times"
   ]
  },
  {
   "cell_type": "code",
   "execution_count": 25,
   "metadata": {
    "collapsed": true
   },
   "outputs": [],
   "source": [
    "p2 = bar_graph(response_times)"
   ]
  },
  {
   "cell_type": "markdown",
   "metadata": {},
   "source": [
    "### Individual response times"
   ]
  },
  {
   "cell_type": "code",
   "execution_count": 26,
   "metadata": {},
   "outputs": [
    {
     "data": {
      "text/html": [
       "<table>\n",
       "<thead><tr><th scope=col>id</th><th scope=col>y</th><th scope=col>se</th><th scope=col>lower_bound</th><th scope=col>upper_bound</th><th scope=col>x</th></tr></thead>\n",
       "<tbody>\n",
       "\t<tr><td>1        </td><td>1271.289 </td><td> 55.19251</td><td>1243.693 </td><td>1298.885 </td><td>1        </td></tr>\n",
       "\t<tr><td>10       </td><td>1646.694 </td><td>103.07848</td><td>1595.155 </td><td>1698.234 </td><td>10       </td></tr>\n",
       "\t<tr><td>11       </td><td>1531.006 </td><td> 98.10892</td><td>1481.951 </td><td>1580.060 </td><td>11       </td></tr>\n",
       "\t<tr><td>12       </td><td>1385.678 </td><td> 56.26731</td><td>1357.544 </td><td>1413.811 </td><td>12       </td></tr>\n",
       "\t<tr><td>13       </td><td>1118.083 </td><td> 54.24746</td><td>1090.960 </td><td>1145.207 </td><td>13       </td></tr>\n",
       "\t<tr><td>14       </td><td>2123.867 </td><td>164.74162</td><td>2041.496 </td><td>2206.237 </td><td>14       </td></tr>\n",
       "</tbody>\n",
       "</table>\n"
      ],
      "text/latex": [
       "\\begin{tabular}{r|llllll}\n",
       " id & y & se & lower\\_bound & upper\\_bound & x\\\\\n",
       "\\hline\n",
       "\t 1         & 1271.289  &  55.19251 & 1243.693  & 1298.885  & 1        \\\\\n",
       "\t 10        & 1646.694  & 103.07848 & 1595.155  & 1698.234  & 10       \\\\\n",
       "\t 11        & 1531.006  &  98.10892 & 1481.951  & 1580.060  & 11       \\\\\n",
       "\t 12        & 1385.678  &  56.26731 & 1357.544  & 1413.811  & 12       \\\\\n",
       "\t 13        & 1118.083  &  54.24746 & 1090.960  & 1145.207  & 13       \\\\\n",
       "\t 14        & 2123.867  & 164.74162 & 2041.496  & 2206.237  & 14       \\\\\n",
       "\\end{tabular}\n"
      ],
      "text/markdown": [
       "\n",
       "id | y | se | lower_bound | upper_bound | x | \n",
       "|---|---|---|---|---|---|\n",
       "| 1         | 1271.289  |  55.19251 | 1243.693  | 1298.885  | 1         | \n",
       "| 10        | 1646.694  | 103.07848 | 1595.155  | 1698.234  | 10        | \n",
       "| 11        | 1531.006  |  98.10892 | 1481.951  | 1580.060  | 11        | \n",
       "| 12        | 1385.678  |  56.26731 | 1357.544  | 1413.811  | 12        | \n",
       "| 13        | 1118.083  |  54.24746 | 1090.960  | 1145.207  | 13        | \n",
       "| 14        | 2123.867  | 164.74162 | 2041.496  | 2206.237  | 14        | \n",
       "\n",
       "\n"
      ],
      "text/plain": [
       "  id y        se        lower_bound upper_bound x \n",
       "1 1  1271.289  55.19251 1243.693    1298.885    1 \n",
       "2 10 1646.694 103.07848 1595.155    1698.234    10\n",
       "3 11 1531.006  98.10892 1481.951    1580.060    11\n",
       "4 12 1385.678  56.26731 1357.544    1413.811    12\n",
       "5 13 1118.083  54.24746 1090.960    1145.207    13\n",
       "6 14 2123.867 164.74162 2041.496    2206.237    14"
      ]
     },
     "metadata": {},
     "output_type": "display_data"
    }
   ],
   "source": [
    "response_times <- dat %>%\n",
    "                    group_by(id) %>%\n",
    "                    summarize(y = mean(rt),\n",
    "                              se = se(rt))  %>%\n",
    "                    mutate(lower_bound = y - se/2, \n",
    "                           upper_bound = y + se/2, \n",
    "                           x=id)\n",
    "\n",
    "head(response_times)"
   ]
  },
  {
   "cell_type": "markdown",
   "metadata": {},
   "source": [
    "#### Separated between those decisions that involved unknown doors and those that did not"
   ]
  },
  {
   "cell_type": "code",
   "execution_count": 27,
   "metadata": {},
   "outputs": [
    {
     "data": {
      "text/html": [
       "<table>\n",
       "<thead><tr><th scope=col>id</th><th scope=col>unknown_door_involved</th><th scope=col>y</th><th scope=col>se</th><th scope=col>lower_bound</th><th scope=col>upper_bound</th><th scope=col>x</th></tr></thead>\n",
       "<tbody>\n",
       "\t<tr><td>1        </td><td>FALSE    </td><td>1170.347 </td><td> 78.77117</td><td>1130.962 </td><td>1209.733 </td><td>1 FALSE  </td></tr>\n",
       "\t<tr><td>1        </td><td> TRUE    </td><td>1338.583 </td><td> 75.11780</td><td>1301.024 </td><td>1376.142 </td><td>1 TRUE   </td></tr>\n",
       "\t<tr><td>2        </td><td>FALSE    </td><td>1517.417 </td><td>136.02304</td><td>1449.405 </td><td>1585.428 </td><td>2 FALSE  </td></tr>\n",
       "\t<tr><td>2        </td><td> TRUE    </td><td>1719.407 </td><td>109.75263</td><td>1664.531 </td><td>1774.284 </td><td>2 TRUE   </td></tr>\n",
       "\t<tr><td>4        </td><td>FALSE    </td><td>1478.333 </td><td> 77.39547</td><td>1439.636 </td><td>1517.031 </td><td>4 FALSE  </td></tr>\n",
       "\t<tr><td>4        </td><td> TRUE    </td><td>1541.454 </td><td> 69.33742</td><td>1506.785 </td><td>1576.122 </td><td>4 TRUE   </td></tr>\n",
       "</tbody>\n",
       "</table>\n"
      ],
      "text/latex": [
       "\\begin{tabular}{r|lllllll}\n",
       " id & unknown\\_door\\_involved & y & se & lower\\_bound & upper\\_bound & x\\\\\n",
       "\\hline\n",
       "\t 1         & FALSE     & 1170.347  &  78.77117 & 1130.962  & 1209.733  & 1 FALSE  \\\\\n",
       "\t 1         &  TRUE     & 1338.583  &  75.11780 & 1301.024  & 1376.142  & 1 TRUE   \\\\\n",
       "\t 2         & FALSE     & 1517.417  & 136.02304 & 1449.405  & 1585.428  & 2 FALSE  \\\\\n",
       "\t 2         &  TRUE     & 1719.407  & 109.75263 & 1664.531  & 1774.284  & 2 TRUE   \\\\\n",
       "\t 4         & FALSE     & 1478.333  &  77.39547 & 1439.636  & 1517.031  & 4 FALSE  \\\\\n",
       "\t 4         &  TRUE     & 1541.454  &  69.33742 & 1506.785  & 1576.122  & 4 TRUE   \\\\\n",
       "\\end{tabular}\n"
      ],
      "text/markdown": [
       "\n",
       "id | unknown_door_involved | y | se | lower_bound | upper_bound | x | \n",
       "|---|---|---|---|---|---|\n",
       "| 1         | FALSE     | 1170.347  |  78.77117 | 1130.962  | 1209.733  | 1 FALSE   | \n",
       "| 1         |  TRUE     | 1338.583  |  75.11780 | 1301.024  | 1376.142  | 1 TRUE    | \n",
       "| 2         | FALSE     | 1517.417  | 136.02304 | 1449.405  | 1585.428  | 2 FALSE   | \n",
       "| 2         |  TRUE     | 1719.407  | 109.75263 | 1664.531  | 1774.284  | 2 TRUE    | \n",
       "| 4         | FALSE     | 1478.333  |  77.39547 | 1439.636  | 1517.031  | 4 FALSE   | \n",
       "| 4         |  TRUE     | 1541.454  |  69.33742 | 1506.785  | 1576.122  | 4 TRUE    | \n",
       "\n",
       "\n"
      ],
      "text/plain": [
       "  id unknown_door_involved y        se        lower_bound upper_bound x      \n",
       "1 1  FALSE                 1170.347  78.77117 1130.962    1209.733    1 FALSE\n",
       "2 1   TRUE                 1338.583  75.11780 1301.024    1376.142    1 TRUE \n",
       "3 2  FALSE                 1517.417 136.02304 1449.405    1585.428    2 FALSE\n",
       "4 2   TRUE                 1719.407 109.75263 1664.531    1774.284    2 TRUE \n",
       "5 4  FALSE                 1478.333  77.39547 1439.636    1517.031    4 FALSE\n",
       "6 4   TRUE                 1541.454  69.33742 1506.785    1576.122    4 TRUE "
      ]
     },
     "metadata": {},
     "output_type": "display_data"
    }
   ],
   "source": [
    "response_times <- dat %>%\n",
    "                    filter(id==1 | id==2 | id==4) %>%\n",
    "                    group_by(id, unknown_door_involved) %>%\n",
    "                    summarize(y = mean(rt),\n",
    "                              se = se(rt))  %>%\n",
    "                    mutate(lower_bound = y - se/2, \n",
    "                           upper_bound = y + se/2, \n",
    "                           x=paste(id, unknown_door_involved))\n",
    "\n",
    "head(response_times)"
   ]
  },
  {
   "cell_type": "markdown",
   "metadata": {
    "collapsed": true
   },
   "source": [
    "# Explore"
   ]
  },
  {
   "cell_type": "code",
   "execution_count": 28,
   "metadata": {},
   "outputs": [
    {
     "data": {
      "text/html": [
       "<table>\n",
       "<thead><tr><th scope=col>left_door</th><th scope=col>right_door</th><th scope=col>rt</th><th scope=col>key_pressed</th><th scope=col>block_level_1_fc</th><th scope=col>block</th><th scope=col>id</th><th scope=col>experiment</th><th scope=col>chosen_door</th><th scope=col>left_speed</th><th scope=col>left_safety</th><th scope=col>right_speed</th><th scope=col>right_safety</th><th scope=col>chosen_speed</th><th scope=col>chosen_safety</th><th scope=col>steps_ttb_speed</th><th scope=col>steps_ttb_safety</th><th scope=col>chosen_door_is_unknown</th><th scope=col>chosen_ttb_speed</th><th scope=col>chosen_ttb_safety</th></tr></thead>\n",
       "<tbody>\n",
       "\t<tr><td>door005</td><td>door001</td><td>1063   </td><td>left   </td><td>1      </td><td>0      </td><td>1      </td><td>A      </td><td>door005</td><td>-1     </td><td> 1     </td><td> 1     </td><td>-1     </td><td>-1     </td><td>1      </td><td>1      </td><td>1      </td><td>FALSE  </td><td>right  </td><td>left   </td></tr>\n",
       "\t<tr><td>door001</td><td>door005</td><td>1587   </td><td>right  </td><td>1      </td><td>0      </td><td>1      </td><td>A      </td><td>door005</td><td> 1     </td><td>-1     </td><td>-1     </td><td> 1     </td><td>-1     </td><td>1      </td><td>1      </td><td>1      </td><td>FALSE  </td><td>left   </td><td>right  </td></tr>\n",
       "\t<tr><td>door007</td><td>door011</td><td> 610   </td><td>right  </td><td>2      </td><td>1      </td><td>1      </td><td>A      </td><td>door011</td><td> 1     </td><td>-1     </td><td>-1     </td><td> 1     </td><td>-1     </td><td>1      </td><td>1      </td><td>1      </td><td>FALSE  </td><td>left   </td><td>right  </td></tr>\n",
       "\t<tr><td>door011</td><td>door007</td><td> 828   </td><td>left   </td><td>2      </td><td>1      </td><td>1      </td><td>A      </td><td>door011</td><td>-1     </td><td> 1     </td><td> 1     </td><td>-1     </td><td>-1     </td><td>1      </td><td>1      </td><td>1      </td><td>FALSE  </td><td>right  </td><td>left   </td></tr>\n",
       "\t<tr><td>door017</td><td>door013</td><td> 797   </td><td>left   </td><td>3      </td><td>2      </td><td>1      </td><td>A      </td><td>door017</td><td>-1     </td><td> 1     </td><td> 1     </td><td>-1     </td><td>-1     </td><td>1      </td><td>1      </td><td>1      </td><td>FALSE  </td><td>right  </td><td>left   </td></tr>\n",
       "\t<tr><td>door013</td><td>door017</td><td> 557   </td><td>right  </td><td>3      </td><td>2      </td><td>1      </td><td>A      </td><td>door017</td><td> 1     </td><td>-1     </td><td>-1     </td><td> 1     </td><td>-1     </td><td>1      </td><td>1      </td><td>1      </td><td>FALSE  </td><td>left   </td><td>right  </td></tr>\n",
       "</tbody>\n",
       "</table>\n"
      ],
      "text/latex": [
       "\\begin{tabular}{r|llllllllllllllllllll}\n",
       " left\\_door & right\\_door & rt & key\\_pressed & block\\_level\\_1\\_fc & block & id & experiment & chosen\\_door & left\\_speed & left\\_safety & right\\_speed & right\\_safety & chosen\\_speed & chosen\\_safety & steps\\_ttb\\_speed & steps\\_ttb\\_safety & chosen\\_door\\_is\\_unknown & chosen\\_ttb\\_speed & chosen\\_ttb\\_safety\\\\\n",
       "\\hline\n",
       "\t door005 & door001 & 1063    & left    & 1       & 0       & 1       & A       & door005 & -1      &  1      &  1      & -1      & -1      & 1       & 1       & 1       & FALSE   & right   & left   \\\\\n",
       "\t door001 & door005 & 1587    & right   & 1       & 0       & 1       & A       & door005 &  1      & -1      & -1      &  1      & -1      & 1       & 1       & 1       & FALSE   & left    & right  \\\\\n",
       "\t door007 & door011 &  610    & right   & 2       & 1       & 1       & A       & door011 &  1      & -1      & -1      &  1      & -1      & 1       & 1       & 1       & FALSE   & left    & right  \\\\\n",
       "\t door011 & door007 &  828    & left    & 2       & 1       & 1       & A       & door011 & -1      &  1      &  1      & -1      & -1      & 1       & 1       & 1       & FALSE   & right   & left   \\\\\n",
       "\t door017 & door013 &  797    & left    & 3       & 2       & 1       & A       & door017 & -1      &  1      &  1      & -1      & -1      & 1       & 1       & 1       & FALSE   & right   & left   \\\\\n",
       "\t door013 & door017 &  557    & right   & 3       & 2       & 1       & A       & door017 &  1      & -1      & -1      &  1      & -1      & 1       & 1       & 1       & FALSE   & left    & right  \\\\\n",
       "\\end{tabular}\n"
      ],
      "text/markdown": [
       "\n",
       "left_door | right_door | rt | key_pressed | block_level_1_fc | block | id | experiment | chosen_door | left_speed | left_safety | right_speed | right_safety | chosen_speed | chosen_safety | steps_ttb_speed | steps_ttb_safety | chosen_door_is_unknown | chosen_ttb_speed | chosen_ttb_safety | \n",
       "|---|---|---|---|---|---|\n",
       "| door005 | door001 | 1063    | left    | 1       | 0       | 1       | A       | door005 | -1      |  1      |  1      | -1      | -1      | 1       | 1       | 1       | FALSE   | right   | left    | \n",
       "| door001 | door005 | 1587    | right   | 1       | 0       | 1       | A       | door005 |  1      | -1      | -1      |  1      | -1      | 1       | 1       | 1       | FALSE   | left    | right   | \n",
       "| door007 | door011 |  610    | right   | 2       | 1       | 1       | A       | door011 |  1      | -1      | -1      |  1      | -1      | 1       | 1       | 1       | FALSE   | left    | right   | \n",
       "| door011 | door007 |  828    | left    | 2       | 1       | 1       | A       | door011 | -1      |  1      |  1      | -1      | -1      | 1       | 1       | 1       | FALSE   | right   | left    | \n",
       "| door017 | door013 |  797    | left    | 3       | 2       | 1       | A       | door017 | -1      |  1      |  1      | -1      | -1      | 1       | 1       | 1       | FALSE   | right   | left    | \n",
       "| door013 | door017 |  557    | right   | 3       | 2       | 1       | A       | door017 |  1      | -1      | -1      |  1      | -1      | 1       | 1       | 1       | FALSE   | left    | right   | \n",
       "\n",
       "\n"
      ],
      "text/plain": [
       "  left_door right_door rt   key_pressed block_level_1_fc block id experiment\n",
       "1 door005   door001    1063 left        1                0     1  A         \n",
       "2 door001   door005    1587 right       1                0     1  A         \n",
       "3 door007   door011     610 right       2                1     1  A         \n",
       "4 door011   door007     828 left        2                1     1  A         \n",
       "5 door017   door013     797 left        3                2     1  A         \n",
       "6 door013   door017     557 right       3                2     1  A         \n",
       "  chosen_door left_speed left_safety right_speed right_safety chosen_speed\n",
       "1 door005     -1          1           1          -1           -1          \n",
       "2 door005      1         -1          -1           1           -1          \n",
       "3 door011      1         -1          -1           1           -1          \n",
       "4 door011     -1          1           1          -1           -1          \n",
       "5 door017     -1          1           1          -1           -1          \n",
       "6 door017      1         -1          -1           1           -1          \n",
       "  chosen_safety steps_ttb_speed steps_ttb_safety chosen_door_is_unknown\n",
       "1 1             1               1                FALSE                 \n",
       "2 1             1               1                FALSE                 \n",
       "3 1             1               1                FALSE                 \n",
       "4 1             1               1                FALSE                 \n",
       "5 1             1               1                FALSE                 \n",
       "6 1             1               1                FALSE                 \n",
       "  chosen_ttb_speed chosen_ttb_safety\n",
       "1 right            left             \n",
       "2 left             right            \n",
       "3 left             right            \n",
       "4 right            left             \n",
       "5 right            left             \n",
       "6 left             right            "
      ]
     },
     "metadata": {},
     "output_type": "display_data"
    }
   ],
   "source": [
    "dat %>%\n",
    "    select(-KEY_RESPONSE_TIME, -DISPLAY_TIME, -row_id, -unknown_door_involved) %>%\n",
    "    filter(chosen_ttb_speed != chosen_ttb_safety) %>%\n",
    "    head"
   ]
  },
  {
   "cell_type": "code",
   "execution_count": null,
   "metadata": {
    "collapsed": true
   },
   "outputs": [],
   "source": []
  },
  {
   "cell_type": "code",
   "execution_count": null,
   "metadata": {
    "collapsed": true
   },
   "outputs": [],
   "source": []
  }
 ],
 "metadata": {
  "kernelspec": {
   "display_name": "R",
   "language": "R",
   "name": "ir"
  },
  "language_info": {
   "codemirror_mode": "r",
   "file_extension": ".r",
   "mimetype": "text/x-r-source",
   "name": "R",
   "pygments_lexer": "r",
   "version": "3.3.1"
  }
 },
 "nbformat": 4,
 "nbformat_minor": 2
}
