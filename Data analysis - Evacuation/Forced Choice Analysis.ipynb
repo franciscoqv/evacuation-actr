{
 "cells": [
  {
   "cell_type": "markdown",
   "metadata": {},
   "source": [
    "# Libraries"
   ]
  },
  {
   "cell_type": "code",
   "execution_count": 117,
   "metadata": {},
   "outputs": [],
   "source": [
    "library(plyr)\n",
    "\n",
    "library(tidyverse)\n",
    "library(DT) # dependency\n",
    "library(ggthemes) # dependency"
   ]
  },
  {
   "cell_type": "code",
   "execution_count": 118,
   "metadata": {
    "collapsed": true
   },
   "outputs": [],
   "source": [
    "source(\"tools.R\") # Ad-hoc tools"
   ]
  },
  {
   "cell_type": "markdown",
   "metadata": {},
   "source": [
    "# General variables and functions"
   ]
  },
  {
   "cell_type": "code",
   "execution_count": 119,
   "metadata": {
    "collapsed": true
   },
   "outputs": [],
   "source": [
    "se <- function(x) {\n",
    "    sd(x)/sqrt(length(x))\n",
    "}\n",
    "\n",
    "bar_graph <- function(plot_data) {\n",
    "    plot_data %>%\n",
    "        ggplot(aes(x=x, y=y))+\n",
    "        geom_bar(stat=\"identity\", position=position_dodge()) +\n",
    "        geom_errorbar(aes(ymin=lower_bound, ymax=upper_bound),\n",
    "                      position=position_dodge(.9),\n",
    "                      width=0.2 )\n",
    "}\n",
    "\n",
    "decimals <- 2 # for rounding"
   ]
  },
  {
   "cell_type": "markdown",
   "metadata": {},
   "source": [
    "# Import data"
   ]
  },
  {
   "cell_type": "code",
   "execution_count": 120,
   "metadata": {
    "collapsed": true
   },
   "outputs": [],
   "source": [
    "directory <- \"Data January 2017/\"\n",
    "\n",
    "dat <- get_fc_table(directory)"
   ]
  },
  {
   "cell_type": "markdown",
   "metadata": {},
   "source": [
    "### Data mutation"
   ]
  },
  {
   "cell_type": "code",
   "execution_count": 121,
   "metadata": {},
   "outputs": [],
   "source": [
    "# Change column names\n",
    "colnames(dat) <- c( \"row_id\",\n",
    "                    \"left_door\",\n",
    "                    \"right_door\",\n",
    "                    \"rt\",\n",
    "                    \"KEY_RESPONSE_TIME\",\n",
    "                    \"DISPLAY_TIME\", \n",
    "                    \"key_pressed\",\n",
    "                    \"block_level_1_fc\",\n",
    "                    \"block\",\n",
    "                    \"id\",\n",
    "                    \"experiment\" )\n",
    "\n",
    "\n",
    "# Remove \".jpg\" of the doors' names; Change {f,j} to {left, right}; Add chosen_door column\n",
    "dat <- dat %>%\n",
    "    mutate(left_door = substr(left_door, 0, 7), \n",
    "           right_door = substr(right_door, 0, 7),\n",
    "           key_pressed = ifelse(key_pressed=='f', 'left', 'right'), \n",
    "           chosen_door = ifelse(key_pressed=='left', left_door, right_door)) "
   ]
  },
  {
   "cell_type": "markdown",
   "metadata": {},
   "source": [
    "Cue values"
   ]
  },
  {
   "cell_type": "code",
   "execution_count": 122,
   "metadata": {
    "collapsed": true,
    "scrolled": true
   },
   "outputs": [],
   "source": [
    "for(index in 1:length(dat$id)){\n",
    "    dat$left_speed[index] <- get_cues(dat$experiment[index], dat$left_door[index])[1]\n",
    "    dat$left_safety[index] <- get_cues(dat$experiment[index], dat$left_door[index])[2]\n",
    "    \n",
    "    dat$right_speed[index] <- get_cues(dat$experiment[index], dat$right_door[index])[1]\n",
    "    dat$right_safety[index] <- get_cues(dat$experiment[index], dat$right_door[index])[2]\n",
    "    \n",
    "    dat$chosen_speed[index] <- get_cues(dat$experiment[index], dat$chosen_door[index])[1]\n",
    "    dat$chosen_safety[index] <- get_cues(dat$experiment[index], dat$chosen_door[index])[2]\n",
    "}"
   ]
  },
  {
   "cell_type": "markdown",
   "metadata": {},
   "source": [
    "Add final columns"
   ]
  },
  {
   "cell_type": "code",
   "execution_count": 123,
   "metadata": {
    "collapsed": true
   },
   "outputs": [],
   "source": [
    "# Number of cues to check\n",
    "dat <- dat %>%\n",
    "    mutate(steps_ttb_speed = ifelse(left_speed == right_speed, 2, 1),\n",
    "           steps_ttb_safety = ifelse(left_safety == right_safety, 2, 1),\n",
    "           unknown_door_involved = (left_speed == 0 | right_speed ==0),\n",
    "           chosen_door_is_unknown = (chosen_speed == 0) ) # Checking one cue is enough"
   ]
  },
  {
   "cell_type": "code",
   "execution_count": 124,
   "metadata": {},
   "outputs": [],
   "source": [
    "# ASSUMPTION: when an unknown door is involved, the decision takes 1 step\n",
    "dat[dat$unknown_door_involved==TRUE, ]$steps_ttb_speed <- 1\n",
    "dat[dat$unknown_door_involved==TRUE, ]$steps_ttb_safety <- 1"
   ]
  },
  {
   "cell_type": "markdown",
   "metadata": {},
   "source": [
    "Now that we have the cue values, we can calculate the **predicted** decisions"
   ]
  },
  {
   "cell_type": "code",
   "execution_count": 125,
   "metadata": {
    "collapsed": true
   },
   "outputs": [],
   "source": [
    "# Choice per TTB.\n",
    "# ASSUMPTION: unknown door is never chosen\n",
    "\n",
    "## TTB Speed\n",
    "\n",
    "dat[!dat$unknown_door_involved & dat$left_speed > dat$right_speed, 'chosen_ttb_speed'] <- 'left'\n",
    "\n",
    "dat[!dat$unknown_door_involved & dat$left_speed < dat$right_speed, 'chosen_ttb_speed'] <- 'right'\n",
    "\n",
    "dat[!dat$unknown_door_involved & dat$left_speed == dat$right_speed & dat$left_safety > dat$right_safety, 'chosen_ttb_speed'] <- 'left'\n",
    "\n",
    "dat[!dat$unknown_door_involved & dat$left_speed == dat$right_speed & dat$left_safety < dat$right_safety, 'chosen_ttb_speed'] <- 'right'\n",
    "\n",
    "dat[dat$unknown_door_involved & dat$left_speed == 0 , 'chosen_ttb_speed'] <- 'right'\n",
    "\n",
    "dat[dat$unknown_door_involved & dat$right_speed == 0 , 'chosen_ttb_speed'] <- 'left'\n",
    "\n",
    "\n",
    "## TTB Safety\n",
    "\n",
    "dat[!dat$unknown_door_involved & dat$left_safety > dat$right_safety, 'chosen_ttb_safety'] <- 'left'\n",
    "\n",
    "dat[!dat$unknown_door_involved & dat$left_safety < dat$right_safety, 'chosen_ttb_safety'] <- 'right'\n",
    "\n",
    "dat[!dat$unknown_door_involved & dat$left_safety == dat$right_safety & dat$left_speed > dat$right_speed, 'chosen_ttb_safety'] <- 'left'\n",
    "\n",
    "dat[!dat$unknown_door_involved & dat$left_safety == dat$right_safety & dat$left_speed < dat$right_speed, 'chosen_ttb_safety'] <- 'right'\n",
    "\n",
    "dat[dat$unknown_door_involved & dat$left_safety == 0 , 'chosen_ttb_safety'] <- 'right'\n",
    "\n",
    "dat[dat$unknown_door_involved & dat$right_safety == 0 , 'chosen_ttb_safety'] <- 'left'"
   ]
  },
  {
   "cell_type": "code",
   "execution_count": 126,
   "metadata": {
    "collapsed": true
   },
   "outputs": [],
   "source": [
    "# When choices are equivalent, the predicted choice is unknown\n",
    "dat$equivalent_options = FALSE\n",
    "\n",
    "dat[dat$right_speed == dat$left_speed & dat$right_safety == dat$left_safety, 'equivalent_options'] <- TRUE\n",
    "\n",
    "dat[dat$equivalent_options == TRUE, 'chosen_ttb_safety'] <- 'unknown'\n",
    "dat[dat$equivalent_options == TRUE, 'chosen_ttb_speed'] <- 'unknown'"
   ]
  },
  {
   "cell_type": "markdown",
   "metadata": {},
   "source": [
    "\n",
    "\n",
    "\n",
    "\n",
    "\n"
   ]
  },
  {
   "cell_type": "markdown",
   "metadata": {},
   "source": [
    "# Import ACT-R data"
   ]
  },
  {
   "cell_type": "code",
   "execution_count": 127,
   "metadata": {},
   "outputs": [
    {
     "name": "stderr",
     "output_type": "stream",
     "text": [
      "Parsed with column specification:\n",
      "cols(\n",
      "  id = col_integer(),\n",
      "  opt1 = col_character(),\n",
      "  opt2 = col_character(),\n",
      "  response = col_character(),\n",
      "  time = col_double(),\n",
      "  threshold = col_integer()\n",
      ")\n"
     ]
    }
   ],
   "source": [
    "agents <- read_csv(\"../ACT-R/outputs/experiment-results.csv\")"
   ]
  },
  {
   "cell_type": "code",
   "execution_count": 128,
   "metadata": {},
   "outputs": [],
   "source": [
    "# Response times\n",
    "agents$rt <- agents$time - c(0, agents$time[1 : length(agents$time) - 1])\n",
    "agents[agents$rt < 0, 'rt'] <- agents[agents$rt < 0, 'time']\n",
    "\n",
    "# Chosen door\n",
    "agents$chosen_door <- ifelse(agents$response == 'f', agents$opt1, agents$opt2)\n",
    "\n",
    "#################\n",
    "\n",
    "# Corrected TTB Safety (CSfM predictions)\n",
    "agents$csfm <- \"unknown\"\n",
    "\n",
    "# A is always superior\n",
    "agents$csfm <- ifelse(agents$opt1 == \"a\" | agents$opt2 == \"a\", \"a\", agents$csfm)\n",
    "\n",
    "# Option B\n",
    "agents$csfm <- ifelse(agents$csfm == \"unknown\" & (agents$opt1 == \"b\" | agents$opt2 == \"b\"), \"b\", agents$csfm)\n",
    "\n",
    "# C vs D, wins C\n",
    "agents$csfm <- ifelse(agents$opt1 == \"c\" & agents$opt2 == \"d\", \"c\", agents$csfm)\n",
    "agents$csfm <- ifelse(agents$opt1 == \"d\" & agents$opt2 == \"c\", \"c\", agents$csfm)\n",
    "\n",
    "# C or D versus unknown\n",
    "agents$csfm <- ifelse(agents$csfm == \"unknown\" & (agents$opt1 == \"c\" | agents$opt1 == \"d\"), agents$opt2, agents$csfm)\n",
    "agents$csfm <- ifelse(agents$csfm == \"unknown\" & (agents$opt2 == \"c\" | agents$opt2 == \"d\"), agents$opt1, agents$csfm)"
   ]
  },
  {
   "cell_type": "code",
   "execution_count": 129,
   "metadata": {
    "collapsed": true
   },
   "outputs": [],
   "source": [
    "# Unknown door involved\n",
    "agents$unknown_door_involved <- ( (agents$opt1 != 'a' & agents$opt1 != 'b' & agents$opt1 != 'c' & agents$opt1 != 'd') | \n",
    "                                  (agents$opt2 != 'a' & agents$opt2 != 'b' & agents$opt2 != 'c' & agents$opt2 != 'd') )\n",
    "\n",
    "# Equivalent alternatives\n",
    "agents$equivalent_options <- agents$csfm == \"unknown\"\n",
    "\n",
    "# STEPS:\n",
    "## Default is 1\n",
    "agents$steps_ttb_safety <- 1\n",
    "\n",
    "## 2 steps\n",
    "\n",
    "### A vs B\n",
    "agents$steps_ttb_safety <- ifelse((agents$opt1 == \"a\" & agents$opt2 == \"b\") |\n",
    "                                  (agents$opt1 == \"b\" & agents$opt2 == \"a\"), 2, agents$steps_ttb_safety)\n",
    "\n",
    "### C vs D\n",
    "agents$steps_ttb_safety <- ifelse((agents$opt1 == \"c\" & agents$opt2 == \"d\") |\n",
    "                                  (agents$opt1 == \"d\" & agents$opt2 == \"c\"), 2, agents$steps_ttb_safety)"
   ]
  },
  {
   "cell_type": "markdown",
   "metadata": {},
   "source": [
    "<hr>\n",
    "<hr>"
   ]
  },
  {
   "cell_type": "markdown",
   "metadata": {},
   "source": [
    "# Accordance rates"
   ]
  },
  {
   "cell_type": "markdown",
   "metadata": {},
   "source": [
    "Accordance rate is the proportion of human responses that were correctly predicted"
   ]
  },
  {
   "cell_type": "code",
   "execution_count": 130,
   "metadata": {
    "collapsed": true
   },
   "outputs": [],
   "source": [
    "accordance <- function( data, column ) {\n",
    "    \n",
    "    column <- enquo(column)\n",
    "    \n",
    "    data %>%\n",
    "        mutate( correctly_predicted = (key_pressed == !!column) ) %>%\n",
    "        group_by( id ) %>%\n",
    "        summarize( accordance_rate = mean(correctly_predicted) ) %>%\n",
    "        summarize( accordance_rate_mean = mean(accordance_rate), \n",
    "                   se = se(accordance_rate),\n",
    "                   lower_bound = t.test(accordance_rate, conf.level=0.95)$conf.int[1],\n",
    "                   upper_bound = t.test(accordance_rate, conf.level=0.95)$conf.int[2]) %>%\n",
    "        round( decimals )\n",
    "}"
   ]
  },
  {
   "cell_type": "code",
   "execution_count": 131,
   "metadata": {
    "collapsed": true
   },
   "outputs": [],
   "source": [
    "accordance_actr <- function( data, column ) {\n",
    "    \n",
    "    column <- enquo(column)\n",
    "    \n",
    "    data %>%\n",
    "        mutate( correctly_predicted = (chosen_door == !!column) ) %>%\n",
    "        group_by( id ) %>%\n",
    "        summarize( accordance_rate = mean(correctly_predicted) ) %>%\n",
    "        summarize( accordance_rate_mean = mean(accordance_rate), \n",
    "                   se = se(accordance_rate),\n",
    "                   lower_bound = t.test(accordance_rate, conf.level=0.95)$conf.int[1],\n",
    "                   upper_bound = t.test(accordance_rate, conf.level=0.95)$conf.int[2]) %>%\n",
    "        round( decimals )\n",
    "}"
   ]
  },
  {
   "cell_type": "markdown",
   "metadata": {},
   "source": [
    "### 1. Cases where both models predict the same outcome"
   ]
  },
  {
   "cell_type": "code",
   "execution_count": 219,
   "metadata": {},
   "outputs": [
    {
     "name": "stdout",
     "output_type": "stream",
     "text": [
      "[1] \"Safety\"\n"
     ]
    },
    {
     "data": {
      "text/html": [
       "<table>\n",
       "<thead><tr><th scope=col>accordance_rate_mean</th><th scope=col>se</th><th scope=col>lower_bound</th><th scope=col>upper_bound</th></tr></thead>\n",
       "<tbody>\n",
       "\t<tr><td>0.92</td><td>0.01</td><td>0.89</td><td>0.95</td></tr>\n",
       "</tbody>\n",
       "</table>\n"
      ],
      "text/latex": [
       "\\begin{tabular}{r|llll}\n",
       " accordance\\_rate\\_mean & se & lower\\_bound & upper\\_bound\\\\\n",
       "\\hline\n",
       "\t 0.92 & 0.01 & 0.89 & 0.95\\\\\n",
       "\\end{tabular}\n"
      ],
      "text/markdown": [
       "\n",
       "accordance_rate_mean | se | lower_bound | upper_bound | \n",
       "|---|\n",
       "| 0.92 | 0.01 | 0.89 | 0.95 | \n",
       "\n",
       "\n"
      ],
      "text/plain": [
       "  accordance_rate_mean se   lower_bound upper_bound\n",
       "1 0.92                 0.01 0.89        0.95       "
      ]
     },
     "metadata": {},
     "output_type": "display_data"
    },
    {
     "name": "stdout",
     "output_type": "stream",
     "text": [
      "[1] \"Speed\"\n"
     ]
    },
    {
     "data": {
      "text/html": [
       "<table>\n",
       "<thead><tr><th scope=col>accordance_rate_mean</th><th scope=col>se</th><th scope=col>lower_bound</th><th scope=col>upper_bound</th></tr></thead>\n",
       "<tbody>\n",
       "\t<tr><td>0.92</td><td>0.01</td><td>0.89</td><td>0.95</td></tr>\n",
       "</tbody>\n",
       "</table>\n"
      ],
      "text/latex": [
       "\\begin{tabular}{r|llll}\n",
       " accordance\\_rate\\_mean & se & lower\\_bound & upper\\_bound\\\\\n",
       "\\hline\n",
       "\t 0.92 & 0.01 & 0.89 & 0.95\\\\\n",
       "\\end{tabular}\n"
      ],
      "text/markdown": [
       "\n",
       "accordance_rate_mean | se | lower_bound | upper_bound | \n",
       "|---|\n",
       "| 0.92 | 0.01 | 0.89 | 0.95 | \n",
       "\n",
       "\n"
      ],
      "text/plain": [
       "  accordance_rate_mean se   lower_bound upper_bound\n",
       "1 0.92                 0.01 0.89        0.95       "
      ]
     },
     "metadata": {},
     "output_type": "display_data"
    }
   ],
   "source": [
    "print('Safety')\n",
    "dat %>% \n",
    "    filter( chosen_ttb_speed == chosen_ttb_safety ,\n",
    "            unknown_door_involved == FALSE ,\n",
    "            equivalent_options == FALSE ) %>%\n",
    "    accordance( chosen_ttb_safety )\n",
    "\n",
    "print('Speed')\n",
    "dat %>% \n",
    "    filter( chosen_ttb_speed == chosen_ttb_safety ,\n",
    "            unknown_door_involved == FALSE ,\n",
    "            equivalent_options == FALSE ) %>%\n",
    "    accordance( chosen_ttb_speed )"
   ]
  },
  {
   "cell_type": "markdown",
   "metadata": {},
   "source": [
    "### 2. Cases where both models predict different outcomes"
   ]
  },
  {
   "cell_type": "code",
   "execution_count": 220,
   "metadata": {},
   "outputs": [
    {
     "name": "stdout",
     "output_type": "stream",
     "text": [
      "[1] \"Safety\"\n"
     ]
    },
    {
     "data": {
      "text/html": [
       "<table>\n",
       "<thead><tr><th scope=col>accordance_rate_mean</th><th scope=col>se</th><th scope=col>lower_bound</th><th scope=col>upper_bound</th></tr></thead>\n",
       "<tbody>\n",
       "\t<tr><td>0.96</td><td>0.02</td><td>0.92</td><td>1   </td></tr>\n",
       "</tbody>\n",
       "</table>\n"
      ],
      "text/latex": [
       "\\begin{tabular}{r|llll}\n",
       " accordance\\_rate\\_mean & se & lower\\_bound & upper\\_bound\\\\\n",
       "\\hline\n",
       "\t 0.96 & 0.02 & 0.92 & 1   \\\\\n",
       "\\end{tabular}\n"
      ],
      "text/markdown": [
       "\n",
       "accordance_rate_mean | se | lower_bound | upper_bound | \n",
       "|---|\n",
       "| 0.96 | 0.02 | 0.92 | 1    | \n",
       "\n",
       "\n"
      ],
      "text/plain": [
       "  accordance_rate_mean se   lower_bound upper_bound\n",
       "1 0.96                 0.02 0.92        1          "
      ]
     },
     "metadata": {},
     "output_type": "display_data"
    },
    {
     "name": "stdout",
     "output_type": "stream",
     "text": [
      "[1] \"Speed\"\n"
     ]
    },
    {
     "data": {
      "text/html": [
       "<table>\n",
       "<thead><tr><th scope=col>accordance_rate_mean</th><th scope=col>se</th><th scope=col>lower_bound</th><th scope=col>upper_bound</th></tr></thead>\n",
       "<tbody>\n",
       "\t<tr><td>0.04</td><td>0.02</td><td>0   </td><td>0.08</td></tr>\n",
       "</tbody>\n",
       "</table>\n"
      ],
      "text/latex": [
       "\\begin{tabular}{r|llll}\n",
       " accordance\\_rate\\_mean & se & lower\\_bound & upper\\_bound\\\\\n",
       "\\hline\n",
       "\t 0.04 & 0.02 & 0    & 0.08\\\\\n",
       "\\end{tabular}\n"
      ],
      "text/markdown": [
       "\n",
       "accordance_rate_mean | se | lower_bound | upper_bound | \n",
       "|---|\n",
       "| 0.04 | 0.02 | 0    | 0.08 | \n",
       "\n",
       "\n"
      ],
      "text/plain": [
       "  accordance_rate_mean se   lower_bound upper_bound\n",
       "1 0.04                 0.02 0           0.08       "
      ]
     },
     "metadata": {},
     "output_type": "display_data"
    }
   ],
   "source": [
    "print('Safety')\n",
    "dat %>% \n",
    "    filter( chosen_ttb_speed != chosen_ttb_safety ,\n",
    "            unknown_door_involved == FALSE ,\n",
    "            equivalent_options == FALSE ) %>%\n",
    "    accordance( chosen_ttb_safety )\n",
    "\n",
    "print('Speed')\n",
    "dat %>% \n",
    "    filter( chosen_ttb_speed != chosen_ttb_safety ,\n",
    "            unknown_door_involved == FALSE ,\n",
    "            equivalent_options == FALSE ) %>%\n",
    "    accordance( chosen_ttb_speed )"
   ]
  },
  {
   "cell_type": "markdown",
   "metadata": {},
   "source": [
    "### 3. Both choices are equivalent"
   ]
  },
  {
   "cell_type": "markdown",
   "metadata": {},
   "source": [
    "Rate of 'right' choices. It should be 50%."
   ]
  },
  {
   "cell_type": "code",
   "execution_count": 221,
   "metadata": {},
   "outputs": [
    {
     "data": {
      "text/html": [
       "<table>\n",
       "<thead><tr><th scope=col>selected_right_rate_mean</th><th scope=col>se</th><th scope=col>lower_bound</th><th scope=col>upper_bound</th></tr></thead>\n",
       "<tbody>\n",
       "\t<tr><td>0.55</td><td>0.03</td><td>0.5 </td><td>0.6 </td></tr>\n",
       "</tbody>\n",
       "</table>\n"
      ],
      "text/latex": [
       "\\begin{tabular}{r|llll}\n",
       " selected\\_right\\_rate\\_mean & se & lower\\_bound & upper\\_bound\\\\\n",
       "\\hline\n",
       "\t 0.55 & 0.03 & 0.5  & 0.6 \\\\\n",
       "\\end{tabular}\n"
      ],
      "text/markdown": [
       "\n",
       "selected_right_rate_mean | se | lower_bound | upper_bound | \n",
       "|---|\n",
       "| 0.55 | 0.03 | 0.5  | 0.6  | \n",
       "\n",
       "\n"
      ],
      "text/plain": [
       "  selected_right_rate_mean se   lower_bound upper_bound\n",
       "1 0.55                     0.03 0.5         0.6        "
      ]
     },
     "metadata": {},
     "output_type": "display_data"
    }
   ],
   "source": [
    "dat %>%\n",
    "    filter( equivalent_options == TRUE ) %>%\n",
    "    mutate(selected_right = key_pressed == 'right') %>%\n",
    "    group_by( id ) %>%\n",
    "    summarize( selected_right_rate = mean(selected_right) ) %>%\n",
    "    summarize( selected_right_rate_mean = mean(selected_right_rate), \n",
    "               se = se(selected_right_rate),\n",
    "               lower_bound = t.test(selected_right_rate, conf.level=0.95)$conf.int[1],\n",
    "               upper_bound = t.test(selected_right_rate, conf.level=0.95)$conf.int[2]) %>%\n",
    "    round( decimals )"
   ]
  },
  {
   "cell_type": "markdown",
   "metadata": {},
   "source": [
    "### 4. Unknown door is involved"
   ]
  },
  {
   "cell_type": "code",
   "execution_count": 222,
   "metadata": {},
   "outputs": [
    {
     "name": "stdout",
     "output_type": "stream",
     "text": [
      "[1] \"Safety\"\n"
     ]
    },
    {
     "data": {
      "text/html": [
       "<table>\n",
       "<thead><tr><th scope=col>accordance_rate_mean</th><th scope=col>se</th><th scope=col>lower_bound</th><th scope=col>upper_bound</th></tr></thead>\n",
       "<tbody>\n",
       "\t<tr><td>0.58</td><td>0.02</td><td>0.53</td><td>0.62</td></tr>\n",
       "</tbody>\n",
       "</table>\n"
      ],
      "text/latex": [
       "\\begin{tabular}{r|llll}\n",
       " accordance\\_rate\\_mean & se & lower\\_bound & upper\\_bound\\\\\n",
       "\\hline\n",
       "\t 0.58 & 0.02 & 0.53 & 0.62\\\\\n",
       "\\end{tabular}\n"
      ],
      "text/markdown": [
       "\n",
       "accordance_rate_mean | se | lower_bound | upper_bound | \n",
       "|---|\n",
       "| 0.58 | 0.02 | 0.53 | 0.62 | \n",
       "\n",
       "\n"
      ],
      "text/plain": [
       "  accordance_rate_mean se   lower_bound upper_bound\n",
       "1 0.58                 0.02 0.53        0.62       "
      ]
     },
     "metadata": {},
     "output_type": "display_data"
    },
    {
     "name": "stdout",
     "output_type": "stream",
     "text": [
      "[1] \"Speed\"\n"
     ]
    },
    {
     "data": {
      "text/html": [
       "<table>\n",
       "<thead><tr><th scope=col>accordance_rate_mean</th><th scope=col>se</th><th scope=col>lower_bound</th><th scope=col>upper_bound</th></tr></thead>\n",
       "<tbody>\n",
       "\t<tr><td>0.58</td><td>0.02</td><td>0.53</td><td>0.62</td></tr>\n",
       "</tbody>\n",
       "</table>\n"
      ],
      "text/latex": [
       "\\begin{tabular}{r|llll}\n",
       " accordance\\_rate\\_mean & se & lower\\_bound & upper\\_bound\\\\\n",
       "\\hline\n",
       "\t 0.58 & 0.02 & 0.53 & 0.62\\\\\n",
       "\\end{tabular}\n"
      ],
      "text/markdown": [
       "\n",
       "accordance_rate_mean | se | lower_bound | upper_bound | \n",
       "|---|\n",
       "| 0.58 | 0.02 | 0.53 | 0.62 | \n",
       "\n",
       "\n"
      ],
      "text/plain": [
       "  accordance_rate_mean se   lower_bound upper_bound\n",
       "1 0.58                 0.02 0.53        0.62       "
      ]
     },
     "metadata": {},
     "output_type": "display_data"
    }
   ],
   "source": [
    "print('Safety')\n",
    "dat %>% \n",
    "    filter( unknown_door_involved == TRUE ,\n",
    "            equivalent_options == FALSE ) %>%\n",
    "    accordance( chosen_ttb_safety )\n",
    "\n",
    "print('Speed')\n",
    "dat %>% \n",
    "    filter( unknown_door_involved == TRUE ,\n",
    "            equivalent_options == FALSE ) %>%\n",
    "    accordance( chosen_ttb_speed )"
   ]
  },
  {
   "cell_type": "markdown",
   "metadata": {},
   "source": [
    "### 4.2 Unknown door is involved. Digging deeper"
   ]
  },
  {
   "cell_type": "markdown",
   "metadata": {},
   "source": [
    "Here I check what happens when different types of doors are contrasted against an unknown door"
   ]
  },
  {
   "cell_type": "code",
   "execution_count": 223,
   "metadata": {},
   "outputs": [
    {
     "name": "stdout",
     "output_type": "stream",
     "text": [
      "[1] \"Safety, Speed = [1, 1]\"\n"
     ]
    },
    {
     "data": {
      "text/html": [
       "<table>\n",
       "<thead><tr><th scope=col>selected_right_rate_mean</th><th scope=col>se</th><th scope=col>lower_bound</th><th scope=col>upper_bound</th></tr></thead>\n",
       "<tbody>\n",
       "\t<tr><td>0.97</td><td>0.01</td><td>0.95</td><td>0.99</td></tr>\n",
       "</tbody>\n",
       "</table>\n"
      ],
      "text/latex": [
       "\\begin{tabular}{r|llll}\n",
       " selected\\_right\\_rate\\_mean & se & lower\\_bound & upper\\_bound\\\\\n",
       "\\hline\n",
       "\t 0.97 & 0.01 & 0.95 & 0.99\\\\\n",
       "\\end{tabular}\n"
      ],
      "text/markdown": [
       "\n",
       "selected_right_rate_mean | se | lower_bound | upper_bound | \n",
       "|---|\n",
       "| 0.97 | 0.01 | 0.95 | 0.99 | \n",
       "\n",
       "\n"
      ],
      "text/plain": [
       "  selected_right_rate_mean se   lower_bound upper_bound\n",
       "1 0.97                     0.01 0.95        0.99       "
      ]
     },
     "metadata": {},
     "output_type": "display_data"
    },
    {
     "name": "stdout",
     "output_type": "stream",
     "text": [
      "[1] \"Safety, Speed = [1, -1]\"\n"
     ]
    },
    {
     "data": {
      "text/html": [
       "<table>\n",
       "<thead><tr><th scope=col>selected_right_rate_mean</th><th scope=col>se</th><th scope=col>lower_bound</th><th scope=col>upper_bound</th></tr></thead>\n",
       "<tbody>\n",
       "\t<tr><td>0.92</td><td>0.02</td><td>0.88</td><td>0.95</td></tr>\n",
       "</tbody>\n",
       "</table>\n"
      ],
      "text/latex": [
       "\\begin{tabular}{r|llll}\n",
       " selected\\_right\\_rate\\_mean & se & lower\\_bound & upper\\_bound\\\\\n",
       "\\hline\n",
       "\t 0.92 & 0.02 & 0.88 & 0.95\\\\\n",
       "\\end{tabular}\n"
      ],
      "text/markdown": [
       "\n",
       "selected_right_rate_mean | se | lower_bound | upper_bound | \n",
       "|---|\n",
       "| 0.92 | 0.02 | 0.88 | 0.95 | \n",
       "\n",
       "\n"
      ],
      "text/plain": [
       "  selected_right_rate_mean se   lower_bound upper_bound\n",
       "1 0.92                     0.02 0.88        0.95       "
      ]
     },
     "metadata": {},
     "output_type": "display_data"
    },
    {
     "name": "stdout",
     "output_type": "stream",
     "text": [
      "[1] \"Safety, Speed = [-1, 1]\"\n"
     ]
    },
    {
     "data": {
      "text/html": [
       "<table>\n",
       "<thead><tr><th scope=col>selected_right_rate_mean</th><th scope=col>se</th><th scope=col>lower_bound</th><th scope=col>upper_bound</th></tr></thead>\n",
       "<tbody>\n",
       "\t<tr><td>0.28</td><td>0.05</td><td>0.17</td><td>0.39</td></tr>\n",
       "</tbody>\n",
       "</table>\n"
      ],
      "text/latex": [
       "\\begin{tabular}{r|llll}\n",
       " selected\\_right\\_rate\\_mean & se & lower\\_bound & upper\\_bound\\\\\n",
       "\\hline\n",
       "\t 0.28 & 0.05 & 0.17 & 0.39\\\\\n",
       "\\end{tabular}\n"
      ],
      "text/markdown": [
       "\n",
       "selected_right_rate_mean | se | lower_bound | upper_bound | \n",
       "|---|\n",
       "| 0.28 | 0.05 | 0.17 | 0.39 | \n",
       "\n",
       "\n"
      ],
      "text/plain": [
       "  selected_right_rate_mean se   lower_bound upper_bound\n",
       "1 0.28                     0.05 0.17        0.39       "
      ]
     },
     "metadata": {},
     "output_type": "display_data"
    },
    {
     "name": "stdout",
     "output_type": "stream",
     "text": [
      "[1] \"Safety, Speed = [-1, -1]\"\n"
     ]
    },
    {
     "data": {
      "text/html": [
       "<table>\n",
       "<thead><tr><th scope=col>selected_right_rate_mean</th><th scope=col>se</th><th scope=col>lower_bound</th><th scope=col>upper_bound</th></tr></thead>\n",
       "<tbody>\n",
       "\t<tr><td>0.14</td><td>0.03</td><td>0.07</td><td>0.2 </td></tr>\n",
       "</tbody>\n",
       "</table>\n"
      ],
      "text/latex": [
       "\\begin{tabular}{r|llll}\n",
       " selected\\_right\\_rate\\_mean & se & lower\\_bound & upper\\_bound\\\\\n",
       "\\hline\n",
       "\t 0.14 & 0.03 & 0.07 & 0.2 \\\\\n",
       "\\end{tabular}\n"
      ],
      "text/markdown": [
       "\n",
       "selected_right_rate_mean | se | lower_bound | upper_bound | \n",
       "|---|\n",
       "| 0.14 | 0.03 | 0.07 | 0.2  | \n",
       "\n",
       "\n"
      ],
      "text/plain": [
       "  selected_right_rate_mean se   lower_bound upper_bound\n",
       "1 0.14                     0.03 0.07        0.2        "
      ]
     },
     "metadata": {},
     "output_type": "display_data"
    }
   ],
   "source": [
    "print(\"Safety, Speed = [1, 1]\")\n",
    "safety_val = 1\n",
    "speed_val = 1\n",
    "\n",
    "dat %>%\n",
    "    filter( unknown_door_involved == TRUE ,\n",
    "            equivalent_options == FALSE ) %>%\n",
    "    filter( right_safety == safety_val | left_safety == safety_val,\n",
    "            right_speed == speed_val | left_speed == speed_val) %>%\n",
    "    mutate(selected_right = chosen_door_is_unknown == FALSE) %>%\n",
    "    group_by( id ) %>%\n",
    "    summarize( selected_right_rate = mean(selected_right) ) %>%\n",
    "    summarize( selected_right_rate_mean = mean(selected_right_rate), \n",
    "               se = se(selected_right_rate),\n",
    "               lower_bound = t.test(selected_right_rate, conf.level=0.95)$conf.int[1],\n",
    "               upper_bound = t.test(selected_right_rate, conf.level=0.95)$conf.int[2]) %>%\n",
    "    round( decimals )\n",
    "\n",
    "\n",
    "print(\"Safety, Speed = [1, -1]\")\n",
    "safety_val = 1\n",
    "speed_val = -1\n",
    "\n",
    "dat %>%\n",
    "    filter( unknown_door_involved == TRUE ,\n",
    "            equivalent_options == FALSE ) %>%\n",
    "    filter( right_safety == safety_val | left_safety == safety_val,\n",
    "            right_speed == speed_val | left_speed == speed_val) %>%\n",
    "    mutate(selected_right = chosen_door_is_unknown == FALSE) %>%\n",
    "    group_by( id ) %>%\n",
    "    summarize( selected_right_rate = mean(selected_right) ) %>%\n",
    "    summarize( selected_right_rate_mean = mean(selected_right_rate), \n",
    "               se = se(selected_right_rate),\n",
    "               lower_bound = t.test(selected_right_rate, conf.level=0.95)$conf.int[1],\n",
    "               upper_bound = t.test(selected_right_rate, conf.level=0.95)$conf.int[2]) %>%\n",
    "    round( decimals )\n",
    "\n",
    "\n",
    "print(\"Safety, Speed = [-1, 1]\")\n",
    "safety_val = -1\n",
    "speed_val = 1\n",
    "\n",
    "dat %>%\n",
    "    filter( unknown_door_involved == TRUE ,\n",
    "            equivalent_options == FALSE ) %>%\n",
    "    filter( right_safety == safety_val | left_safety == safety_val,\n",
    "            right_speed == speed_val | left_speed == speed_val) %>%\n",
    "    mutate(selected_right = chosen_door_is_unknown == FALSE) %>%\n",
    "    group_by( id ) %>%\n",
    "    summarize( selected_right_rate = mean(selected_right) ) %>%\n",
    "    summarize( selected_right_rate_mean = mean(selected_right_rate), \n",
    "               se = se(selected_right_rate),\n",
    "               lower_bound = t.test(selected_right_rate, conf.level=0.95)$conf.int[1],\n",
    "               upper_bound = t.test(selected_right_rate, conf.level=0.95)$conf.int[2]) %>%\n",
    "    round( decimals )\n",
    "\n",
    "\n",
    "print(\"Safety, Speed = [-1, -1]\")\n",
    "safety_val = -1\n",
    "speed_val = -1\n",
    "\n",
    "dat %>%\n",
    "    filter( unknown_door_involved == TRUE ,\n",
    "            equivalent_options == FALSE ) %>%\n",
    "    filter( right_safety == safety_val | left_safety == safety_val,\n",
    "            right_speed == speed_val | left_speed == speed_val) %>%\n",
    "    mutate(selected_right = chosen_door_is_unknown == FALSE) %>%\n",
    "    group_by( id ) %>%\n",
    "    summarize( selected_right_rate = mean(selected_right) ) %>%\n",
    "    summarize( selected_right_rate_mean = mean(selected_right_rate), \n",
    "               se = se(selected_right_rate),\n",
    "               lower_bound = t.test(selected_right_rate, conf.level=0.95)$conf.int[1],\n",
    "               upper_bound = t.test(selected_right_rate, conf.level=0.95)$conf.int[2]) %>%\n",
    "    round( decimals )"
   ]
  },
  {
   "cell_type": "markdown",
   "metadata": {},
   "source": [
    "# Accordance rates of Corrected Safety Prioritized Model (CSfM)"
   ]
  },
  {
   "cell_type": "markdown",
   "metadata": {},
   "source": [
    "Change those decisions where one (1) unknown door is involved. The cue order remains to be Safety > Speed. However, an Unknown door is (always) better than an Unsafe one."
   ]
  },
  {
   "cell_type": "code",
   "execution_count": 224,
   "metadata": {
    "collapsed": true
   },
   "outputs": [],
   "source": [
    "# Copy TTB Safety\n",
    "dat$chosen_ttb_safety_corrected <- dat$chosen_ttb_safety\n",
    "\n",
    "## Make changes to those decisions where an unknown door is involved\n",
    "dat[dat$unknown_door_involved & dat$left_safety == 1 , 'chosen_ttb_safety_corrected'] <- 'left'\n",
    "dat[dat$unknown_door_involved & dat$left_safety == -1 , 'chosen_ttb_safety_corrected'] <- 'right'\n",
    "\n",
    "dat[dat$unknown_door_involved & dat$right_safety == 1 , 'chosen_ttb_safety_corrected'] <- 'right'\n",
    "dat[dat$unknown_door_involved & dat$right_safety == -1 , 'chosen_ttb_safety_corrected'] <- 'left'"
   ]
  },
  {
   "cell_type": "markdown",
   "metadata": {},
   "source": [
    "### Corrected Safety: Overall accordance rate"
   ]
  },
  {
   "cell_type": "code",
   "execution_count": 225,
   "metadata": {},
   "outputs": [
    {
     "data": {
      "text/html": [
       "<table>\n",
       "<thead><tr><th scope=col>accordance_rate_mean</th><th scope=col>se</th><th scope=col>lower_bound</th><th scope=col>upper_bound</th></tr></thead>\n",
       "<tbody>\n",
       "\t<tr><td>0.73</td><td>0.01</td><td>0.7 </td><td>0.75</td></tr>\n",
       "</tbody>\n",
       "</table>\n"
      ],
      "text/latex": [
       "\\begin{tabular}{r|llll}\n",
       " accordance\\_rate\\_mean & se & lower\\_bound & upper\\_bound\\\\\n",
       "\\hline\n",
       "\t 0.73 & 0.01 & 0.7  & 0.75\\\\\n",
       "\\end{tabular}\n"
      ],
      "text/markdown": [
       "\n",
       "accordance_rate_mean | se | lower_bound | upper_bound | \n",
       "|---|\n",
       "| 0.73 | 0.01 | 0.7  | 0.75 | \n",
       "\n",
       "\n"
      ],
      "text/plain": [
       "  accordance_rate_mean se   lower_bound upper_bound\n",
       "1 0.73                 0.01 0.7         0.75       "
      ]
     },
     "metadata": {},
     "output_type": "display_data"
    },
    {
     "data": {
      "text/html": [
       "<table>\n",
       "<thead><tr><th scope=col>accordance_rate_mean</th><th scope=col>se</th><th scope=col>lower_bound</th><th scope=col>upper_bound</th></tr></thead>\n",
       "<tbody>\n",
       "\t<tr><td>0.66</td><td>0.01</td><td>0.64</td><td>0.69</td></tr>\n",
       "</tbody>\n",
       "</table>\n"
      ],
      "text/latex": [
       "\\begin{tabular}{r|llll}\n",
       " accordance\\_rate\\_mean & se & lower\\_bound & upper\\_bound\\\\\n",
       "\\hline\n",
       "\t 0.66 & 0.01 & 0.64 & 0.69\\\\\n",
       "\\end{tabular}\n"
      ],
      "text/markdown": [
       "\n",
       "accordance_rate_mean | se | lower_bound | upper_bound | \n",
       "|---|\n",
       "| 0.66 | 0.01 | 0.64 | 0.69 | \n",
       "\n",
       "\n"
      ],
      "text/plain": [
       "  accordance_rate_mean se   lower_bound upper_bound\n",
       "1 0.66                 0.01 0.64        0.69       "
      ]
     },
     "metadata": {},
     "output_type": "display_data"
    },
    {
     "data": {
      "text/html": [
       "<table>\n",
       "<thead><tr><th scope=col>accordance_rate_mean</th><th scope=col>se</th><th scope=col>lower_bound</th><th scope=col>upper_bound</th></tr></thead>\n",
       "<tbody>\n",
       "\t<tr><td>0.89</td><td>0.01</td><td>0.86</td><td>0.92</td></tr>\n",
       "</tbody>\n",
       "</table>\n"
      ],
      "text/latex": [
       "\\begin{tabular}{r|llll}\n",
       " accordance\\_rate\\_mean & se & lower\\_bound & upper\\_bound\\\\\n",
       "\\hline\n",
       "\t 0.89 & 0.01 & 0.86 & 0.92\\\\\n",
       "\\end{tabular}\n"
      ],
      "text/markdown": [
       "\n",
       "accordance_rate_mean | se | lower_bound | upper_bound | \n",
       "|---|\n",
       "| 0.89 | 0.01 | 0.86 | 0.92 | \n",
       "\n",
       "\n"
      ],
      "text/plain": [
       "  accordance_rate_mean se   lower_bound upper_bound\n",
       "1 0.89                 0.01 0.86        0.92       "
      ]
     },
     "metadata": {},
     "output_type": "display_data"
    }
   ],
   "source": [
    "dat %>%\n",
    "    filter( equivalent_options == FALSE ) %>%\n",
    "    accordance( chosen_ttb_safety )\n",
    "\n",
    "dat %>%\n",
    "    filter( equivalent_options == FALSE ) %>%\n",
    "    accordance( chosen_ttb_speed )\n",
    "\n",
    "dat %>%\n",
    "    filter( equivalent_options == FALSE ) %>%\n",
    "    accordance( chosen_ttb_safety_corrected )"
   ]
  },
  {
   "cell_type": "markdown",
   "metadata": {},
   "source": [
    "### 4. Corrected Safety: Unknown door is involved"
   ]
  },
  {
   "cell_type": "code",
   "execution_count": 226,
   "metadata": {},
   "outputs": [
    {
     "name": "stdout",
     "output_type": "stream",
     "text": [
      "[1] \"Safety\"\n"
     ]
    },
    {
     "data": {
      "text/html": [
       "<table>\n",
       "<thead><tr><th scope=col>accordance_rate_mean</th><th scope=col>se</th><th scope=col>lower_bound</th><th scope=col>upper_bound</th></tr></thead>\n",
       "<tbody>\n",
       "\t<tr><td>0.58</td><td>0.02</td><td>0.53</td><td>0.62</td></tr>\n",
       "</tbody>\n",
       "</table>\n"
      ],
      "text/latex": [
       "\\begin{tabular}{r|llll}\n",
       " accordance\\_rate\\_mean & se & lower\\_bound & upper\\_bound\\\\\n",
       "\\hline\n",
       "\t 0.58 & 0.02 & 0.53 & 0.62\\\\\n",
       "\\end{tabular}\n"
      ],
      "text/markdown": [
       "\n",
       "accordance_rate_mean | se | lower_bound | upper_bound | \n",
       "|---|\n",
       "| 0.58 | 0.02 | 0.53 | 0.62 | \n",
       "\n",
       "\n"
      ],
      "text/plain": [
       "  accordance_rate_mean se   lower_bound upper_bound\n",
       "1 0.58                 0.02 0.53        0.62       "
      ]
     },
     "metadata": {},
     "output_type": "display_data"
    },
    {
     "name": "stdout",
     "output_type": "stream",
     "text": [
      "[1] \"Speed\"\n"
     ]
    },
    {
     "data": {
      "text/html": [
       "<table>\n",
       "<thead><tr><th scope=col>accordance_rate_mean</th><th scope=col>se</th><th scope=col>lower_bound</th><th scope=col>upper_bound</th></tr></thead>\n",
       "<tbody>\n",
       "\t<tr><td>0.58</td><td>0.02</td><td>0.53</td><td>0.62</td></tr>\n",
       "</tbody>\n",
       "</table>\n"
      ],
      "text/latex": [
       "\\begin{tabular}{r|llll}\n",
       " accordance\\_rate\\_mean & se & lower\\_bound & upper\\_bound\\\\\n",
       "\\hline\n",
       "\t 0.58 & 0.02 & 0.53 & 0.62\\\\\n",
       "\\end{tabular}\n"
      ],
      "text/markdown": [
       "\n",
       "accordance_rate_mean | se | lower_bound | upper_bound | \n",
       "|---|\n",
       "| 0.58 | 0.02 | 0.53 | 0.62 | \n",
       "\n",
       "\n"
      ],
      "text/plain": [
       "  accordance_rate_mean se   lower_bound upper_bound\n",
       "1 0.58                 0.02 0.53        0.62       "
      ]
     },
     "metadata": {},
     "output_type": "display_data"
    },
    {
     "name": "stdout",
     "output_type": "stream",
     "text": [
      "[1] \"Corrected Safety\"\n"
     ]
    },
    {
     "data": {
      "text/html": [
       "<table>\n",
       "<thead><tr><th scope=col>accordance_rate_mean</th><th scope=col>se</th><th scope=col>lower_bound</th><th scope=col>upper_bound</th></tr></thead>\n",
       "<tbody>\n",
       "\t<tr><td>0.87</td><td>0.02</td><td>0.83</td><td>0.91</td></tr>\n",
       "</tbody>\n",
       "</table>\n"
      ],
      "text/latex": [
       "\\begin{tabular}{r|llll}\n",
       " accordance\\_rate\\_mean & se & lower\\_bound & upper\\_bound\\\\\n",
       "\\hline\n",
       "\t 0.87 & 0.02 & 0.83 & 0.91\\\\\n",
       "\\end{tabular}\n"
      ],
      "text/markdown": [
       "\n",
       "accordance_rate_mean | se | lower_bound | upper_bound | \n",
       "|---|\n",
       "| 0.87 | 0.02 | 0.83 | 0.91 | \n",
       "\n",
       "\n"
      ],
      "text/plain": [
       "  accordance_rate_mean se   lower_bound upper_bound\n",
       "1 0.87                 0.02 0.83        0.91       "
      ]
     },
     "metadata": {},
     "output_type": "display_data"
    }
   ],
   "source": [
    "print('Safety')\n",
    "dat %>% \n",
    "    filter( unknown_door_involved == TRUE ,\n",
    "            equivalent_options == FALSE ) %>%\n",
    "    accordance( chosen_ttb_safety )\n",
    "\n",
    "print('Speed')\n",
    "dat %>% \n",
    "    filter( unknown_door_involved == TRUE ,\n",
    "            equivalent_options == FALSE ) %>%\n",
    "    accordance( chosen_ttb_speed )\n",
    "\n",
    "print('Corrected Safety')\n",
    "dat %>% \n",
    "    filter( unknown_door_involved == TRUE ,\n",
    "            equivalent_options == FALSE ) %>%\n",
    "    accordance( chosen_ttb_safety_corrected )"
   ]
  },
  {
   "cell_type": "markdown",
   "metadata": {},
   "source": [
    "### 4.2 Corrected Safety: Unknown door is involved. Digging deeper"
   ]
  },
  {
   "cell_type": "code",
   "execution_count": 227,
   "metadata": {},
   "outputs": [
    {
     "name": "stdout",
     "output_type": "stream",
     "text": [
      "[1] \"Safety, Speed = [1, 1]\"\n"
     ]
    },
    {
     "data": {
      "text/html": [
       "<table>\n",
       "<thead><tr><th scope=col>selected_right_rate_mean</th><th scope=col>se</th><th scope=col>lower_bound</th><th scope=col>upper_bound</th></tr></thead>\n",
       "<tbody>\n",
       "\t<tr><td>0.97</td><td>0.01</td><td>0.95</td><td>0.99</td></tr>\n",
       "</tbody>\n",
       "</table>\n"
      ],
      "text/latex": [
       "\\begin{tabular}{r|llll}\n",
       " selected\\_right\\_rate\\_mean & se & lower\\_bound & upper\\_bound\\\\\n",
       "\\hline\n",
       "\t 0.97 & 0.01 & 0.95 & 0.99\\\\\n",
       "\\end{tabular}\n"
      ],
      "text/markdown": [
       "\n",
       "selected_right_rate_mean | se | lower_bound | upper_bound | \n",
       "|---|\n",
       "| 0.97 | 0.01 | 0.95 | 0.99 | \n",
       "\n",
       "\n"
      ],
      "text/plain": [
       "  selected_right_rate_mean se   lower_bound upper_bound\n",
       "1 0.97                     0.01 0.95        0.99       "
      ]
     },
     "metadata": {},
     "output_type": "display_data"
    },
    {
     "name": "stdout",
     "output_type": "stream",
     "text": [
      "[1] \"Safety, Speed = [1, -1]\"\n"
     ]
    },
    {
     "data": {
      "text/html": [
       "<table>\n",
       "<thead><tr><th scope=col>selected_right_rate_mean</th><th scope=col>se</th><th scope=col>lower_bound</th><th scope=col>upper_bound</th></tr></thead>\n",
       "<tbody>\n",
       "\t<tr><td>0.92</td><td>0.02</td><td>0.88</td><td>0.95</td></tr>\n",
       "</tbody>\n",
       "</table>\n"
      ],
      "text/latex": [
       "\\begin{tabular}{r|llll}\n",
       " selected\\_right\\_rate\\_mean & se & lower\\_bound & upper\\_bound\\\\\n",
       "\\hline\n",
       "\t 0.92 & 0.02 & 0.88 & 0.95\\\\\n",
       "\\end{tabular}\n"
      ],
      "text/markdown": [
       "\n",
       "selected_right_rate_mean | se | lower_bound | upper_bound | \n",
       "|---|\n",
       "| 0.92 | 0.02 | 0.88 | 0.95 | \n",
       "\n",
       "\n"
      ],
      "text/plain": [
       "  selected_right_rate_mean se   lower_bound upper_bound\n",
       "1 0.92                     0.02 0.88        0.95       "
      ]
     },
     "metadata": {},
     "output_type": "display_data"
    },
    {
     "name": "stdout",
     "output_type": "stream",
     "text": [
      "[1] \"Safety, Speed = [-1, 1]\"\n"
     ]
    },
    {
     "data": {
      "text/html": [
       "<table>\n",
       "<thead><tr><th scope=col>selected_right_rate_mean</th><th scope=col>se</th><th scope=col>lower_bound</th><th scope=col>upper_bound</th></tr></thead>\n",
       "<tbody>\n",
       "\t<tr><td>0.28</td><td>0.05</td><td>0.17</td><td>0.39</td></tr>\n",
       "</tbody>\n",
       "</table>\n"
      ],
      "text/latex": [
       "\\begin{tabular}{r|llll}\n",
       " selected\\_right\\_rate\\_mean & se & lower\\_bound & upper\\_bound\\\\\n",
       "\\hline\n",
       "\t 0.28 & 0.05 & 0.17 & 0.39\\\\\n",
       "\\end{tabular}\n"
      ],
      "text/markdown": [
       "\n",
       "selected_right_rate_mean | se | lower_bound | upper_bound | \n",
       "|---|\n",
       "| 0.28 | 0.05 | 0.17 | 0.39 | \n",
       "\n",
       "\n"
      ],
      "text/plain": [
       "  selected_right_rate_mean se   lower_bound upper_bound\n",
       "1 0.28                     0.05 0.17        0.39       "
      ]
     },
     "metadata": {},
     "output_type": "display_data"
    },
    {
     "name": "stdout",
     "output_type": "stream",
     "text": [
      "[1] \"Safety, Speed = [-1, -1]\"\n"
     ]
    },
    {
     "data": {
      "text/html": [
       "<table>\n",
       "<thead><tr><th scope=col>selected_right_rate_mean</th><th scope=col>se</th><th scope=col>lower_bound</th><th scope=col>upper_bound</th></tr></thead>\n",
       "<tbody>\n",
       "\t<tr><td>0.14</td><td>0.03</td><td>0.07</td><td>0.2 </td></tr>\n",
       "</tbody>\n",
       "</table>\n"
      ],
      "text/latex": [
       "\\begin{tabular}{r|llll}\n",
       " selected\\_right\\_rate\\_mean & se & lower\\_bound & upper\\_bound\\\\\n",
       "\\hline\n",
       "\t 0.14 & 0.03 & 0.07 & 0.2 \\\\\n",
       "\\end{tabular}\n"
      ],
      "text/markdown": [
       "\n",
       "selected_right_rate_mean | se | lower_bound | upper_bound | \n",
       "|---|\n",
       "| 0.14 | 0.03 | 0.07 | 0.2  | \n",
       "\n",
       "\n"
      ],
      "text/plain": [
       "  selected_right_rate_mean se   lower_bound upper_bound\n",
       "1 0.14                     0.03 0.07        0.2        "
      ]
     },
     "metadata": {},
     "output_type": "display_data"
    }
   ],
   "source": [
    "print(\"Safety, Speed = [1, 1]\")\n",
    "safety_val = 1\n",
    "speed_val = 1\n",
    "\n",
    "dat %>%\n",
    "    filter( unknown_door_involved == TRUE ,\n",
    "            equivalent_options == FALSE ) %>%\n",
    "    filter( right_safety == safety_val | left_safety == safety_val,\n",
    "            right_speed == speed_val | left_speed == speed_val) %>%\n",
    "    mutate(selected_right = chosen_door_is_unknown == FALSE) %>%\n",
    "    group_by( id ) %>%\n",
    "    summarize( selected_right_rate = mean(selected_right) ) %>%\n",
    "    summarize( selected_right_rate_mean = mean(selected_right_rate), \n",
    "               se = se(selected_right_rate),\n",
    "               lower_bound = t.test(selected_right_rate, conf.level=0.95)$conf.int[1],\n",
    "               upper_bound = t.test(selected_right_rate, conf.level=0.95)$conf.int[2]) %>%\n",
    "    round( decimals )\n",
    "\n",
    "\n",
    "print(\"Safety, Speed = [1, -1]\")\n",
    "safety_val = 1\n",
    "speed_val = -1\n",
    "\n",
    "dat %>%\n",
    "    filter( unknown_door_involved == TRUE ,\n",
    "            equivalent_options == FALSE ) %>%\n",
    "    filter( right_safety == safety_val | left_safety == safety_val,\n",
    "            right_speed == speed_val | left_speed == speed_val) %>%\n",
    "    mutate(selected_right = chosen_door_is_unknown == FALSE) %>%\n",
    "    group_by( id ) %>%\n",
    "    summarize( selected_right_rate = mean(selected_right) ) %>%\n",
    "    summarize( selected_right_rate_mean = mean(selected_right_rate), \n",
    "               se = se(selected_right_rate),\n",
    "               lower_bound = t.test(selected_right_rate, conf.level=0.95)$conf.int[1],\n",
    "               upper_bound = t.test(selected_right_rate, conf.level=0.95)$conf.int[2]) %>%\n",
    "    round( decimals )\n",
    "\n",
    "\n",
    "print(\"Safety, Speed = [-1, 1]\")\n",
    "safety_val = -1\n",
    "speed_val = 1\n",
    "\n",
    "dat %>%\n",
    "    filter( unknown_door_involved == TRUE ,\n",
    "            equivalent_options == FALSE ) %>%\n",
    "    filter( right_safety == safety_val | left_safety == safety_val,\n",
    "            right_speed == speed_val | left_speed == speed_val) %>%\n",
    "    mutate(selected_right = chosen_door_is_unknown == FALSE) %>%\n",
    "    group_by( id ) %>%\n",
    "    summarize( selected_right_rate = mean(selected_right) ) %>%\n",
    "    summarize( selected_right_rate_mean = mean(selected_right_rate), \n",
    "               se = se(selected_right_rate),\n",
    "               lower_bound = t.test(selected_right_rate, conf.level=0.95)$conf.int[1],\n",
    "               upper_bound = t.test(selected_right_rate, conf.level=0.95)$conf.int[2]) %>%\n",
    "    round( decimals )\n",
    "\n",
    "\n",
    "print(\"Safety, Speed = [-1, -1]\")\n",
    "safety_val = -1\n",
    "speed_val = -1\n",
    "\n",
    "dat %>%\n",
    "    filter( unknown_door_involved == TRUE ,\n",
    "            equivalent_options == FALSE ) %>%\n",
    "    filter( right_safety == safety_val | left_safety == safety_val,\n",
    "            right_speed == speed_val | left_speed == speed_val) %>%\n",
    "    mutate(selected_right = chosen_door_is_unknown == FALSE) %>%\n",
    "    group_by( id ) %>%\n",
    "    summarize( selected_right_rate = mean(selected_right) ) %>%\n",
    "    summarize( selected_right_rate_mean = mean(selected_right_rate), \n",
    "               se = se(selected_right_rate),\n",
    "               lower_bound = t.test(selected_right_rate, conf.level=0.95)$conf.int[1],\n",
    "               upper_bound = t.test(selected_right_rate, conf.level=0.95)$conf.int[2]) %>%\n",
    "    round( decimals )"
   ]
  },
  {
   "cell_type": "code",
   "execution_count": null,
   "metadata": {
    "collapsed": true
   },
   "outputs": [],
   "source": []
  },
  {
   "cell_type": "markdown",
   "metadata": {},
   "source": [
    "# Response times"
   ]
  },
  {
   "cell_type": "markdown",
   "metadata": {},
   "source": [
    "### Overall response time per block\n",
    "It is calculated as an average of averages."
   ]
  },
  {
   "cell_type": "code",
   "execution_count": 228,
   "metadata": {},
   "outputs": [
    {
     "data": {
      "text/html": [
       "<table>\n",
       "<thead><tr><th scope=col>block</th><th scope=col>y</th><th scope=col>lower_bound</th><th scope=col>upper_bound</th><th scope=col>x</th></tr></thead>\n",
       "<tbody>\n",
       "\t<tr><td>0       </td><td>2669.345</td><td>2116.211</td><td>3222.479</td><td>0       </td></tr>\n",
       "\t<tr><td>1       </td><td>1946.088</td><td>1592.342</td><td>2299.835</td><td>1       </td></tr>\n",
       "\t<tr><td>2       </td><td>1677.167</td><td>1343.703</td><td>2010.630</td><td>2       </td></tr>\n",
       "\t<tr><td>3       </td><td>1502.650</td><td>1298.696</td><td>1706.604</td><td>3       </td></tr>\n",
       "\t<tr><td>4       </td><td>1639.612</td><td>1277.989</td><td>2001.234</td><td>4       </td></tr>\n",
       "\t<tr><td>5       </td><td>1526.050</td><td>1230.720</td><td>1821.380</td><td>5       </td></tr>\n",
       "</tbody>\n",
       "</table>\n"
      ],
      "text/latex": [
       "\\begin{tabular}{r|lllll}\n",
       " block & y & lower\\_bound & upper\\_bound & x\\\\\n",
       "\\hline\n",
       "\t 0        & 2669.345 & 2116.211 & 3222.479 & 0       \\\\\n",
       "\t 1        & 1946.088 & 1592.342 & 2299.835 & 1       \\\\\n",
       "\t 2        & 1677.167 & 1343.703 & 2010.630 & 2       \\\\\n",
       "\t 3        & 1502.650 & 1298.696 & 1706.604 & 3       \\\\\n",
       "\t 4        & 1639.612 & 1277.989 & 2001.234 & 4       \\\\\n",
       "\t 5        & 1526.050 & 1230.720 & 1821.380 & 5       \\\\\n",
       "\\end{tabular}\n"
      ],
      "text/markdown": [
       "\n",
       "block | y | lower_bound | upper_bound | x | \n",
       "|---|---|---|---|---|---|\n",
       "| 0        | 2669.345 | 2116.211 | 3222.479 | 0        | \n",
       "| 1        | 1946.088 | 1592.342 | 2299.835 | 1        | \n",
       "| 2        | 1677.167 | 1343.703 | 2010.630 | 2        | \n",
       "| 3        | 1502.650 | 1298.696 | 1706.604 | 3        | \n",
       "| 4        | 1639.612 | 1277.989 | 2001.234 | 4        | \n",
       "| 5        | 1526.050 | 1230.720 | 1821.380 | 5        | \n",
       "\n",
       "\n"
      ],
      "text/plain": [
       "  block y        lower_bound upper_bound x\n",
       "1 0     2669.345 2116.211    3222.479    0\n",
       "2 1     1946.088 1592.342    2299.835    1\n",
       "3 2     1677.167 1343.703    2010.630    2\n",
       "4 3     1502.650 1298.696    1706.604    3\n",
       "5 4     1639.612 1277.989    2001.234    4\n",
       "6 5     1526.050 1230.720    1821.380    5"
      ]
     },
     "metadata": {},
     "output_type": "display_data"
    }
   ],
   "source": [
    "response_times <- dat %>%\n",
    "                    group_by(id, block) %>%\n",
    "                    summarize(subject_rt_mean = mean(rt)) %>% # per subject per block\n",
    "                    group_by(block) %>%\n",
    "                    summarize(y = mean(subject_rt_mean),\n",
    "                              lower_bound = t.test(subject_rt_mean, conf.level=0.95)$conf.int[1],\n",
    "                              upper_bound = t.test(subject_rt_mean, conf.level=0.95)$conf.int[2]) %>%\n",
    "                    mutate(x = block)\n",
    "\n",
    "response_times"
   ]
  },
  {
   "cell_type": "raw",
   "metadata": {
    "collapsed": true
   },
   "source": [
    "p1 = bar_graph(response_times)"
   ]
  },
  {
   "cell_type": "code",
   "execution_count": 229,
   "metadata": {},
   "outputs": [],
   "source": [
    "#p1"
   ]
  },
  {
   "cell_type": "markdown",
   "metadata": {},
   "source": [
    "## Hypotheses comparison"
   ]
  },
  {
   "cell_type": "markdown",
   "metadata": {},
   "source": [
    "TTB_Safety vs TTB_Speed"
   ]
  },
  {
   "cell_type": "code",
   "execution_count": 230,
   "metadata": {
    "collapsed": true
   },
   "outputs": [],
   "source": [
    "bar_graph_2 <- function(plot_data, title) {\n",
    "    plot_data %>%\n",
    "        ggplot(aes(x=factor(x), y=y, group=group, fill=factor(group)))+\n",
    "        geom_bar(stat=\"identity\", position=position_dodge()) +\n",
    "        geom_errorbar(aes(ymin=lower_bound, ymax=upper_bound),\n",
    "                      position=position_dodge(.9),\n",
    "                      width=0.2 ) +\n",
    "        labs(fill = \"Cues checked\") + xlab(\"Block\") + ylab(\"Response time (ms.)\") + ggtitle(title)\n",
    "}"
   ]
  },
  {
   "cell_type": "code",
   "execution_count": 231,
   "metadata": {
    "collapsed": true
   },
   "outputs": [],
   "source": [
    "rt_ttb_safety <- dat %>%\n",
    "                    group_by(id, block, steps_ttb_safety) %>%\n",
    "                    summarize(subject_rt_mean = mean(rt)) %>% # per subject per block\n",
    "                    group_by(block, steps_ttb_safety) %>%\n",
    "                    summarize(y = mean(subject_rt_mean),\n",
    "                              lower_bound = t.test(subject_rt_mean, conf.level=0.95)$conf.int[1],\n",
    "                              upper_bound = t.test(subject_rt_mean, conf.level=0.95)$conf.int[2]) %>%\n",
    "                    mutate(x = block + 1,\n",
    "                           group = steps_ttb_safety)\n",
    "\n",
    "p1 <- bar_graph_2(rt_ttb_safety, \"(a)\")"
   ]
  },
  {
   "cell_type": "code",
   "execution_count": 232,
   "metadata": {
    "collapsed": true
   },
   "outputs": [],
   "source": [
    "rt_ttb_safety_f <- dat %>%\n",
    "                    filter(unknown_door_involved == FALSE) %>% # Unknown doors filtered out\n",
    "                    group_by(id, block, steps_ttb_safety) %>%\n",
    "                    summarize(subject_rt_mean = mean(rt)) %>% # per subject per block\n",
    "                    group_by(block, steps_ttb_safety) %>%\n",
    "                    summarize(y = mean(subject_rt_mean),\n",
    "                              lower_bound = t.test(subject_rt_mean, conf.level=0.95)$conf.int[1],\n",
    "                              upper_bound = t.test(subject_rt_mean, conf.level=0.95)$conf.int[2]) %>%\n",
    "                    mutate(x = block + 1,\n",
    "                           group = steps_ttb_safety)\n",
    "\n",
    "p12 <- bar_graph_2(rt_ttb_safety_f, \"(c)\")"
   ]
  },
  {
   "cell_type": "code",
   "execution_count": 233,
   "metadata": {
    "collapsed": true
   },
   "outputs": [],
   "source": [
    "rt_ttb_speed <- dat %>%\n",
    "                    group_by(id, block, steps_ttb_speed) %>%\n",
    "                    summarize(subject_rt_mean = mean(rt)) %>% # per subject per block\n",
    "                    group_by(block, steps_ttb_speed) %>%\n",
    "                    summarize(y = mean(subject_rt_mean),\n",
    "                              lower_bound = t.test(subject_rt_mean, conf.level=0.95)$conf.int[1],\n",
    "                              upper_bound = t.test(subject_rt_mean, conf.level=0.95)$conf.int[2]) %>%\n",
    "                    mutate(x = block + 1,\n",
    "                           group = steps_ttb_speed)\n",
    "\n",
    "p2 <- bar_graph_2(rt_ttb_speed, \"(b)\")"
   ]
  },
  {
   "cell_type": "code",
   "execution_count": 234,
   "metadata": {
    "collapsed": true
   },
   "outputs": [],
   "source": [
    "rt_ttb_speed <- dat %>%\n",
    "                    filter(unknown_door_involved == FALSE) %>% # Unknown doors filtered out\n",
    "                    group_by(id, block, steps_ttb_speed) %>%\n",
    "                    summarize(subject_rt_mean = mean(rt)) %>% # per subject per block\n",
    "                    group_by(block, steps_ttb_speed) %>%\n",
    "                    summarize(y = mean(subject_rt_mean),\n",
    "                              lower_bound = t.test(subject_rt_mean, conf.level=0.95)$conf.int[1],\n",
    "                              upper_bound = t.test(subject_rt_mean, conf.level=0.95)$conf.int[2]) %>%\n",
    "                    mutate(x = block + 1,\n",
    "                           group = steps_ttb_speed)\n",
    "\n",
    "p22 <- bar_graph_2(rt_ttb_speed, \"(d)\")"
   ]
  },
  {
   "cell_type": "code",
   "execution_count": 236,
   "metadata": {},
   "outputs": [],
   "source": [
    "#svg(\"Images/response_times.svg\", width=8, height=4)\n",
    "#multiplot(p1, p12, p2, p22, cols=2)\n",
    "#dev.off()"
   ]
  },
  {
   "cell_type": "markdown",
   "metadata": {},
   "source": [
    "### Only known doors: response times"
   ]
  },
  {
   "cell_type": "code",
   "execution_count": 237,
   "metadata": {},
   "outputs": [
    {
     "data": {
      "text/html": [
       "<table>\n",
       "<thead><tr><th scope=col>block</th><th scope=col>y</th><th scope=col>lower_bound</th><th scope=col>upper_bound</th><th scope=col>x</th></tr></thead>\n",
       "<tbody>\n",
       "\t<tr><td>0       </td><td>2508.158</td><td>1922.645</td><td>3093.671</td><td>0       </td></tr>\n",
       "\t<tr><td>1       </td><td>1831.096</td><td>1474.993</td><td>2187.198</td><td>1       </td></tr>\n",
       "\t<tr><td>2       </td><td>1488.537</td><td>1283.602</td><td>1693.473</td><td>2       </td></tr>\n",
       "\t<tr><td>3       </td><td>1309.483</td><td>1128.594</td><td>1490.373</td><td>3       </td></tr>\n",
       "\t<tr><td>4       </td><td>1537.992</td><td>1184.626</td><td>1891.358</td><td>4       </td></tr>\n",
       "\t<tr><td>5       </td><td>1319.933</td><td>1109.113</td><td>1530.754</td><td>5       </td></tr>\n",
       "</tbody>\n",
       "</table>\n"
      ],
      "text/latex": [
       "\\begin{tabular}{r|lllll}\n",
       " block & y & lower\\_bound & upper\\_bound & x\\\\\n",
       "\\hline\n",
       "\t 0        & 2508.158 & 1922.645 & 3093.671 & 0       \\\\\n",
       "\t 1        & 1831.096 & 1474.993 & 2187.198 & 1       \\\\\n",
       "\t 2        & 1488.537 & 1283.602 & 1693.473 & 2       \\\\\n",
       "\t 3        & 1309.483 & 1128.594 & 1490.373 & 3       \\\\\n",
       "\t 4        & 1537.992 & 1184.626 & 1891.358 & 4       \\\\\n",
       "\t 5        & 1319.933 & 1109.113 & 1530.754 & 5       \\\\\n",
       "\\end{tabular}\n"
      ],
      "text/markdown": [
       "\n",
       "block | y | lower_bound | upper_bound | x | \n",
       "|---|---|---|---|---|---|\n",
       "| 0        | 2508.158 | 1922.645 | 3093.671 | 0        | \n",
       "| 1        | 1831.096 | 1474.993 | 2187.198 | 1        | \n",
       "| 2        | 1488.537 | 1283.602 | 1693.473 | 2        | \n",
       "| 3        | 1309.483 | 1128.594 | 1490.373 | 3        | \n",
       "| 4        | 1537.992 | 1184.626 | 1891.358 | 4        | \n",
       "| 5        | 1319.933 | 1109.113 | 1530.754 | 5        | \n",
       "\n",
       "\n"
      ],
      "text/plain": [
       "  block y        lower_bound upper_bound x\n",
       "1 0     2508.158 1922.645    3093.671    0\n",
       "2 1     1831.096 1474.993    2187.198    1\n",
       "3 2     1488.537 1283.602    1693.473    2\n",
       "4 3     1309.483 1128.594    1490.373    3\n",
       "5 4     1537.992 1184.626    1891.358    4\n",
       "6 5     1319.933 1109.113    1530.754    5"
      ]
     },
     "metadata": {},
     "output_type": "display_data"
    }
   ],
   "source": [
    "response_times <- dat %>%\n",
    "                    filter(unknown_door_involved == FALSE) %>%\n",
    "                    group_by(id, block) %>%\n",
    "                    summarize(subject_rt_mean = mean(rt)) %>% # per subject per block\n",
    "                    group_by(block) %>%\n",
    "                    summarize(y = mean(subject_rt_mean),\n",
    "                              lower_bound = t.test(subject_rt_mean, conf.level=0.95)$conf.int[1],\n",
    "                              upper_bound = t.test(subject_rt_mean, conf.level=0.95)$conf.int[2]) %>%\n",
    "                    mutate(x = block)\n",
    "\n",
    "response_times"
   ]
  },
  {
   "cell_type": "code",
   "execution_count": 238,
   "metadata": {
    "collapsed": true
   },
   "outputs": [],
   "source": [
    "p2 = bar_graph(response_times)"
   ]
  },
  {
   "cell_type": "markdown",
   "metadata": {},
   "source": [
    "### Individual response times"
   ]
  },
  {
   "cell_type": "code",
   "execution_count": 239,
   "metadata": {},
   "outputs": [
    {
     "data": {
      "text/html": [
       "<table>\n",
       "<thead><tr><th scope=col>id</th><th scope=col>y</th><th scope=col>lower_bound</th><th scope=col>upper_bound</th><th scope=col>x</th></tr></thead>\n",
       "<tbody>\n",
       "\t<tr><td>1       </td><td>1271.289</td><td>1162.377</td><td>1380.201</td><td>1       </td></tr>\n",
       "\t<tr><td>10      </td><td>1646.694</td><td>1443.289</td><td>1850.100</td><td>10      </td></tr>\n",
       "\t<tr><td>11      </td><td>1531.006</td><td>1337.407</td><td>1724.604</td><td>11      </td></tr>\n",
       "\t<tr><td>12      </td><td>1385.678</td><td>1274.645</td><td>1496.710</td><td>12      </td></tr>\n",
       "\t<tr><td>13      </td><td>1118.083</td><td>1011.037</td><td>1225.130</td><td>13      </td></tr>\n",
       "\t<tr><td>14      </td><td>2123.867</td><td>1798.781</td><td>2448.952</td><td>14      </td></tr>\n",
       "</tbody>\n",
       "</table>\n"
      ],
      "text/latex": [
       "\\begin{tabular}{r|lllll}\n",
       " id & y & lower\\_bound & upper\\_bound & x\\\\\n",
       "\\hline\n",
       "\t 1        & 1271.289 & 1162.377 & 1380.201 & 1       \\\\\n",
       "\t 10       & 1646.694 & 1443.289 & 1850.100 & 10      \\\\\n",
       "\t 11       & 1531.006 & 1337.407 & 1724.604 & 11      \\\\\n",
       "\t 12       & 1385.678 & 1274.645 & 1496.710 & 12      \\\\\n",
       "\t 13       & 1118.083 & 1011.037 & 1225.130 & 13      \\\\\n",
       "\t 14       & 2123.867 & 1798.781 & 2448.952 & 14      \\\\\n",
       "\\end{tabular}\n"
      ],
      "text/markdown": [
       "\n",
       "id | y | lower_bound | upper_bound | x | \n",
       "|---|---|---|---|---|---|\n",
       "| 1        | 1271.289 | 1162.377 | 1380.201 | 1        | \n",
       "| 10       | 1646.694 | 1443.289 | 1850.100 | 10       | \n",
       "| 11       | 1531.006 | 1337.407 | 1724.604 | 11       | \n",
       "| 12       | 1385.678 | 1274.645 | 1496.710 | 12       | \n",
       "| 13       | 1118.083 | 1011.037 | 1225.130 | 13       | \n",
       "| 14       | 2123.867 | 1798.781 | 2448.952 | 14       | \n",
       "\n",
       "\n"
      ],
      "text/plain": [
       "  id y        lower_bound upper_bound x \n",
       "1 1  1271.289 1162.377    1380.201    1 \n",
       "2 10 1646.694 1443.289    1850.100    10\n",
       "3 11 1531.006 1337.407    1724.604    11\n",
       "4 12 1385.678 1274.645    1496.710    12\n",
       "5 13 1118.083 1011.037    1225.130    13\n",
       "6 14 2123.867 1798.781    2448.952    14"
      ]
     },
     "metadata": {},
     "output_type": "display_data"
    }
   ],
   "source": [
    "response_times <- dat %>%\n",
    "                    group_by(id) %>%\n",
    "                    summarize(y = mean(rt),\n",
    "                              lower_bound = t.test(rt, conf.level=0.95)$conf.int[1],\n",
    "                              upper_bound = t.test(rt, conf.level=0.95)$conf.int[2]) %>%\n",
    "                    mutate(x=id)\n",
    "\n",
    "head(response_times)"
   ]
  },
  {
   "cell_type": "code",
   "execution_count": 240,
   "metadata": {},
   "outputs": [
    {
     "data": {
      "text/html": [
       "<table>\n",
       "<thead><tr><th scope=col>mean_rt</th><th scope=col>lower_bound</th><th scope=col>upper_bound</th></tr></thead>\n",
       "<tbody>\n",
       "\t<tr><td>1826.819</td><td>1511.135</td><td>2142.502</td></tr>\n",
       "</tbody>\n",
       "</table>\n"
      ],
      "text/latex": [
       "\\begin{tabular}{r|lll}\n",
       " mean\\_rt & lower\\_bound & upper\\_bound\\\\\n",
       "\\hline\n",
       "\t 1826.819 & 1511.135 & 2142.502\\\\\n",
       "\\end{tabular}\n"
      ],
      "text/markdown": [
       "\n",
       "mean_rt | lower_bound | upper_bound | \n",
       "|---|\n",
       "| 1826.819 | 1511.135 | 2142.502 | \n",
       "\n",
       "\n"
      ],
      "text/plain": [
       "  mean_rt  lower_bound upper_bound\n",
       "1 1826.819 1511.135    2142.502   "
      ]
     },
     "metadata": {},
     "output_type": "display_data"
    }
   ],
   "source": [
    "response_times %>%\n",
    "    summarize(mean_rt = mean(y),\n",
    "              lower_bound = t.test(y, conf.level=0.95)$conf.int[1],\n",
    "              upper_bound = t.test(y, conf.level=0.95)$conf.int[2])"
   ]
  },
  {
   "cell_type": "markdown",
   "metadata": {},
   "source": [
    "#### Separated between those decisions that involved unknown doors and those that did not"
   ]
  },
  {
   "cell_type": "code",
   "execution_count": 241,
   "metadata": {},
   "outputs": [
    {
     "data": {
      "text/html": [
       "<table>\n",
       "<thead><tr><th scope=col>id</th><th scope=col>unknown_door_involved</th><th scope=col>y</th><th scope=col>se</th><th scope=col>lower_bound</th><th scope=col>upper_bound</th><th scope=col>x</th></tr></thead>\n",
       "<tbody>\n",
       "\t<tr><td>1        </td><td>FALSE    </td><td>1170.347 </td><td> 78.77117</td><td>1130.962 </td><td>1209.733 </td><td>1 FALSE  </td></tr>\n",
       "\t<tr><td>1        </td><td> TRUE    </td><td>1338.583 </td><td> 75.11780</td><td>1301.024 </td><td>1376.142 </td><td>1 TRUE   </td></tr>\n",
       "\t<tr><td>2        </td><td>FALSE    </td><td>1517.417 </td><td>136.02304</td><td>1449.405 </td><td>1585.428 </td><td>2 FALSE  </td></tr>\n",
       "\t<tr><td>2        </td><td> TRUE    </td><td>1719.407 </td><td>109.75263</td><td>1664.531 </td><td>1774.284 </td><td>2 TRUE   </td></tr>\n",
       "\t<tr><td>4        </td><td>FALSE    </td><td>1478.333 </td><td> 77.39547</td><td>1439.636 </td><td>1517.031 </td><td>4 FALSE  </td></tr>\n",
       "\t<tr><td>4        </td><td> TRUE    </td><td>1541.454 </td><td> 69.33742</td><td>1506.785 </td><td>1576.122 </td><td>4 TRUE   </td></tr>\n",
       "</tbody>\n",
       "</table>\n"
      ],
      "text/latex": [
       "\\begin{tabular}{r|lllllll}\n",
       " id & unknown\\_door\\_involved & y & se & lower\\_bound & upper\\_bound & x\\\\\n",
       "\\hline\n",
       "\t 1         & FALSE     & 1170.347  &  78.77117 & 1130.962  & 1209.733  & 1 FALSE  \\\\\n",
       "\t 1         &  TRUE     & 1338.583  &  75.11780 & 1301.024  & 1376.142  & 1 TRUE   \\\\\n",
       "\t 2         & FALSE     & 1517.417  & 136.02304 & 1449.405  & 1585.428  & 2 FALSE  \\\\\n",
       "\t 2         &  TRUE     & 1719.407  & 109.75263 & 1664.531  & 1774.284  & 2 TRUE   \\\\\n",
       "\t 4         & FALSE     & 1478.333  &  77.39547 & 1439.636  & 1517.031  & 4 FALSE  \\\\\n",
       "\t 4         &  TRUE     & 1541.454  &  69.33742 & 1506.785  & 1576.122  & 4 TRUE   \\\\\n",
       "\\end{tabular}\n"
      ],
      "text/markdown": [
       "\n",
       "id | unknown_door_involved | y | se | lower_bound | upper_bound | x | \n",
       "|---|---|---|---|---|---|\n",
       "| 1         | FALSE     | 1170.347  |  78.77117 | 1130.962  | 1209.733  | 1 FALSE   | \n",
       "| 1         |  TRUE     | 1338.583  |  75.11780 | 1301.024  | 1376.142  | 1 TRUE    | \n",
       "| 2         | FALSE     | 1517.417  | 136.02304 | 1449.405  | 1585.428  | 2 FALSE   | \n",
       "| 2         |  TRUE     | 1719.407  | 109.75263 | 1664.531  | 1774.284  | 2 TRUE    | \n",
       "| 4         | FALSE     | 1478.333  |  77.39547 | 1439.636  | 1517.031  | 4 FALSE   | \n",
       "| 4         |  TRUE     | 1541.454  |  69.33742 | 1506.785  | 1576.122  | 4 TRUE    | \n",
       "\n",
       "\n"
      ],
      "text/plain": [
       "  id unknown_door_involved y        se        lower_bound upper_bound x      \n",
       "1 1  FALSE                 1170.347  78.77117 1130.962    1209.733    1 FALSE\n",
       "2 1   TRUE                 1338.583  75.11780 1301.024    1376.142    1 TRUE \n",
       "3 2  FALSE                 1517.417 136.02304 1449.405    1585.428    2 FALSE\n",
       "4 2   TRUE                 1719.407 109.75263 1664.531    1774.284    2 TRUE \n",
       "5 4  FALSE                 1478.333  77.39547 1439.636    1517.031    4 FALSE\n",
       "6 4   TRUE                 1541.454  69.33742 1506.785    1576.122    4 TRUE "
      ]
     },
     "metadata": {},
     "output_type": "display_data"
    }
   ],
   "source": [
    "response_times <- dat %>%\n",
    "                    filter(id==1 | id==2 | id==4) %>%\n",
    "                    group_by(id, unknown_door_involved) %>%\n",
    "                    summarize(y = mean(rt),\n",
    "                              se = se(rt))  %>%\n",
    "                    mutate(lower_bound = y - se/2, \n",
    "                           upper_bound = y + se/2, \n",
    "                           x=paste(id, unknown_door_involved))\n",
    "\n",
    "head(response_times)"
   ]
  },
  {
   "cell_type": "markdown",
   "metadata": {},
   "source": [
    "# Human versus ACT-R responses"
   ]
  },
  {
   "cell_type": "markdown",
   "metadata": {},
   "source": [
    "### Only first block (overall)"
   ]
  },
  {
   "cell_type": "code",
   "execution_count": 293,
   "metadata": {},
   "outputs": [
    {
     "data": {
      "text/html": [
       "<table>\n",
       "<thead><tr><th scope=col>block</th><th scope=col>steps_ttb_safety</th><th scope=col>y</th><th scope=col>lower_bound</th><th scope=col>upper_bound</th><th scope=col>x</th><th scope=col>group</th></tr></thead>\n",
       "<tbody>\n",
       "\t<tr><td>0       </td><td>1       </td><td>2637.992</td><td>2055.129</td><td>3220.856</td><td>1       </td><td>1       </td></tr>\n",
       "\t<tr><td>0       </td><td>2       </td><td>2873.137</td><td>2282.377</td><td>3463.898</td><td>1       </td><td>2       </td></tr>\n",
       "</tbody>\n",
       "</table>\n"
      ],
      "text/latex": [
       "\\begin{tabular}{r|lllllll}\n",
       " block & steps\\_ttb\\_safety & y & lower\\_bound & upper\\_bound & x & group\\\\\n",
       "\\hline\n",
       "\t 0        & 1        & 2637.992 & 2055.129 & 3220.856 & 1        & 1       \\\\\n",
       "\t 0        & 2        & 2873.137 & 2282.377 & 3463.898 & 1        & 2       \\\\\n",
       "\\end{tabular}\n"
      ],
      "text/markdown": [
       "\n",
       "block | steps_ttb_safety | y | lower_bound | upper_bound | x | group | \n",
       "|---|---|\n",
       "| 0        | 1        | 2637.992 | 2055.129 | 3220.856 | 1        | 1        | \n",
       "| 0        | 2        | 2873.137 | 2282.377 | 3463.898 | 1        | 2        | \n",
       "\n",
       "\n"
      ],
      "text/plain": [
       "  block steps_ttb_safety y        lower_bound upper_bound x group\n",
       "1 0     1                2637.992 2055.129    3220.856    1 1    \n",
       "2 0     2                2873.137 2282.377    3463.898    1 2    "
      ]
     },
     "metadata": {},
     "output_type": "display_data"
    }
   ],
   "source": [
    "rt_ttb_safety %>% filter(block==0)"
   ]
  },
  {
   "cell_type": "markdown",
   "metadata": {},
   "source": [
    "### Only first block (only known doors)"
   ]
  },
  {
   "cell_type": "code",
   "execution_count": 405,
   "metadata": {},
   "outputs": [
    {
     "name": "stdout",
     "output_type": "stream",
     "text": [
      "[1] \"Humans\"\n"
     ]
    },
    {
     "data": {
      "text/html": [
       "<table>\n",
       "<thead><tr><th scope=col>block</th><th scope=col>steps_ttb_safety</th><th scope=col>y</th><th scope=col>lower_bound</th><th scope=col>upper_bound</th><th scope=col>x</th><th scope=col>group</th></tr></thead>\n",
       "<tbody>\n",
       "\t<tr><td>5        </td><td>1        </td><td>1167.394 </td><td> 926.9881</td><td>1407.799 </td><td>6        </td><td>1        </td></tr>\n",
       "\t<tr><td>5        </td><td>2        </td><td>1625.013 </td><td>1340.8527</td><td>1909.172 </td><td>6        </td><td>2        </td></tr>\n",
       "</tbody>\n",
       "</table>\n"
      ],
      "text/latex": [
       "\\begin{tabular}{r|lllllll}\n",
       " block & steps\\_ttb\\_safety & y & lower\\_bound & upper\\_bound & x & group\\\\\n",
       "\\hline\n",
       "\t 5         & 1         & 1167.394  &  926.9881 & 1407.799  & 6         & 1        \\\\\n",
       "\t 5         & 2         & 1625.013  & 1340.8527 & 1909.172  & 6         & 2        \\\\\n",
       "\\end{tabular}\n"
      ],
      "text/markdown": [
       "\n",
       "block | steps_ttb_safety | y | lower_bound | upper_bound | x | group | \n",
       "|---|---|\n",
       "| 5         | 1         | 1167.394  |  926.9881 | 1407.799  | 6         | 1         | \n",
       "| 5         | 2         | 1625.013  | 1340.8527 | 1909.172  | 6         | 2         | \n",
       "\n",
       "\n"
      ],
      "text/plain": [
       "  block steps_ttb_safety y        lower_bound upper_bound x group\n",
       "1 5     1                1167.394  926.9881   1407.799    6 1    \n",
       "2 5     2                1625.013 1340.8527   1909.172    6 2    "
      ]
     },
     "metadata": {},
     "output_type": "display_data"
    },
    {
     "name": "stdout",
     "output_type": "stream",
     "text": [
      "[1] \"ACT-R\"\n"
     ]
    },
    {
     "data": {
      "text/html": [
       "<table>\n",
       "<thead><tr><th scope=col>steps_ttb_safety</th><th scope=col>y</th><th scope=col>lower_bound</th><th scope=col>upper_bound</th></tr></thead>\n",
       "<tbody>\n",
       "\t<tr><td>1   </td><td>1258</td><td>1208</td><td>1309</td></tr>\n",
       "\t<tr><td>2   </td><td>1664</td><td>1624</td><td>1705</td></tr>\n",
       "</tbody>\n",
       "</table>\n"
      ],
      "text/latex": [
       "\\begin{tabular}{r|llll}\n",
       " steps\\_ttb\\_safety & y & lower\\_bound & upper\\_bound\\\\\n",
       "\\hline\n",
       "\t 1    & 1258 & 1208 & 1309\\\\\n",
       "\t 2    & 1664 & 1624 & 1705\\\\\n",
       "\\end{tabular}\n"
      ],
      "text/markdown": [
       "\n",
       "steps_ttb_safety | y | lower_bound | upper_bound | \n",
       "|---|---|\n",
       "| 1    | 1258 | 1208 | 1309 | \n",
       "| 2    | 1664 | 1624 | 1705 | \n",
       "\n",
       "\n"
      ],
      "text/plain": [
       "  steps_ttb_safety y    lower_bound upper_bound\n",
       "1 1                1258 1208        1309       \n",
       "2 2                1664 1624        1705       "
      ]
     },
     "metadata": {},
     "output_type": "display_data"
    }
   ],
   "source": [
    "print(\"Humans\")\n",
    "rt_ttb_safety_f %>% filter(block==5)\n",
    "\n",
    "print(\"ACT-R\")\n",
    "agents %>%\n",
    "                    filter(unknown_door_involved == FALSE) %>% # Unknown doors filtered out\n",
    "                    group_by(id, steps_ttb_safety) %>%\n",
    "                    summarize(subject_rt_mean = mean(rt)) %>% # per subject per block\n",
    "                    group_by(steps_ttb_safety) %>%\n",
    "                    summarize(y = mean(subject_rt_mean),\n",
    "                              lower_bound = t.test(subject_rt_mean, conf.level=0.95)$conf.int[1],\n",
    "                              upper_bound = t.test(subject_rt_mean, conf.level=0.95)$conf.int[2]) %>%\n",
    "                    mutate(y = round(y, 3) * 1000,\n",
    "                           lower_bound = round(lower_bound, 3) * 1000,\n",
    "                           upper_bound = round(upper_bound, 3) * 1000)"
   ]
  },
  {
   "cell_type": "code",
   "execution_count": 398,
   "metadata": {},
   "outputs": [
    {
     "name": "stdout",
     "output_type": "stream",
     "text": [
      "[1] \"Humans\"\n"
     ]
    },
    {
     "data": {
      "text/html": [
       "<table>\n",
       "<thead><tr><th scope=col>accordance_rate_mean</th><th scope=col>se</th><th scope=col>lower_bound</th><th scope=col>upper_bound</th></tr></thead>\n",
       "<tbody>\n",
       "\t<tr><td>0.95</td><td>0.02</td><td>0.9 </td><td>1   </td></tr>\n",
       "</tbody>\n",
       "</table>\n"
      ],
      "text/latex": [
       "\\begin{tabular}{r|llll}\n",
       " accordance\\_rate\\_mean & se & lower\\_bound & upper\\_bound\\\\\n",
       "\\hline\n",
       "\t 0.95 & 0.02 & 0.9  & 1   \\\\\n",
       "\\end{tabular}\n"
      ],
      "text/markdown": [
       "\n",
       "accordance_rate_mean | se | lower_bound | upper_bound | \n",
       "|---|\n",
       "| 0.95 | 0.02 | 0.9  | 1    | \n",
       "\n",
       "\n"
      ],
      "text/plain": [
       "  accordance_rate_mean se   lower_bound upper_bound\n",
       "1 0.95                 0.02 0.9         1          "
      ]
     },
     "metadata": {},
     "output_type": "display_data"
    },
    {
     "data": {
      "text/html": [
       "<table>\n",
       "<thead><tr><th scope=col>accordance_rate_mean</th><th scope=col>se</th><th scope=col>lower_bound</th><th scope=col>upper_bound</th></tr></thead>\n",
       "<tbody>\n",
       "\t<tr><td>0.9 </td><td>0.04</td><td>0.82</td><td>0.98</td></tr>\n",
       "</tbody>\n",
       "</table>\n"
      ],
      "text/latex": [
       "\\begin{tabular}{r|llll}\n",
       " accordance\\_rate\\_mean & se & lower\\_bound & upper\\_bound\\\\\n",
       "\\hline\n",
       "\t 0.9  & 0.04 & 0.82 & 0.98\\\\\n",
       "\\end{tabular}\n"
      ],
      "text/markdown": [
       "\n",
       "accordance_rate_mean | se | lower_bound | upper_bound | \n",
       "|---|\n",
       "| 0.9  | 0.04 | 0.82 | 0.98 | \n",
       "\n",
       "\n"
      ],
      "text/plain": [
       "  accordance_rate_mean se   lower_bound upper_bound\n",
       "1 0.9                  0.04 0.82        0.98       "
      ]
     },
     "metadata": {},
     "output_type": "display_data"
    },
    {
     "name": "stdout",
     "output_type": "stream",
     "text": [
      "[1] \"ACT-R\"\n"
     ]
    },
    {
     "data": {
      "text/html": [
       "<table>\n",
       "<thead><tr><th scope=col>accordance_rate_mean</th><th scope=col>se</th><th scope=col>lower_bound</th><th scope=col>upper_bound</th></tr></thead>\n",
       "<tbody>\n",
       "\t<tr><td>0.97</td><td>0.01</td><td>0.95</td><td>0.99</td></tr>\n",
       "</tbody>\n",
       "</table>\n"
      ],
      "text/latex": [
       "\\begin{tabular}{r|llll}\n",
       " accordance\\_rate\\_mean & se & lower\\_bound & upper\\_bound\\\\\n",
       "\\hline\n",
       "\t 0.97 & 0.01 & 0.95 & 0.99\\\\\n",
       "\\end{tabular}\n"
      ],
      "text/markdown": [
       "\n",
       "accordance_rate_mean | se | lower_bound | upper_bound | \n",
       "|---|\n",
       "| 0.97 | 0.01 | 0.95 | 0.99 | \n",
       "\n",
       "\n"
      ],
      "text/plain": [
       "  accordance_rate_mean se   lower_bound upper_bound\n",
       "1 0.97                 0.01 0.95        0.99       "
      ]
     },
     "metadata": {},
     "output_type": "display_data"
    },
    {
     "data": {
      "text/html": [
       "<table>\n",
       "<thead><tr><th scope=col>accordance_rate_mean</th><th scope=col>se</th><th scope=col>lower_bound</th><th scope=col>upper_bound</th></tr></thead>\n",
       "<tbody>\n",
       "\t<tr><td>0.96</td><td>0.01</td><td>0.94</td><td>0.98</td></tr>\n",
       "</tbody>\n",
       "</table>\n"
      ],
      "text/latex": [
       "\\begin{tabular}{r|llll}\n",
       " accordance\\_rate\\_mean & se & lower\\_bound & upper\\_bound\\\\\n",
       "\\hline\n",
       "\t 0.96 & 0.01 & 0.94 & 0.98\\\\\n",
       "\\end{tabular}\n"
      ],
      "text/markdown": [
       "\n",
       "accordance_rate_mean | se | lower_bound | upper_bound | \n",
       "|---|\n",
       "| 0.96 | 0.01 | 0.94 | 0.98 | \n",
       "\n",
       "\n"
      ],
      "text/plain": [
       "  accordance_rate_mean se   lower_bound upper_bound\n",
       "1 0.96                 0.01 0.94        0.98       "
      ]
     },
     "metadata": {},
     "output_type": "display_data"
    }
   ],
   "source": [
    "print(\"Humans\")\n",
    "dat %>% \n",
    "    filter( unknown_door_involved == FALSE,\n",
    "            steps_ttb_safety == 1) %>%\n",
    "    filter( block == 5 ) %>%\n",
    "    accordance( chosen_ttb_safety_corrected )\n",
    "\n",
    "dat %>% \n",
    "    filter( unknown_door_involved == FALSE,\n",
    "            steps_ttb_safety == 2) %>%\n",
    "    filter( block == 5 ) %>%\n",
    "    accordance( chosen_ttb_safety_corrected )\n",
    "\n",
    "print(\"ACT-R\")\n",
    "agents %>% \n",
    "    filter( unknown_door_involved == FALSE,\n",
    "            steps_ttb_safety == 1) %>%\n",
    "    accordance_actr( csfm )\n",
    "\n",
    "agents %>% \n",
    "    filter( unknown_door_involved == FALSE,\n",
    "            steps_ttb_safety == 2) %>%\n",
    "    accordance_actr( csfm )"
   ]
  },
  {
   "cell_type": "markdown",
   "metadata": {},
   "source": [
    "### Only first block (known vs unknown door)"
   ]
  },
  {
   "cell_type": "code",
   "execution_count": 406,
   "metadata": {},
   "outputs": [
    {
     "name": "stdout",
     "output_type": "stream",
     "text": [
      "[1] \"Humans\"\n"
     ]
    },
    {
     "data": {
      "text/html": [
       "<table>\n",
       "<thead><tr><th scope=col>block</th><th scope=col>steps_ttb_safety</th><th scope=col>y</th><th scope=col>lower_bound</th><th scope=col>upper_bound</th><th scope=col>x</th><th scope=col>group</th></tr></thead>\n",
       "<tbody>\n",
       "\t<tr><td>5       </td><td>1       </td><td>1557.372</td><td>1187.212</td><td>1927.532</td><td>6       </td><td>1       </td></tr>\n",
       "</tbody>\n",
       "</table>\n"
      ],
      "text/latex": [
       "\\begin{tabular}{r|lllllll}\n",
       " block & steps\\_ttb\\_safety & y & lower\\_bound & upper\\_bound & x & group\\\\\n",
       "\\hline\n",
       "\t 5        & 1        & 1557.372 & 1187.212 & 1927.532 & 6        & 1       \\\\\n",
       "\\end{tabular}\n"
      ],
      "text/markdown": [
       "\n",
       "block | steps_ttb_safety | y | lower_bound | upper_bound | x | group | \n",
       "|---|\n",
       "| 5        | 1        | 1557.372 | 1187.212 | 1927.532 | 6        | 1        | \n",
       "\n",
       "\n"
      ],
      "text/plain": [
       "  block steps_ttb_safety y        lower_bound upper_bound x group\n",
       "1 5     1                1557.372 1187.212    1927.532    6 1    "
      ]
     },
     "metadata": {},
     "output_type": "display_data"
    },
    {
     "name": "stdout",
     "output_type": "stream",
     "text": [
      "[1] \"ACT-R\"\n"
     ]
    },
    {
     "data": {
      "text/html": [
       "<table>\n",
       "<thead><tr><th scope=col>steps_ttb_safety</th><th scope=col>y</th><th scope=col>lower_bound</th><th scope=col>upper_bound</th></tr></thead>\n",
       "<tbody>\n",
       "\t<tr><td>1   </td><td>2010</td><td>1889</td><td>2131</td></tr>\n",
       "</tbody>\n",
       "</table>\n"
      ],
      "text/latex": [
       "\\begin{tabular}{r|llll}\n",
       " steps\\_ttb\\_safety & y & lower\\_bound & upper\\_bound\\\\\n",
       "\\hline\n",
       "\t 1    & 2010 & 1889 & 2131\\\\\n",
       "\\end{tabular}\n"
      ],
      "text/markdown": [
       "\n",
       "steps_ttb_safety | y | lower_bound | upper_bound | \n",
       "|---|\n",
       "| 1    | 2010 | 1889 | 2131 | \n",
       "\n",
       "\n"
      ],
      "text/plain": [
       "  steps_ttb_safety y    lower_bound upper_bound\n",
       "1 1                2010 1889        2131       "
      ]
     },
     "metadata": {},
     "output_type": "display_data"
    }
   ],
   "source": [
    "print('Humans')\n",
    "\n",
    "rt_ttb_safety_f2 <- dat %>%\n",
    "                    filter(unknown_door_involved == TRUE) %>% # Unknown doors filtered IN\n",
    "                    filter(equivalent_options == FALSE) %>% # But different\n",
    "                    group_by(id, block, steps_ttb_safety) %>%\n",
    "                    summarize(subject_rt_mean = mean(rt)) %>% # per subject per block\n",
    "                    group_by(block, steps_ttb_safety) %>%\n",
    "                    summarize(y = mean(subject_rt_mean),\n",
    "                              lower_bound = t.test(subject_rt_mean, conf.level=0.95)$conf.int[1],\n",
    "                              upper_bound = t.test(subject_rt_mean, conf.level=0.95)$conf.int[2]) %>%\n",
    "                    mutate(x = block + 1,\n",
    "                           group = steps_ttb_safety)\n",
    "\n",
    "rt_ttb_safety_f2 %>% filter(block == 5)\n",
    "\n",
    "print('ACT-R')\n",
    "\n",
    "agents %>%\n",
    "                    filter(unknown_door_involved == TRUE) %>% # Unknown doors filtered IN\n",
    "                    filter(equivalent_options == FALSE) %>% # But different\n",
    "                    group_by(id, steps_ttb_safety) %>%\n",
    "                    summarize(subject_rt_mean = mean(rt)) %>% # per subject per block\n",
    "                    group_by(steps_ttb_safety) %>%\n",
    "                    summarize(y = mean(subject_rt_mean),\n",
    "                              lower_bound = t.test(subject_rt_mean, conf.level=0.95)$conf.int[1],\n",
    "                              upper_bound = t.test(subject_rt_mean, conf.level=0.95)$conf.int[2]) %>%\n",
    "                    mutate(y = round(y, 3) * 1000,\n",
    "                           lower_bound = round(lower_bound, 3) * 1000,\n",
    "                           upper_bound = round(upper_bound, 3) * 1000)"
   ]
  },
  {
   "cell_type": "code",
   "execution_count": 400,
   "metadata": {},
   "outputs": [
    {
     "name": "stdout",
     "output_type": "stream",
     "text": [
      "[1] \"Humans\"\n"
     ]
    },
    {
     "data": {
      "text/html": [
       "<table>\n",
       "<thead><tr><th scope=col>accordance_rate_mean</th><th scope=col>se</th><th scope=col>lower_bound</th><th scope=col>upper_bound</th></tr></thead>\n",
       "<tbody>\n",
       "\t<tr><td>0.82</td><td>0.04</td><td>0.74</td><td>0.91</td></tr>\n",
       "</tbody>\n",
       "</table>\n"
      ],
      "text/latex": [
       "\\begin{tabular}{r|llll}\n",
       " accordance\\_rate\\_mean & se & lower\\_bound & upper\\_bound\\\\\n",
       "\\hline\n",
       "\t 0.82 & 0.04 & 0.74 & 0.91\\\\\n",
       "\\end{tabular}\n"
      ],
      "text/markdown": [
       "\n",
       "accordance_rate_mean | se | lower_bound | upper_bound | \n",
       "|---|\n",
       "| 0.82 | 0.04 | 0.74 | 0.91 | \n",
       "\n",
       "\n"
      ],
      "text/plain": [
       "  accordance_rate_mean se   lower_bound upper_bound\n",
       "1 0.82                 0.04 0.74        0.91       "
      ]
     },
     "metadata": {},
     "output_type": "display_data"
    },
    {
     "name": "stdout",
     "output_type": "stream",
     "text": [
      "[1] \"ACT-R\"\n"
     ]
    },
    {
     "data": {
      "text/html": [
       "<table>\n",
       "<thead><tr><th scope=col>accordance_rate_mean</th><th scope=col>se</th><th scope=col>lower_bound</th><th scope=col>upper_bound</th></tr></thead>\n",
       "<tbody>\n",
       "\t<tr><td>0.83</td><td>0.01</td><td>0.8 </td><td>0.86</td></tr>\n",
       "</tbody>\n",
       "</table>\n"
      ],
      "text/latex": [
       "\\begin{tabular}{r|llll}\n",
       " accordance\\_rate\\_mean & se & lower\\_bound & upper\\_bound\\\\\n",
       "\\hline\n",
       "\t 0.83 & 0.01 & 0.8  & 0.86\\\\\n",
       "\\end{tabular}\n"
      ],
      "text/markdown": [
       "\n",
       "accordance_rate_mean | se | lower_bound | upper_bound | \n",
       "|---|\n",
       "| 0.83 | 0.01 | 0.8  | 0.86 | \n",
       "\n",
       "\n"
      ],
      "text/plain": [
       "  accordance_rate_mean se   lower_bound upper_bound\n",
       "1 0.83                 0.01 0.8         0.86       "
      ]
     },
     "metadata": {},
     "output_type": "display_data"
    }
   ],
   "source": [
    "print(\"Humans\")\n",
    "dat %>% \n",
    "    filter(unknown_door_involved == TRUE, # Unknown doors filtered IN\n",
    "           equivalent_options == FALSE) %>% # But different\n",
    "    filter( block == 5 ) %>%\n",
    "    accordance( chosen_ttb_safety_corrected )\n",
    "\n",
    "print(\"ACT-R\")\n",
    "agents %>% \n",
    "    filter(unknown_door_involved == TRUE, # Unknown doors filtered IN\n",
    "           equivalent_options == FALSE) %>% # But different\n",
    "    accordance_actr( csfm )"
   ]
  },
  {
   "cell_type": "markdown",
   "metadata": {},
   "source": [
    "### Only first block (unknown vs unknown door)"
   ]
  },
  {
   "cell_type": "code",
   "execution_count": 407,
   "metadata": {},
   "outputs": [
    {
     "name": "stdout",
     "output_type": "stream",
     "text": [
      "[1] \"Humans\"\n"
     ]
    },
    {
     "data": {
      "text/html": [
       "<table>\n",
       "<thead><tr><th scope=col>block</th><th scope=col>steps_ttb_safety</th><th scope=col>y</th><th scope=col>lower_bound</th><th scope=col>upper_bound</th><th scope=col>x</th><th scope=col>group</th></tr></thead>\n",
       "<tbody>\n",
       "\t<tr><td>5       </td><td>1       </td><td>2512.175</td><td>1612.958</td><td>3411.392</td><td>6       </td><td>1       </td></tr>\n",
       "</tbody>\n",
       "</table>\n"
      ],
      "text/latex": [
       "\\begin{tabular}{r|lllllll}\n",
       " block & steps\\_ttb\\_safety & y & lower\\_bound & upper\\_bound & x & group\\\\\n",
       "\\hline\n",
       "\t 5        & 1        & 2512.175 & 1612.958 & 3411.392 & 6        & 1       \\\\\n",
       "\\end{tabular}\n"
      ],
      "text/markdown": [
       "\n",
       "block | steps_ttb_safety | y | lower_bound | upper_bound | x | group | \n",
       "|---|\n",
       "| 5        | 1        | 2512.175 | 1612.958 | 3411.392 | 6        | 1        | \n",
       "\n",
       "\n"
      ],
      "text/plain": [
       "  block steps_ttb_safety y        lower_bound upper_bound x group\n",
       "1 5     1                2512.175 1612.958    3411.392    6 1    "
      ]
     },
     "metadata": {},
     "output_type": "display_data"
    },
    {
     "name": "stdout",
     "output_type": "stream",
     "text": [
      "[1] \"ACT-R\"\n"
     ]
    },
    {
     "data": {
      "text/html": [
       "<table>\n",
       "<thead><tr><th scope=col>steps_ttb_safety</th><th scope=col>y</th><th scope=col>lower_bound</th><th scope=col>upper_bound</th></tr></thead>\n",
       "<tbody>\n",
       "\t<tr><td>1   </td><td>2862</td><td>2688</td><td>3036</td></tr>\n",
       "</tbody>\n",
       "</table>\n"
      ],
      "text/latex": [
       "\\begin{tabular}{r|llll}\n",
       " steps\\_ttb\\_safety & y & lower\\_bound & upper\\_bound\\\\\n",
       "\\hline\n",
       "\t 1    & 2862 & 2688 & 3036\\\\\n",
       "\\end{tabular}\n"
      ],
      "text/markdown": [
       "\n",
       "steps_ttb_safety | y | lower_bound | upper_bound | \n",
       "|---|\n",
       "| 1    | 2862 | 2688 | 3036 | \n",
       "\n",
       "\n"
      ],
      "text/plain": [
       "  steps_ttb_safety y    lower_bound upper_bound\n",
       "1 1                2862 2688        3036       "
      ]
     },
     "metadata": {},
     "output_type": "display_data"
    }
   ],
   "source": [
    "print(\"Humans\")\n",
    "rt_ttb_safety_f3 <- dat %>%\n",
    "                    filter(unknown_door_involved == TRUE) %>% # Unknown doors filtered IN\n",
    "                    filter(equivalent_options == TRUE) %>%\n",
    "                    group_by(id, block, steps_ttb_safety) %>%\n",
    "                    summarize(subject_rt_mean = mean(rt)) %>% # per subject per block\n",
    "                    group_by(block, steps_ttb_safety) %>%\n",
    "                    summarize(y = mean(subject_rt_mean),\n",
    "                              lower_bound = t.test(subject_rt_mean, conf.level=0.95)$conf.int[1],\n",
    "                              upper_bound = t.test(subject_rt_mean, conf.level=0.95)$conf.int[2]) %>%\n",
    "                    mutate(x = block + 1,\n",
    "                           group = steps_ttb_safety)\n",
    "\n",
    "rt_ttb_safety_f3 %>% filter(block == 5)\n",
    "\n",
    "print(\"ACT-R\")\n",
    "agents %>%\n",
    "                    filter(unknown_door_involved == TRUE) %>% # Unknown doors filtered IN\n",
    "                    filter(equivalent_options == TRUE) %>%\n",
    "                    group_by(id, steps_ttb_safety) %>%\n",
    "                    summarize(subject_rt_mean = mean(rt)) %>% # per subject per block\n",
    "                    group_by( steps_ttb_safety) %>%\n",
    "                    summarize(y = mean(subject_rt_mean),\n",
    "                              lower_bound = t.test(subject_rt_mean, conf.level=0.95)$conf.int[1],\n",
    "                              upper_bound = t.test(subject_rt_mean, conf.level=0.95)$conf.int[2]) %>%\n",
    "                    mutate(y = round(y, 3) * 1000,\n",
    "                           lower_bound = round(lower_bound, 3) * 1000,\n",
    "                           upper_bound = round(upper_bound, 3) * 1000)"
   ]
  },
  {
   "cell_type": "code",
   "execution_count": 403,
   "metadata": {},
   "outputs": [
    {
     "name": "stdout",
     "output_type": "stream",
     "text": [
      "[1] \"Humans\"\n"
     ]
    },
    {
     "data": {
      "text/html": [
       "<table>\n",
       "<thead><tr><th scope=col>selected_right_rate_mean</th><th scope=col>se</th><th scope=col>lower_bound</th><th scope=col>upper_bound</th></tr></thead>\n",
       "<tbody>\n",
       "\t<tr><td>0.48</td><td>0.06</td><td>0.36</td><td>0.59</td></tr>\n",
       "</tbody>\n",
       "</table>\n"
      ],
      "text/latex": [
       "\\begin{tabular}{r|llll}\n",
       " selected\\_right\\_rate\\_mean & se & lower\\_bound & upper\\_bound\\\\\n",
       "\\hline\n",
       "\t 0.48 & 0.06 & 0.36 & 0.59\\\\\n",
       "\\end{tabular}\n"
      ],
      "text/markdown": [
       "\n",
       "selected_right_rate_mean | se | lower_bound | upper_bound | \n",
       "|---|\n",
       "| 0.48 | 0.06 | 0.36 | 0.59 | \n",
       "\n",
       "\n"
      ],
      "text/plain": [
       "  selected_right_rate_mean se   lower_bound upper_bound\n",
       "1 0.48                     0.06 0.36        0.59       "
      ]
     },
     "metadata": {},
     "output_type": "display_data"
    },
    {
     "name": "stdout",
     "output_type": "stream",
     "text": [
      "[1] \"ACT-R\"\n"
     ]
    },
    {
     "data": {
      "text/html": [
       "<table>\n",
       "<thead><tr><th scope=col>selected_right_rate_mean</th><th scope=col>se</th><th scope=col>lower_bound</th><th scope=col>upper_bound</th></tr></thead>\n",
       "<tbody>\n",
       "\t<tr><td>0.46</td><td>0.03</td><td>0.4 </td><td>0.51</td></tr>\n",
       "</tbody>\n",
       "</table>\n"
      ],
      "text/latex": [
       "\\begin{tabular}{r|llll}\n",
       " selected\\_right\\_rate\\_mean & se & lower\\_bound & upper\\_bound\\\\\n",
       "\\hline\n",
       "\t 0.46 & 0.03 & 0.4  & 0.51\\\\\n",
       "\\end{tabular}\n"
      ],
      "text/markdown": [
       "\n",
       "selected_right_rate_mean | se | lower_bound | upper_bound | \n",
       "|---|\n",
       "| 0.46 | 0.03 | 0.4  | 0.51 | \n",
       "\n",
       "\n"
      ],
      "text/plain": [
       "  selected_right_rate_mean se   lower_bound upper_bound\n",
       "1 0.46                     0.03 0.4         0.51       "
      ]
     },
     "metadata": {},
     "output_type": "display_data"
    }
   ],
   "source": [
    "print(\"Humans\")\n",
    "dat %>%\n",
    "    filter( unknown_door_involved == TRUE, # Unknown doors filtered IN\n",
    "            equivalent_options == TRUE ) %>%\n",
    "    filter( block == 5 ) %>%\n",
    "    mutate(selected_right = key_pressed == 'right') %>%\n",
    "    group_by( id ) %>%\n",
    "    summarize( selected_right_rate = mean(selected_right) ) %>%\n",
    "    summarize( selected_right_rate_mean = mean(selected_right_rate), \n",
    "               se = se(selected_right_rate),\n",
    "               lower_bound = t.test(selected_right_rate, conf.level=0.95)$conf.int[1],\n",
    "               upper_bound = t.test(selected_right_rate, conf.level=0.95)$conf.int[2]) %>%\n",
    "    round( decimals )\n",
    "    \n",
    "\n",
    "\n",
    "print(\"ACT-R\")\n",
    "agents %>% \n",
    "    filter( unknown_door_involved == TRUE, # Unknown doors filtered IN\n",
    "            equivalent_options == TRUE ) %>%\n",
    "    mutate(selected_right = response == 'j') %>%\n",
    "    group_by( id ) %>%\n",
    "    summarize( selected_right_rate = mean(selected_right) ) %>%\n",
    "    summarize( selected_right_rate_mean = mean(selected_right_rate), \n",
    "               se = se(selected_right_rate),\n",
    "               lower_bound = t.test(selected_right_rate, conf.level=0.95)$conf.int[1],\n",
    "               upper_bound = t.test(selected_right_rate, conf.level=0.95)$conf.int[2]) %>%\n",
    "    round( decimals )"
   ]
  },
  {
   "cell_type": "markdown",
   "metadata": {},
   "source": [
    "# Threshold analysis"
   ]
  },
  {
   "cell_type": "code",
   "execution_count": 132,
   "metadata": {},
   "outputs": [],
   "source": [
    "agents_t <- read_csv(\"../ACT-R/outputs/experiment-threshold.csv\", col_types = list(id = col_integer(), opt1 = col_character(), opt2 = col_character(), response = col_character(), time = col_double(), threshold = col_character()) )\n",
    "\n",
    "# Response times\n",
    "agents_t$rt <- agents_t$time - c(0, agents_t$time[1 : length(agents_t$time) - 1])\n",
    "agents_t[agents_t$rt < 0, 'rt'] <- agents_t[agents_t$rt < 0, 'time']\n",
    "\n",
    "# Chosen door\n",
    "agents_t$chosen_door <- ifelse(agents_t$response == 'f', agents_t$opt1, agents_t$opt2)\n",
    "\n",
    "#################\n",
    "\n",
    "# Corrected TTB Safety (CSfM predictions)\n",
    "agents_t$csfm <- \"unknown\"\n",
    "\n",
    "# A is always superior\n",
    "agents_t$csfm <- ifelse(agents_t$opt1 == \"a\" | agents_t$opt2 == \"a\", \"a\", agents_t$csfm)\n",
    "\n",
    "# Option B\n",
    "agents_t$csfm <- ifelse(agents_t$csfm == \"unknown\" & (agents_t$opt1 == \"b\" | agents_t$opt2 == \"b\"), \"b\", agents_t$csfm)\n",
    "\n",
    "# C vs D, wins C\n",
    "agents_t$csfm <- ifelse(agents_t$opt1 == \"c\" & agents_t$opt2 == \"d\", \"c\", agents_t$csfm)\n",
    "agents_t$csfm <- ifelse(agents_t$opt1 == \"d\" & agents_t$opt2 == \"c\", \"c\", agents_t$csfm)\n",
    "\n",
    "# C or D versus unknown\n",
    "agents_t$csfm <- ifelse(agents_t$csfm == \"unknown\" & (agents_t$opt1 == \"c\" | agents_t$opt1 == \"d\"), agents_t$opt2, agents_t$csfm)\n",
    "agents_t$csfm <- ifelse(agents_t$csfm == \"unknown\" & (agents_t$opt2 == \"c\" | agents_t$opt2 == \"d\"), agents_t$opt1, agents_t$csfm)\n",
    "\n",
    "# Unknown door involved\n",
    "agents_t$unknown_door_involved <- ( (agents_t$opt1 != 'a' & agents_t$opt1 != 'b' & agents_t$opt1 != 'c' & agents_t$opt1 != 'd') | \n",
    "                                  (agents_t$opt2 != 'a' & agents_t$opt2 != 'b' & agents_t$opt2 != 'c' & agents_t$opt2 != 'd') )\n",
    "\n",
    "# Equivalent alternatives\n",
    "agents_t$equivalent_options <- agents_t$csfm == \"unknown\"\n",
    "\n",
    "# STEPS:\n",
    "## Default is 1\n",
    "agents_t$steps_ttb_safety <- 1\n",
    "\n",
    "## 2 steps\n",
    "\n",
    "### A vs B\n",
    "agents_t$steps_ttb_safety <- ifelse((agents_t$opt1 == \"a\" & agents_t$opt2 == \"b\") |\n",
    "                                  (agents_t$opt1 == \"b\" & agents_t$opt2 == \"a\"), 2, agents_t$steps_ttb_safety)\n",
    "\n",
    "### C vs D\n",
    "agents_t$steps_ttb_safety <- ifelse((agents_t$opt1 == \"c\" & agents_t$opt2 == \"d\") |\n",
    "                                  (agents_t$opt1 == \"d\" & agents_t$opt2 == \"c\"), 2, agents_t$steps_ttb_safety)"
   ]
  },
  {
   "cell_type": "code",
   "execution_count": 133,
   "metadata": {},
   "outputs": [],
   "source": [
    "agents_t$threshold <- ifelse(agents_t$threshold == '-10' |\n",
    "                             agents_t$threshold == '-9' |\n",
    "                             agents_t$threshold == '-8' |\n",
    "                             agents_t$threshold == '-7' |\n",
    "                             agents_t$threshold == '-6' |\n",
    "                             agents_t$threshold == '-5' |\n",
    "                             agents_t$threshold == '-4' |\n",
    "                             agents_t$threshold == '-3' |\n",
    "                             agents_t$threshold == '-2' |\n",
    "                             agents_t$threshold == '-1' |\n",
    "                             agents_t$threshold == '0' |\n",
    "                             agents_t$threshold == '1' | \n",
    "                             agents_t$threshold == '2' |\n",
    "                             agents_t$threshold == '3' |\n",
    "                             agents_t$threshold == '4' |\n",
    "                             agents_t$threshold == '5' |\n",
    "                             agents_t$threshold == '6' |\n",
    "                             agents_t$threshold == '7' |\n",
    "                             agents_t$threshold == '8' |\n",
    "                             agents_t$threshold == '9' |\n",
    "                             agents_t$threshold == '10', paste0(agents_t$threshold, '/1'), agents_t$threshold)\n",
    "\n",
    "agents_t$threshold_f <- sapply(strsplit(agents_t$threshold, '/'), function(x) as.numeric(x[1]) / as.numeric(x[2]))"
   ]
  },
  {
   "cell_type": "markdown",
   "metadata": {},
   "source": [
    "### Retrieval threshold and response time"
   ]
  },
  {
   "cell_type": "code",
   "execution_count": 113,
   "metadata": {},
   "outputs": [],
   "source": [
    "threshold_data <- agents_t %>%\n",
    "    filter( unknown_door_involved == FALSE ) %>%\n",
    "    group_by( id, threshold_f ) %>%\n",
    "    summarize( rt_subject_mean = mean(rt) ) %>%\n",
    "    group_by( threshold_f ) %>%\n",
    "    summarize( rt_mean = mean(rt_subject_mean) * 1000, \n",
    "                   lower_bound = t.test(rt_subject_mean, conf.level=0.95)$conf.int[1] * 1000,\n",
    "                   upper_bound = t.test(rt_subject_mean, conf.level=0.95)$conf.int[2] * 1000) %>%\n",
    "        round( decimals )"
   ]
  },
  {
   "cell_type": "code",
   "execution_count": 159,
   "metadata": {},
   "outputs": [
    {
     "name": "stderr",
     "output_type": "stream",
     "text": [
      "Warning message:\n",
      "\"Removed 110 rows containing missing values (geom_path).\"Warning message:\n",
      "\"Removed 110 rows containing missing values (geom_point).\""
     ]
    },
    {
     "data": {},
     "metadata": {},
     "output_type": "display_data"
    },
    {
     "data": {
      "text/html": [
       "<strong>png:</strong> 2"
      ],
      "text/latex": [
       "\\textbf{png:} 2"
      ],
      "text/markdown": [
       "**png:** 2"
      ],
      "text/plain": [
       "png \n",
       "  2 "
      ]
     },
     "metadata": {},
     "output_type": "display_data"
    }
   ],
   "source": [
    "threshold_graph <- ggplot(data=threshold_data, aes(x=threshold_f, y=rt_mean, group=1)) +\n",
    "    geom_line() +\n",
    "    geom_point() +\n",
    "    expand_limits(y = 0) +\n",
    "    scale_x_continuous(lim = c(-2, 7), breaks = seq(-2, 7, 1)) +\n",
    "    geom_vline(xintercept = 0) +\n",
    "    geom_ribbon(aes(ymin=lower_bound, ymax=upper_bound),alpha=0.3) +\n",
    "    xlab(\"Retrieval threshold\") + ylab(\"Average response time (ms.)\")\n",
    "\n",
    "svg(\"Images/threshold_graph.svg\", width=8, height=4)\n",
    "threshold_graph\n",
    "dev.off()"
   ]
  },
  {
   "cell_type": "markdown",
   "metadata": {},
   "source": [
    "### Retrieval threshold and accordance rate"
   ]
  },
  {
   "cell_type": "code",
   "execution_count": 135,
   "metadata": {},
   "outputs": [
    {
     "data": {
      "text/html": [
       "<table>\n",
       "<thead><tr><th scope=col>id</th><th scope=col>opt1</th><th scope=col>opt2</th><th scope=col>response</th><th scope=col>time</th><th scope=col>threshold</th><th scope=col>rt</th><th scope=col>chosen_door</th><th scope=col>csfm</th><th scope=col>unknown_door_involved</th><th scope=col>equivalent_options</th><th scope=col>steps_ttb_safety</th><th scope=col>threshold_f</th></tr></thead>\n",
       "<tbody>\n",
       "\t<tr><td>1    </td><td>b    </td><td>d    </td><td>f    </td><td>1.481</td><td>-10/1</td><td>1.481</td><td>b    </td><td>b    </td><td>FALSE</td><td>FALSE</td><td>1    </td><td>-10  </td></tr>\n",
       "\t<tr><td>1    </td><td>c    </td><td>d    </td><td>f    </td><td>3.288</td><td>-10/1</td><td>1.807</td><td>c    </td><td>c    </td><td>FALSE</td><td>FALSE</td><td>2    </td><td>-10  </td></tr>\n",
       "\t<tr><td>1    </td><td>c    </td><td>b    </td><td>j    </td><td>4.528</td><td>-10/1</td><td>1.240</td><td>b    </td><td>b    </td><td>FALSE</td><td>FALSE</td><td>1    </td><td>-10  </td></tr>\n",
       "\t<tr><td>1    </td><td>b    </td><td>a    </td><td>j    </td><td>6.456</td><td>-10/1</td><td>1.928</td><td>a    </td><td>a    </td><td>FALSE</td><td>FALSE</td><td>2    </td><td>-10  </td></tr>\n",
       "\t<tr><td>1    </td><td>d    </td><td>c    </td><td>j    </td><td>8.187</td><td>-10/1</td><td>1.731</td><td>c    </td><td>c    </td><td>FALSE</td><td>FALSE</td><td>2    </td><td>-10  </td></tr>\n",
       "\t<tr><td>1    </td><td>a    </td><td>c    </td><td>f    </td><td>9.423</td><td>-10/1</td><td>1.236</td><td>a    </td><td>a    </td><td>FALSE</td><td>FALSE</td><td>1    </td><td>-10  </td></tr>\n",
       "</tbody>\n",
       "</table>\n"
      ],
      "text/latex": [
       "\\begin{tabular}{r|lllllllllllll}\n",
       " id & opt1 & opt2 & response & time & threshold & rt & chosen\\_door & csfm & unknown\\_door\\_involved & equivalent\\_options & steps\\_ttb\\_safety & threshold\\_f\\\\\n",
       "\\hline\n",
       "\t 1     & b     & d     & f     & 1.481 & -10/1 & 1.481 & b     & b     & FALSE & FALSE & 1     & -10  \\\\\n",
       "\t 1     & c     & d     & f     & 3.288 & -10/1 & 1.807 & c     & c     & FALSE & FALSE & 2     & -10  \\\\\n",
       "\t 1     & c     & b     & j     & 4.528 & -10/1 & 1.240 & b     & b     & FALSE & FALSE & 1     & -10  \\\\\n",
       "\t 1     & b     & a     & j     & 6.456 & -10/1 & 1.928 & a     & a     & FALSE & FALSE & 2     & -10  \\\\\n",
       "\t 1     & d     & c     & j     & 8.187 & -10/1 & 1.731 & c     & c     & FALSE & FALSE & 2     & -10  \\\\\n",
       "\t 1     & a     & c     & f     & 9.423 & -10/1 & 1.236 & a     & a     & FALSE & FALSE & 1     & -10  \\\\\n",
       "\\end{tabular}\n"
      ],
      "text/markdown": [
       "\n",
       "id | opt1 | opt2 | response | time | threshold | rt | chosen_door | csfm | unknown_door_involved | equivalent_options | steps_ttb_safety | threshold_f | \n",
       "|---|---|---|---|---|---|\n",
       "| 1     | b     | d     | f     | 1.481 | -10/1 | 1.481 | b     | b     | FALSE | FALSE | 1     | -10   | \n",
       "| 1     | c     | d     | f     | 3.288 | -10/1 | 1.807 | c     | c     | FALSE | FALSE | 2     | -10   | \n",
       "| 1     | c     | b     | j     | 4.528 | -10/1 | 1.240 | b     | b     | FALSE | FALSE | 1     | -10   | \n",
       "| 1     | b     | a     | j     | 6.456 | -10/1 | 1.928 | a     | a     | FALSE | FALSE | 2     | -10   | \n",
       "| 1     | d     | c     | j     | 8.187 | -10/1 | 1.731 | c     | c     | FALSE | FALSE | 2     | -10   | \n",
       "| 1     | a     | c     | f     | 9.423 | -10/1 | 1.236 | a     | a     | FALSE | FALSE | 1     | -10   | \n",
       "\n",
       "\n"
      ],
      "text/plain": [
       "  id opt1 opt2 response time  threshold rt    chosen_door csfm\n",
       "1 1  b    d    f        1.481 -10/1     1.481 b           b   \n",
       "2 1  c    d    f        3.288 -10/1     1.807 c           c   \n",
       "3 1  c    b    j        4.528 -10/1     1.240 b           b   \n",
       "4 1  b    a    j        6.456 -10/1     1.928 a           a   \n",
       "5 1  d    c    j        8.187 -10/1     1.731 c           c   \n",
       "6 1  a    c    f        9.423 -10/1     1.236 a           a   \n",
       "  unknown_door_involved equivalent_options steps_ttb_safety threshold_f\n",
       "1 FALSE                 FALSE              1                -10        \n",
       "2 FALSE                 FALSE              2                -10        \n",
       "3 FALSE                 FALSE              1                -10        \n",
       "4 FALSE                 FALSE              2                -10        \n",
       "5 FALSE                 FALSE              2                -10        \n",
       "6 FALSE                 FALSE              1                -10        "
      ]
     },
     "metadata": {},
     "output_type": "display_data"
    }
   ],
   "source": [
    "agents_t %>% head"
   ]
  },
  {
   "cell_type": "code",
   "execution_count": 150,
   "metadata": {},
   "outputs": [],
   "source": [
    "threshold_accordance_data <- agents_t %>%\n",
    "    mutate( correctly_predicted = (chosen_door == csfm) ) %>%\n",
    "    filter( unknown_door_involved == FALSE ) %>%\n",
    "    group_by( id, threshold_f ) %>%\n",
    "    summarize( accordance_rate = jitter(mean(correctly_predicted), 0.001) ) %>%\n",
    "    group_by( threshold_f ) %>%\n",
    "    summarize( accordance_rate_mean = mean(accordance_rate),\n",
    "                   lower_bound = t.test(accordance_rate, conf.level=0.95)$conf.int[1],\n",
    "                   upper_bound = t.test(accordance_rate, conf.level=0.95)$conf.int[2],\n",
    "                   se = se(accordance_rate)) %>%\n",
    "    round( decimals )"
   ]
  },
  {
   "cell_type": "code",
   "execution_count": 160,
   "metadata": {},
   "outputs": [
    {
     "name": "stderr",
     "output_type": "stream",
     "text": [
      "Warning message:\n",
      "\"Removed 110 rows containing missing values (geom_path).\"Warning message:\n",
      "\"Removed 110 rows containing missing values (geom_point).\""
     ]
    },
    {
     "data": {},
     "metadata": {},
     "output_type": "display_data"
    },
    {
     "data": {
      "text/html": [
       "<strong>png:</strong> 2"
      ],
      "text/latex": [
       "\\textbf{png:} 2"
      ],
      "text/markdown": [
       "**png:** 2"
      ],
      "text/plain": [
       "png \n",
       "  2 "
      ]
     },
     "metadata": {},
     "output_type": "display_data"
    }
   ],
   "source": [
    "threshold_accordance_graph <- ggplot(data=threshold_accordance_data, aes(x=threshold_f, y=accordance_rate_mean, group=1)) +\n",
    "    geom_line() +\n",
    "    geom_point() +\n",
    "    expand_limits(y = 0) +\n",
    "    scale_x_continuous(lim = c(-2, 7), breaks = seq(-2, 7, 1)) +\n",
    "    geom_vline(xintercept = 0) +\n",
    "    geom_ribbon(aes(ymin=lower_bound, ymax=upper_bound),alpha=0.3) +\n",
    "    xlab(\"Retrieval threshold\") + ylab(\"Average accordance rate\")\n",
    "\n",
    "svg(\"Images/threshold_accordance_graph.svg\", width=8, height=4)\n",
    "threshold_accordance_graph\n",
    "dev.off()"
   ]
  },
  {
   "cell_type": "markdown",
   "metadata": {
    "collapsed": true
   },
   "source": [
    "# Explore"
   ]
  },
  {
   "cell_type": "code",
   "execution_count": null,
   "metadata": {
    "collapsed": true
   },
   "outputs": [],
   "source": [
    "dat %>%\n",
    "    select(-KEY_RESPONSE_TIME, -DISPLAY_TIME, -row_id, -unknown_door_involved) %>%\n",
    "    filter(chosen_ttb_speed != chosen_ttb_safety) %>%\n",
    "    head"
   ]
  },
  {
   "cell_type": "code",
   "execution_count": 44,
   "metadata": {
    "scrolled": true
   },
   "outputs": [
    {
     "data": {
      "text/html": [
       "<table>\n",
       "<thead><tr><th scope=col>left_door</th><th scope=col>right_door</th><th scope=col>rt</th><th scope=col>key_pressed</th><th scope=col>block_level_1_fc</th><th scope=col>block</th><th scope=col>id</th><th scope=col>experiment</th><th scope=col>chosen_door</th><th scope=col>left_speed</th><th scope=col>...</th><th scope=col>right_speed</th><th scope=col>right_safety</th><th scope=col>chosen_speed</th><th scope=col>chosen_safety</th><th scope=col>steps_ttb_speed</th><th scope=col>steps_ttb_safety</th><th scope=col>chosen_door_is_unknown</th><th scope=col>chosen_ttb_speed</th><th scope=col>chosen_ttb_safety</th><th scope=col>equivalent_options</th></tr></thead>\n",
       "<tbody>\n",
       "\t<tr><td>door005</td><td>door000</td><td>2271   </td><td>left   </td><td>1      </td><td>0      </td><td>1      </td><td>A      </td><td>door005</td><td>-1     </td><td>...    </td><td> 0     </td><td> 0     </td><td>-1     </td><td> 1     </td><td>1      </td><td>1      </td><td>FALSE  </td><td>left   </td><td>left   </td><td>FALSE  </td></tr>\n",
       "\t<tr><td>door004</td><td>door000</td><td> 567   </td><td>left   </td><td>1      </td><td>0      </td><td>1      </td><td>A      </td><td>door004</td><td> 1     </td><td>...    </td><td> 0     </td><td> 0     </td><td> 1     </td><td> 1     </td><td>1      </td><td>1      </td><td>FALSE  </td><td>left   </td><td>left   </td><td>FALSE  </td></tr>\n",
       "\t<tr><td>door001</td><td>door000</td><td>3496   </td><td>right  </td><td>1      </td><td>0      </td><td>1      </td><td>A      </td><td>door000</td><td> 1     </td><td>...    </td><td> 0     </td><td> 0     </td><td> 0     </td><td> 0     </td><td>1      </td><td>1      </td><td> TRUE  </td><td>left   </td><td>left   </td><td>FALSE  </td></tr>\n",
       "\t<tr><td>door000</td><td>door004</td><td>1084   </td><td>right  </td><td>1      </td><td>0      </td><td>1      </td><td>A      </td><td>door004</td><td> 0     </td><td>...    </td><td> 1     </td><td> 1     </td><td> 1     </td><td> 1     </td><td>1      </td><td>1      </td><td>FALSE  </td><td>right  </td><td>right  </td><td>FALSE  </td></tr>\n",
       "\t<tr><td>door002</td><td>door003</td><td>4220   </td><td>left   </td><td>1      </td><td>0      </td><td>1      </td><td>A      </td><td>door002</td><td> 0     </td><td>...    </td><td>-1     </td><td>-1     </td><td> 0     </td><td> 0     </td><td>1      </td><td>1      </td><td> TRUE  </td><td>right  </td><td>right  </td><td>FALSE  </td></tr>\n",
       "\t<tr><td>door001</td><td>door002</td><td>1124   </td><td>right  </td><td>1      </td><td>0      </td><td>1      </td><td>A      </td><td>door002</td><td> 1     </td><td>...    </td><td> 0     </td><td> 0     </td><td> 0     </td><td> 0     </td><td>1      </td><td>1      </td><td> TRUE  </td><td>left   </td><td>left   </td><td>FALSE  </td></tr>\n",
       "\t<tr><td>door003</td><td>door002</td><td>1244   </td><td>right  </td><td>1      </td><td>0      </td><td>1      </td><td>A      </td><td>door002</td><td>-1     </td><td>...    </td><td> 0     </td><td> 0     </td><td> 0     </td><td> 0     </td><td>1      </td><td>1      </td><td> TRUE  </td><td>left   </td><td>left   </td><td>FALSE  </td></tr>\n",
       "\t<tr><td>door002</td><td>door001</td><td>2411   </td><td>left   </td><td>1      </td><td>0      </td><td>1      </td><td>A      </td><td>door002</td><td> 0     </td><td>...    </td><td> 1     </td><td>-1     </td><td> 0     </td><td> 0     </td><td>1      </td><td>1      </td><td> TRUE  </td><td>right  </td><td>right  </td><td>FALSE  </td></tr>\n",
       "\t<tr><td>door002</td><td>door005</td><td>1844   </td><td>right  </td><td>1      </td><td>0      </td><td>1      </td><td>A      </td><td>door005</td><td> 0     </td><td>...    </td><td>-1     </td><td> 1     </td><td>-1     </td><td> 1     </td><td>1      </td><td>1      </td><td>FALSE  </td><td>right  </td><td>right  </td><td>FALSE  </td></tr>\n",
       "\t<tr><td>door003</td><td>door000</td><td>1547   </td><td>left   </td><td>1      </td><td>0      </td><td>1      </td><td>A      </td><td>door003</td><td>-1     </td><td>...    </td><td> 0     </td><td> 0     </td><td>-1     </td><td>-1     </td><td>1      </td><td>1      </td><td>FALSE  </td><td>left   </td><td>left   </td><td>FALSE  </td></tr>\n",
       "\t<tr><td>door000</td><td>door001</td><td>2689   </td><td>left   </td><td>1      </td><td>0      </td><td>1      </td><td>A      </td><td>door000</td><td> 0     </td><td>...    </td><td> 1     </td><td>-1     </td><td> 0     </td><td> 0     </td><td>1      </td><td>1      </td><td> TRUE  </td><td>right  </td><td>right  </td><td>FALSE  </td></tr>\n",
       "\t<tr><td>door000</td><td>door003</td><td>1832   </td><td>right  </td><td>1      </td><td>0      </td><td>1      </td><td>A      </td><td>door003</td><td> 0     </td><td>...    </td><td>-1     </td><td>-1     </td><td>-1     </td><td>-1     </td><td>1      </td><td>1      </td><td>FALSE  </td><td>right  </td><td>right  </td><td>FALSE  </td></tr>\n",
       "\t<tr><td>door002</td><td>door004</td><td>1131   </td><td>right  </td><td>1      </td><td>0      </td><td>1      </td><td>A      </td><td>door004</td><td> 0     </td><td>...    </td><td> 1     </td><td> 1     </td><td> 1     </td><td> 1     </td><td>1      </td><td>1      </td><td>FALSE  </td><td>right  </td><td>right  </td><td>FALSE  </td></tr>\n",
       "\t<tr><td>door000</td><td>door005</td><td> 746   </td><td>right  </td><td>1      </td><td>0      </td><td>1      </td><td>A      </td><td>door005</td><td> 0     </td><td>...    </td><td>-1     </td><td> 1     </td><td>-1     </td><td> 1     </td><td>1      </td><td>1      </td><td>FALSE  </td><td>right  </td><td>right  </td><td>FALSE  </td></tr>\n",
       "\t<tr><td>door004</td><td>door002</td><td> 882   </td><td>left   </td><td>1      </td><td>0      </td><td>1      </td><td>A      </td><td>door004</td><td> 1     </td><td>...    </td><td> 0     </td><td> 0     </td><td> 1     </td><td> 1     </td><td>1      </td><td>1      </td><td>FALSE  </td><td>left   </td><td>left   </td><td>FALSE  </td></tr>\n",
       "\t<tr><td>door005</td><td>door002</td><td> 574   </td><td>left   </td><td>1      </td><td>0      </td><td>1      </td><td>A      </td><td>door005</td><td>-1     </td><td>...    </td><td> 0     </td><td> 0     </td><td>-1     </td><td> 1     </td><td>1      </td><td>1      </td><td>FALSE  </td><td>left   </td><td>left   </td><td>FALSE  </td></tr>\n",
       "\t<tr><td>door008</td><td>door010</td><td>2573   </td><td>right  </td><td>2      </td><td>1      </td><td>1      </td><td>A      </td><td>door010</td><td> 0     </td><td>...    </td><td> 1     </td><td> 1     </td><td> 1     </td><td> 1     </td><td>1      </td><td>1      </td><td>FALSE  </td><td>right  </td><td>right  </td><td>FALSE  </td></tr>\n",
       "\t<tr><td>door010</td><td>door006</td><td>1906   </td><td>left   </td><td>2      </td><td>1      </td><td>1      </td><td>A      </td><td>door010</td><td> 1     </td><td>...    </td><td> 0     </td><td> 0     </td><td> 1     </td><td> 1     </td><td>1      </td><td>1      </td><td>FALSE  </td><td>left   </td><td>left   </td><td>FALSE  </td></tr>\n",
       "\t<tr><td>door006</td><td>door007</td><td>3811   </td><td>left   </td><td>2      </td><td>1      </td><td>1      </td><td>A      </td><td>door006</td><td> 0     </td><td>...    </td><td> 1     </td><td>-1     </td><td> 0     </td><td> 0     </td><td>1      </td><td>1      </td><td> TRUE  </td><td>right  </td><td>right  </td><td>FALSE  </td></tr>\n",
       "\t<tr><td>door009</td><td>door006</td><td>1514   </td><td>right  </td><td>2      </td><td>1      </td><td>1      </td><td>A      </td><td>door006</td><td>-1     </td><td>...    </td><td> 0     </td><td> 0     </td><td> 0     </td><td> 0     </td><td>1      </td><td>1      </td><td> TRUE  </td><td>left   </td><td>left   </td><td>FALSE  </td></tr>\n",
       "\t<tr><td>door007</td><td>door008</td><td>1242   </td><td>right  </td><td>2      </td><td>1      </td><td>1      </td><td>A      </td><td>door008</td><td> 1     </td><td>...    </td><td> 0     </td><td> 0     </td><td> 0     </td><td> 0     </td><td>1      </td><td>1      </td><td> TRUE  </td><td>left   </td><td>left   </td><td>FALSE  </td></tr>\n",
       "\t<tr><td>door008</td><td>door011</td><td>1581   </td><td>left   </td><td>2      </td><td>1      </td><td>1      </td><td>A      </td><td>door008</td><td> 0     </td><td>...    </td><td>-1     </td><td> 1     </td><td> 0     </td><td> 0     </td><td>1      </td><td>1      </td><td> TRUE  </td><td>right  </td><td>right  </td><td>FALSE  </td></tr>\n",
       "\t<tr><td>door007</td><td>door006</td><td> 878   </td><td>right  </td><td>2      </td><td>1      </td><td>1      </td><td>A      </td><td>door006</td><td> 1     </td><td>...    </td><td> 0     </td><td> 0     </td><td> 0     </td><td> 0     </td><td>1      </td><td>1      </td><td> TRUE  </td><td>left   </td><td>left   </td><td>FALSE  </td></tr>\n",
       "\t<tr><td>door006</td><td>door009</td><td>1063   </td><td>left   </td><td>2      </td><td>1      </td><td>1      </td><td>A      </td><td>door006</td><td> 0     </td><td>...    </td><td>-1     </td><td>-1     </td><td> 0     </td><td> 0     </td><td>1      </td><td>1      </td><td> TRUE  </td><td>right  </td><td>right  </td><td>FALSE  </td></tr>\n",
       "\t<tr><td>door006</td><td>door010</td><td>1568   </td><td>right  </td><td>2      </td><td>1      </td><td>1      </td><td>A      </td><td>door010</td><td> 0     </td><td>...    </td><td> 1     </td><td> 1     </td><td> 1     </td><td> 1     </td><td>1      </td><td>1      </td><td>FALSE  </td><td>right  </td><td>right  </td><td>FALSE  </td></tr>\n",
       "\t<tr><td>door011</td><td>door008</td><td>2655   </td><td>left   </td><td>2      </td><td>1      </td><td>1      </td><td>A      </td><td>door011</td><td>-1     </td><td>...    </td><td> 0     </td><td> 0     </td><td>-1     </td><td> 1     </td><td>1      </td><td>1      </td><td>FALSE  </td><td>left   </td><td>left   </td><td>FALSE  </td></tr>\n",
       "\t<tr><td>door011</td><td>door006</td><td>1396   </td><td>left   </td><td>2      </td><td>1      </td><td>1      </td><td>A      </td><td>door011</td><td>-1     </td><td>...    </td><td> 0     </td><td> 0     </td><td>-1     </td><td> 1     </td><td>1      </td><td>1      </td><td>FALSE  </td><td>left   </td><td>left   </td><td>FALSE  </td></tr>\n",
       "\t<tr><td>door010</td><td>door008</td><td> 732   </td><td>left   </td><td>2      </td><td>1      </td><td>1      </td><td>A      </td><td>door010</td><td> 1     </td><td>...    </td><td> 0     </td><td> 0     </td><td> 1     </td><td> 1     </td><td>1      </td><td>1      </td><td>FALSE  </td><td>left   </td><td>left   </td><td>FALSE  </td></tr>\n",
       "\t<tr><td>door009</td><td>door008</td><td> 573   </td><td>right  </td><td>2      </td><td>1      </td><td>1      </td><td>A      </td><td>door008</td><td>-1     </td><td>...    </td><td> 0     </td><td> 0     </td><td> 0     </td><td> 0     </td><td>1      </td><td>1      </td><td> TRUE  </td><td>left   </td><td>left   </td><td>FALSE  </td></tr>\n",
       "\t<tr><td>door008</td><td>door007</td><td> 796   </td><td>left   </td><td>2      </td><td>1      </td><td>1      </td><td>A      </td><td>door008</td><td> 0     </td><td>...    </td><td> 1     </td><td>-1     </td><td> 0     </td><td> 0     </td><td>1      </td><td>1      </td><td> TRUE  </td><td>right  </td><td>right  </td><td>FALSE  </td></tr>\n",
       "\t<tr><td>...</td><td>...</td><td>...</td><td>...</td><td>...</td><td>...</td><td>...</td><td>...</td><td>...</td><td>...</td><td>   </td><td>...</td><td>...</td><td>...</td><td>...</td><td>...</td><td>...</td><td>...</td><td>...</td><td>...</td><td>...</td></tr>\n",
       "\t<tr><td>door026</td><td>door025</td><td>1844   </td><td>left   </td><td>5      </td><td>4      </td><td>8      </td><td>B      </td><td>door026</td><td> 0     </td><td>...    </td><td> 1     </td><td>-1     </td><td> 0     </td><td> 0     </td><td>1      </td><td>1      </td><td> TRUE  </td><td>right  </td><td>right  </td><td>FALSE  </td></tr>\n",
       "\t<tr><td>door024</td><td>door028</td><td>1238   </td><td>right  </td><td>5      </td><td>4      </td><td>8      </td><td>B      </td><td>door028</td><td> 0     </td><td>...    </td><td> 1     </td><td> 1     </td><td> 1     </td><td> 1     </td><td>1      </td><td>1      </td><td>FALSE  </td><td>right  </td><td>right  </td><td>FALSE  </td></tr>\n",
       "\t<tr><td>door026</td><td>door027</td><td>3431   </td><td>left   </td><td>5      </td><td>4      </td><td>8      </td><td>B      </td><td>door026</td><td> 0     </td><td>...    </td><td>-1     </td><td>-1     </td><td> 0     </td><td> 0     </td><td>1      </td><td>1      </td><td> TRUE  </td><td>right  </td><td>right  </td><td>FALSE  </td></tr>\n",
       "\t<tr><td>door026</td><td>door029</td><td>8286   </td><td>left   </td><td>5      </td><td>4      </td><td>8      </td><td>B      </td><td>door026</td><td> 0     </td><td>...    </td><td>-1     </td><td> 1     </td><td> 0     </td><td> 0     </td><td>1      </td><td>1      </td><td> TRUE  </td><td>right  </td><td>right  </td><td>FALSE  </td></tr>\n",
       "\t<tr><td>door024</td><td>door027</td><td>4248   </td><td>left   </td><td>5      </td><td>4      </td><td>8      </td><td>B      </td><td>door024</td><td> 0     </td><td>...    </td><td>-1     </td><td>-1     </td><td> 0     </td><td> 0     </td><td>1      </td><td>1      </td><td> TRUE  </td><td>right  </td><td>right  </td><td>FALSE  </td></tr>\n",
       "\t<tr><td>door026</td><td>door028</td><td> 557   </td><td>right  </td><td>5      </td><td>4      </td><td>8      </td><td>B      </td><td>door028</td><td> 0     </td><td>...    </td><td> 1     </td><td> 1     </td><td> 1     </td><td> 1     </td><td>1      </td><td>1      </td><td>FALSE  </td><td>right  </td><td>right  </td><td>FALSE  </td></tr>\n",
       "\t<tr><td>door027</td><td>door026</td><td>3727   </td><td>left   </td><td>5      </td><td>4      </td><td>8      </td><td>B      </td><td>door027</td><td>-1     </td><td>...    </td><td> 0     </td><td> 0     </td><td>-1     </td><td>-1     </td><td>1      </td><td>1      </td><td>FALSE  </td><td>left   </td><td>left   </td><td>FALSE  </td></tr>\n",
       "\t<tr><td>door024</td><td>door025</td><td>1725   </td><td>left   </td><td>5      </td><td>4      </td><td>8      </td><td>B      </td><td>door024</td><td> 0     </td><td>...    </td><td> 1     </td><td>-1     </td><td> 0     </td><td> 0     </td><td>1      </td><td>1      </td><td> TRUE  </td><td>right  </td><td>right  </td><td>FALSE  </td></tr>\n",
       "\t<tr><td>door027</td><td>door024</td><td>3064   </td><td>right  </td><td>5      </td><td>4      </td><td>8      </td><td>B      </td><td>door024</td><td>-1     </td><td>...    </td><td> 0     </td><td> 0     </td><td> 0     </td><td> 0     </td><td>1      </td><td>1      </td><td> TRUE  </td><td>left   </td><td>left   </td><td>FALSE  </td></tr>\n",
       "\t<tr><td>door029</td><td>door026</td><td> 788   </td><td>left   </td><td>5      </td><td>4      </td><td>8      </td><td>B      </td><td>door029</td><td>-1     </td><td>...    </td><td> 0     </td><td> 0     </td><td>-1     </td><td> 1     </td><td>1      </td><td>1      </td><td>FALSE  </td><td>left   </td><td>left   </td><td>FALSE  </td></tr>\n",
       "\t<tr><td>door025</td><td>door024</td><td>2207   </td><td>right  </td><td>5      </td><td>4      </td><td>8      </td><td>B      </td><td>door024</td><td> 1     </td><td>...    </td><td> 0     </td><td> 0     </td><td> 0     </td><td> 0     </td><td>1      </td><td>1      </td><td> TRUE  </td><td>left   </td><td>left   </td><td>FALSE  </td></tr>\n",
       "\t<tr><td>door025</td><td>door026</td><td>1611   </td><td>left   </td><td>5      </td><td>4      </td><td>8      </td><td>B      </td><td>door025</td><td> 1     </td><td>...    </td><td> 0     </td><td> 0     </td><td> 1     </td><td>-1     </td><td>1      </td><td>1      </td><td>FALSE  </td><td>left   </td><td>left   </td><td>FALSE  </td></tr>\n",
       "\t<tr><td>door029</td><td>door024</td><td>1381   </td><td>left   </td><td>5      </td><td>4      </td><td>8      </td><td>B      </td><td>door029</td><td>-1     </td><td>...    </td><td> 0     </td><td> 0     </td><td>-1     </td><td> 1     </td><td>1      </td><td>1      </td><td>FALSE  </td><td>left   </td><td>left   </td><td>FALSE  </td></tr>\n",
       "\t<tr><td>door028</td><td>door024</td><td> 622   </td><td>left   </td><td>5      </td><td>4      </td><td>8      </td><td>B      </td><td>door028</td><td> 1     </td><td>...    </td><td> 0     </td><td> 0     </td><td> 1     </td><td> 1     </td><td>1      </td><td>1      </td><td>FALSE  </td><td>left   </td><td>left   </td><td>FALSE  </td></tr>\n",
       "\t<tr><td>door034</td><td>door030</td><td> 850   </td><td>left   </td><td>6      </td><td>5      </td><td>8      </td><td>B      </td><td>door034</td><td> 1     </td><td>...    </td><td> 0     </td><td> 0     </td><td> 1     </td><td> 1     </td><td>1      </td><td>1      </td><td>FALSE  </td><td>left   </td><td>left   </td><td>FALSE  </td></tr>\n",
       "\t<tr><td>door032</td><td>door033</td><td>4620   </td><td>left   </td><td>6      </td><td>5      </td><td>8      </td><td>B      </td><td>door032</td><td> 0     </td><td>...    </td><td>-1     </td><td>-1     </td><td> 0     </td><td> 0     </td><td>1      </td><td>1      </td><td> TRUE  </td><td>right  </td><td>right  </td><td>FALSE  </td></tr>\n",
       "\t<tr><td>door031</td><td>door032</td><td>1732   </td><td>left   </td><td>6      </td><td>5      </td><td>8      </td><td>B      </td><td>door031</td><td> 1     </td><td>...    </td><td> 0     </td><td> 0     </td><td> 1     </td><td>-1     </td><td>1      </td><td>1      </td><td>FALSE  </td><td>left   </td><td>left   </td><td>FALSE  </td></tr>\n",
       "\t<tr><td>door035</td><td>door030</td><td>2885   </td><td>left   </td><td>6      </td><td>5      </td><td>8      </td><td>B      </td><td>door035</td><td>-1     </td><td>...    </td><td> 0     </td><td> 0     </td><td>-1     </td><td> 1     </td><td>1      </td><td>1      </td><td>FALSE  </td><td>left   </td><td>left   </td><td>FALSE  </td></tr>\n",
       "\t<tr><td>door032</td><td>door031</td><td>6001   </td><td>right  </td><td>6      </td><td>5      </td><td>8      </td><td>B      </td><td>door031</td><td> 0     </td><td>...    </td><td> 1     </td><td>-1     </td><td> 1     </td><td>-1     </td><td>1      </td><td>1      </td><td>FALSE  </td><td>right  </td><td>right  </td><td>FALSE  </td></tr>\n",
       "\t<tr><td>door030</td><td>door034</td><td> 672   </td><td>right  </td><td>6      </td><td>5      </td><td>8      </td><td>B      </td><td>door034</td><td> 0     </td><td>...    </td><td> 1     </td><td> 1     </td><td> 1     </td><td> 1     </td><td>1      </td><td>1      </td><td>FALSE  </td><td>right  </td><td>right  </td><td>FALSE  </td></tr>\n",
       "\t<tr><td>door030</td><td>door033</td><td>2460   </td><td>left   </td><td>6      </td><td>5      </td><td>8      </td><td>B      </td><td>door030</td><td> 0     </td><td>...    </td><td>-1     </td><td>-1     </td><td> 0     </td><td> 0     </td><td>1      </td><td>1      </td><td> TRUE  </td><td>right  </td><td>right  </td><td>FALSE  </td></tr>\n",
       "\t<tr><td>door031</td><td>door030</td><td>2293   </td><td>right  </td><td>6      </td><td>5      </td><td>8      </td><td>B      </td><td>door030</td><td> 1     </td><td>...    </td><td> 0     </td><td> 0     </td><td> 0     </td><td> 0     </td><td>1      </td><td>1      </td><td> TRUE  </td><td>left   </td><td>left   </td><td>FALSE  </td></tr>\n",
       "\t<tr><td>door032</td><td>door034</td><td>1352   </td><td>right  </td><td>6      </td><td>5      </td><td>8      </td><td>B      </td><td>door034</td><td> 0     </td><td>...    </td><td> 1     </td><td> 1     </td><td> 1     </td><td> 1     </td><td>1      </td><td>1      </td><td>FALSE  </td><td>right  </td><td>right  </td><td>FALSE  </td></tr>\n",
       "\t<tr><td>door035</td><td>door032</td><td> 850   </td><td>left   </td><td>6      </td><td>5      </td><td>8      </td><td>B      </td><td>door035</td><td>-1     </td><td>...    </td><td> 0     </td><td> 0     </td><td>-1     </td><td> 1     </td><td>1      </td><td>1      </td><td>FALSE  </td><td>left   </td><td>left   </td><td>FALSE  </td></tr>\n",
       "\t<tr><td>door034</td><td>door032</td><td> 729   </td><td>left   </td><td>6      </td><td>5      </td><td>8      </td><td>B      </td><td>door034</td><td> 1     </td><td>...    </td><td> 0     </td><td> 0     </td><td> 1     </td><td> 1     </td><td>1      </td><td>1      </td><td>FALSE  </td><td>left   </td><td>left   </td><td>FALSE  </td></tr>\n",
       "\t<tr><td>door032</td><td>door035</td><td> 899   </td><td>right  </td><td>6      </td><td>5      </td><td>8      </td><td>B      </td><td>door035</td><td> 0     </td><td>...    </td><td>-1     </td><td> 1     </td><td>-1     </td><td> 1     </td><td>1      </td><td>1      </td><td>FALSE  </td><td>right  </td><td>right  </td><td>FALSE  </td></tr>\n",
       "\t<tr><td>door033</td><td>door032</td><td>7583   </td><td>right  </td><td>6      </td><td>5      </td><td>8      </td><td>B      </td><td>door032</td><td>-1     </td><td>...    </td><td> 0     </td><td> 0     </td><td> 0     </td><td> 0     </td><td>1      </td><td>1      </td><td> TRUE  </td><td>left   </td><td>left   </td><td>FALSE  </td></tr>\n",
       "\t<tr><td>door030</td><td>door031</td><td>1553   </td><td>left   </td><td>6      </td><td>5      </td><td>8      </td><td>B      </td><td>door030</td><td> 0     </td><td>...    </td><td> 1     </td><td>-1     </td><td> 0     </td><td> 0     </td><td>1      </td><td>1      </td><td> TRUE  </td><td>right  </td><td>right  </td><td>FALSE  </td></tr>\n",
       "\t<tr><td>door030</td><td>door035</td><td> 638   </td><td>right  </td><td>6      </td><td>5      </td><td>8      </td><td>B      </td><td>door035</td><td> 0     </td><td>...    </td><td>-1     </td><td> 1     </td><td>-1     </td><td> 1     </td><td>1      </td><td>1      </td><td>FALSE  </td><td>right  </td><td>right  </td><td>FALSE  </td></tr>\n",
       "\t<tr><td>door033</td><td>door030</td><td>2184   </td><td>right  </td><td>6      </td><td>5      </td><td>8      </td><td>B      </td><td>door030</td><td>-1     </td><td>...    </td><td> 0     </td><td> 0     </td><td> 0     </td><td> 0     </td><td>1      </td><td>1      </td><td> TRUE  </td><td>left   </td><td>left   </td><td>FALSE  </td></tr>\n",
       "</tbody>\n",
       "</table>\n"
      ],
      "text/latex": [
       "\\begin{tabular}{r|lllllllllllllllllllll}\n",
       " left\\_door & right\\_door & rt & key\\_pressed & block\\_level\\_1\\_fc & block & id & experiment & chosen\\_door & left\\_speed & ... & right\\_speed & right\\_safety & chosen\\_speed & chosen\\_safety & steps\\_ttb\\_speed & steps\\_ttb\\_safety & chosen\\_door\\_is\\_unknown & chosen\\_ttb\\_speed & chosen\\_ttb\\_safety & equivalent\\_options\\\\\n",
       "\\hline\n",
       "\t door005 & door000 & 2271    & left    & 1       & 0       & 1       & A       & door005 & -1      & ...     &  0      &  0      & -1      &  1      & 1       & 1       & FALSE   & left    & left    & FALSE  \\\\\n",
       "\t door004 & door000 &  567    & left    & 1       & 0       & 1       & A       & door004 &  1      & ...     &  0      &  0      &  1      &  1      & 1       & 1       & FALSE   & left    & left    & FALSE  \\\\\n",
       "\t door001 & door000 & 3496    & right   & 1       & 0       & 1       & A       & door000 &  1      & ...     &  0      &  0      &  0      &  0      & 1       & 1       &  TRUE   & left    & left    & FALSE  \\\\\n",
       "\t door000 & door004 & 1084    & right   & 1       & 0       & 1       & A       & door004 &  0      & ...     &  1      &  1      &  1      &  1      & 1       & 1       & FALSE   & right   & right   & FALSE  \\\\\n",
       "\t door002 & door003 & 4220    & left    & 1       & 0       & 1       & A       & door002 &  0      & ...     & -1      & -1      &  0      &  0      & 1       & 1       &  TRUE   & right   & right   & FALSE  \\\\\n",
       "\t door001 & door002 & 1124    & right   & 1       & 0       & 1       & A       & door002 &  1      & ...     &  0      &  0      &  0      &  0      & 1       & 1       &  TRUE   & left    & left    & FALSE  \\\\\n",
       "\t door003 & door002 & 1244    & right   & 1       & 0       & 1       & A       & door002 & -1      & ...     &  0      &  0      &  0      &  0      & 1       & 1       &  TRUE   & left    & left    & FALSE  \\\\\n",
       "\t door002 & door001 & 2411    & left    & 1       & 0       & 1       & A       & door002 &  0      & ...     &  1      & -1      &  0      &  0      & 1       & 1       &  TRUE   & right   & right   & FALSE  \\\\\n",
       "\t door002 & door005 & 1844    & right   & 1       & 0       & 1       & A       & door005 &  0      & ...     & -1      &  1      & -1      &  1      & 1       & 1       & FALSE   & right   & right   & FALSE  \\\\\n",
       "\t door003 & door000 & 1547    & left    & 1       & 0       & 1       & A       & door003 & -1      & ...     &  0      &  0      & -1      & -1      & 1       & 1       & FALSE   & left    & left    & FALSE  \\\\\n",
       "\t door000 & door001 & 2689    & left    & 1       & 0       & 1       & A       & door000 &  0      & ...     &  1      & -1      &  0      &  0      & 1       & 1       &  TRUE   & right   & right   & FALSE  \\\\\n",
       "\t door000 & door003 & 1832    & right   & 1       & 0       & 1       & A       & door003 &  0      & ...     & -1      & -1      & -1      & -1      & 1       & 1       & FALSE   & right   & right   & FALSE  \\\\\n",
       "\t door002 & door004 & 1131    & right   & 1       & 0       & 1       & A       & door004 &  0      & ...     &  1      &  1      &  1      &  1      & 1       & 1       & FALSE   & right   & right   & FALSE  \\\\\n",
       "\t door000 & door005 &  746    & right   & 1       & 0       & 1       & A       & door005 &  0      & ...     & -1      &  1      & -1      &  1      & 1       & 1       & FALSE   & right   & right   & FALSE  \\\\\n",
       "\t door004 & door002 &  882    & left    & 1       & 0       & 1       & A       & door004 &  1      & ...     &  0      &  0      &  1      &  1      & 1       & 1       & FALSE   & left    & left    & FALSE  \\\\\n",
       "\t door005 & door002 &  574    & left    & 1       & 0       & 1       & A       & door005 & -1      & ...     &  0      &  0      & -1      &  1      & 1       & 1       & FALSE   & left    & left    & FALSE  \\\\\n",
       "\t door008 & door010 & 2573    & right   & 2       & 1       & 1       & A       & door010 &  0      & ...     &  1      &  1      &  1      &  1      & 1       & 1       & FALSE   & right   & right   & FALSE  \\\\\n",
       "\t door010 & door006 & 1906    & left    & 2       & 1       & 1       & A       & door010 &  1      & ...     &  0      &  0      &  1      &  1      & 1       & 1       & FALSE   & left    & left    & FALSE  \\\\\n",
       "\t door006 & door007 & 3811    & left    & 2       & 1       & 1       & A       & door006 &  0      & ...     &  1      & -1      &  0      &  0      & 1       & 1       &  TRUE   & right   & right   & FALSE  \\\\\n",
       "\t door009 & door006 & 1514    & right   & 2       & 1       & 1       & A       & door006 & -1      & ...     &  0      &  0      &  0      &  0      & 1       & 1       &  TRUE   & left    & left    & FALSE  \\\\\n",
       "\t door007 & door008 & 1242    & right   & 2       & 1       & 1       & A       & door008 &  1      & ...     &  0      &  0      &  0      &  0      & 1       & 1       &  TRUE   & left    & left    & FALSE  \\\\\n",
       "\t door008 & door011 & 1581    & left    & 2       & 1       & 1       & A       & door008 &  0      & ...     & -1      &  1      &  0      &  0      & 1       & 1       &  TRUE   & right   & right   & FALSE  \\\\\n",
       "\t door007 & door006 &  878    & right   & 2       & 1       & 1       & A       & door006 &  1      & ...     &  0      &  0      &  0      &  0      & 1       & 1       &  TRUE   & left    & left    & FALSE  \\\\\n",
       "\t door006 & door009 & 1063    & left    & 2       & 1       & 1       & A       & door006 &  0      & ...     & -1      & -1      &  0      &  0      & 1       & 1       &  TRUE   & right   & right   & FALSE  \\\\\n",
       "\t door006 & door010 & 1568    & right   & 2       & 1       & 1       & A       & door010 &  0      & ...     &  1      &  1      &  1      &  1      & 1       & 1       & FALSE   & right   & right   & FALSE  \\\\\n",
       "\t door011 & door008 & 2655    & left    & 2       & 1       & 1       & A       & door011 & -1      & ...     &  0      &  0      & -1      &  1      & 1       & 1       & FALSE   & left    & left    & FALSE  \\\\\n",
       "\t door011 & door006 & 1396    & left    & 2       & 1       & 1       & A       & door011 & -1      & ...     &  0      &  0      & -1      &  1      & 1       & 1       & FALSE   & left    & left    & FALSE  \\\\\n",
       "\t door010 & door008 &  732    & left    & 2       & 1       & 1       & A       & door010 &  1      & ...     &  0      &  0      &  1      &  1      & 1       & 1       & FALSE   & left    & left    & FALSE  \\\\\n",
       "\t door009 & door008 &  573    & right   & 2       & 1       & 1       & A       & door008 & -1      & ...     &  0      &  0      &  0      &  0      & 1       & 1       &  TRUE   & left    & left    & FALSE  \\\\\n",
       "\t door008 & door007 &  796    & left    & 2       & 1       & 1       & A       & door008 &  0      & ...     &  1      & -1      &  0      &  0      & 1       & 1       &  TRUE   & right   & right   & FALSE  \\\\\n",
       "\t ... & ... & ... & ... & ... & ... & ... & ... & ... & ... &     & ... & ... & ... & ... & ... & ... & ... & ... & ... & ...\\\\\n",
       "\t door026 & door025 & 1844    & left    & 5       & 4       & 8       & B       & door026 &  0      & ...     &  1      & -1      &  0      &  0      & 1       & 1       &  TRUE   & right   & right   & FALSE  \\\\\n",
       "\t door024 & door028 & 1238    & right   & 5       & 4       & 8       & B       & door028 &  0      & ...     &  1      &  1      &  1      &  1      & 1       & 1       & FALSE   & right   & right   & FALSE  \\\\\n",
       "\t door026 & door027 & 3431    & left    & 5       & 4       & 8       & B       & door026 &  0      & ...     & -1      & -1      &  0      &  0      & 1       & 1       &  TRUE   & right   & right   & FALSE  \\\\\n",
       "\t door026 & door029 & 8286    & left    & 5       & 4       & 8       & B       & door026 &  0      & ...     & -1      &  1      &  0      &  0      & 1       & 1       &  TRUE   & right   & right   & FALSE  \\\\\n",
       "\t door024 & door027 & 4248    & left    & 5       & 4       & 8       & B       & door024 &  0      & ...     & -1      & -1      &  0      &  0      & 1       & 1       &  TRUE   & right   & right   & FALSE  \\\\\n",
       "\t door026 & door028 &  557    & right   & 5       & 4       & 8       & B       & door028 &  0      & ...     &  1      &  1      &  1      &  1      & 1       & 1       & FALSE   & right   & right   & FALSE  \\\\\n",
       "\t door027 & door026 & 3727    & left    & 5       & 4       & 8       & B       & door027 & -1      & ...     &  0      &  0      & -1      & -1      & 1       & 1       & FALSE   & left    & left    & FALSE  \\\\\n",
       "\t door024 & door025 & 1725    & left    & 5       & 4       & 8       & B       & door024 &  0      & ...     &  1      & -1      &  0      &  0      & 1       & 1       &  TRUE   & right   & right   & FALSE  \\\\\n",
       "\t door027 & door024 & 3064    & right   & 5       & 4       & 8       & B       & door024 & -1      & ...     &  0      &  0      &  0      &  0      & 1       & 1       &  TRUE   & left    & left    & FALSE  \\\\\n",
       "\t door029 & door026 &  788    & left    & 5       & 4       & 8       & B       & door029 & -1      & ...     &  0      &  0      & -1      &  1      & 1       & 1       & FALSE   & left    & left    & FALSE  \\\\\n",
       "\t door025 & door024 & 2207    & right   & 5       & 4       & 8       & B       & door024 &  1      & ...     &  0      &  0      &  0      &  0      & 1       & 1       &  TRUE   & left    & left    & FALSE  \\\\\n",
       "\t door025 & door026 & 1611    & left    & 5       & 4       & 8       & B       & door025 &  1      & ...     &  0      &  0      &  1      & -1      & 1       & 1       & FALSE   & left    & left    & FALSE  \\\\\n",
       "\t door029 & door024 & 1381    & left    & 5       & 4       & 8       & B       & door029 & -1      & ...     &  0      &  0      & -1      &  1      & 1       & 1       & FALSE   & left    & left    & FALSE  \\\\\n",
       "\t door028 & door024 &  622    & left    & 5       & 4       & 8       & B       & door028 &  1      & ...     &  0      &  0      &  1      &  1      & 1       & 1       & FALSE   & left    & left    & FALSE  \\\\\n",
       "\t door034 & door030 &  850    & left    & 6       & 5       & 8       & B       & door034 &  1      & ...     &  0      &  0      &  1      &  1      & 1       & 1       & FALSE   & left    & left    & FALSE  \\\\\n",
       "\t door032 & door033 & 4620    & left    & 6       & 5       & 8       & B       & door032 &  0      & ...     & -1      & -1      &  0      &  0      & 1       & 1       &  TRUE   & right   & right   & FALSE  \\\\\n",
       "\t door031 & door032 & 1732    & left    & 6       & 5       & 8       & B       & door031 &  1      & ...     &  0      &  0      &  1      & -1      & 1       & 1       & FALSE   & left    & left    & FALSE  \\\\\n",
       "\t door035 & door030 & 2885    & left    & 6       & 5       & 8       & B       & door035 & -1      & ...     &  0      &  0      & -1      &  1      & 1       & 1       & FALSE   & left    & left    & FALSE  \\\\\n",
       "\t door032 & door031 & 6001    & right   & 6       & 5       & 8       & B       & door031 &  0      & ...     &  1      & -1      &  1      & -1      & 1       & 1       & FALSE   & right   & right   & FALSE  \\\\\n",
       "\t door030 & door034 &  672    & right   & 6       & 5       & 8       & B       & door034 &  0      & ...     &  1      &  1      &  1      &  1      & 1       & 1       & FALSE   & right   & right   & FALSE  \\\\\n",
       "\t door030 & door033 & 2460    & left    & 6       & 5       & 8       & B       & door030 &  0      & ...     & -1      & -1      &  0      &  0      & 1       & 1       &  TRUE   & right   & right   & FALSE  \\\\\n",
       "\t door031 & door030 & 2293    & right   & 6       & 5       & 8       & B       & door030 &  1      & ...     &  0      &  0      &  0      &  0      & 1       & 1       &  TRUE   & left    & left    & FALSE  \\\\\n",
       "\t door032 & door034 & 1352    & right   & 6       & 5       & 8       & B       & door034 &  0      & ...     &  1      &  1      &  1      &  1      & 1       & 1       & FALSE   & right   & right   & FALSE  \\\\\n",
       "\t door035 & door032 &  850    & left    & 6       & 5       & 8       & B       & door035 & -1      & ...     &  0      &  0      & -1      &  1      & 1       & 1       & FALSE   & left    & left    & FALSE  \\\\\n",
       "\t door034 & door032 &  729    & left    & 6       & 5       & 8       & B       & door034 &  1      & ...     &  0      &  0      &  1      &  1      & 1       & 1       & FALSE   & left    & left    & FALSE  \\\\\n",
       "\t door032 & door035 &  899    & right   & 6       & 5       & 8       & B       & door035 &  0      & ...     & -1      &  1      & -1      &  1      & 1       & 1       & FALSE   & right   & right   & FALSE  \\\\\n",
       "\t door033 & door032 & 7583    & right   & 6       & 5       & 8       & B       & door032 & -1      & ...     &  0      &  0      &  0      &  0      & 1       & 1       &  TRUE   & left    & left    & FALSE  \\\\\n",
       "\t door030 & door031 & 1553    & left    & 6       & 5       & 8       & B       & door030 &  0      & ...     &  1      & -1      &  0      &  0      & 1       & 1       &  TRUE   & right   & right   & FALSE  \\\\\n",
       "\t door030 & door035 &  638    & right   & 6       & 5       & 8       & B       & door035 &  0      & ...     & -1      &  1      & -1      &  1      & 1       & 1       & FALSE   & right   & right   & FALSE  \\\\\n",
       "\t door033 & door030 & 2184    & right   & 6       & 5       & 8       & B       & door030 & -1      & ...     &  0      &  0      &  0      &  0      & 1       & 1       &  TRUE   & left    & left    & FALSE  \\\\\n",
       "\\end{tabular}\n"
      ],
      "text/markdown": [
       "\n",
       "left_door | right_door | rt | key_pressed | block_level_1_fc | block | id | experiment | chosen_door | left_speed | ... | right_speed | right_safety | chosen_speed | chosen_safety | steps_ttb_speed | steps_ttb_safety | chosen_door_is_unknown | chosen_ttb_speed | chosen_ttb_safety | equivalent_options | \n",
       "|---|---|---|---|---|---|---|---|---|---|---|---|---|---|---|---|---|---|---|---|---|---|---|---|---|---|---|---|---|---|---|---|---|---|---|---|---|---|---|---|---|---|---|---|---|---|---|---|---|---|---|---|---|---|---|---|---|---|---|---|---|\n",
       "| door005 | door000 | 2271    | left    | 1       | 0       | 1       | A       | door005 | -1      | ...     |  0      |  0      | -1      |  1      | 1       | 1       | FALSE   | left    | left    | FALSE   | \n",
       "| door004 | door000 |  567    | left    | 1       | 0       | 1       | A       | door004 |  1      | ...     |  0      |  0      |  1      |  1      | 1       | 1       | FALSE   | left    | left    | FALSE   | \n",
       "| door001 | door000 | 3496    | right   | 1       | 0       | 1       | A       | door000 |  1      | ...     |  0      |  0      |  0      |  0      | 1       | 1       |  TRUE   | left    | left    | FALSE   | \n",
       "| door000 | door004 | 1084    | right   | 1       | 0       | 1       | A       | door004 |  0      | ...     |  1      |  1      |  1      |  1      | 1       | 1       | FALSE   | right   | right   | FALSE   | \n",
       "| door002 | door003 | 4220    | left    | 1       | 0       | 1       | A       | door002 |  0      | ...     | -1      | -1      |  0      |  0      | 1       | 1       |  TRUE   | right   | right   | FALSE   | \n",
       "| door001 | door002 | 1124    | right   | 1       | 0       | 1       | A       | door002 |  1      | ...     |  0      |  0      |  0      |  0      | 1       | 1       |  TRUE   | left    | left    | FALSE   | \n",
       "| door003 | door002 | 1244    | right   | 1       | 0       | 1       | A       | door002 | -1      | ...     |  0      |  0      |  0      |  0      | 1       | 1       |  TRUE   | left    | left    | FALSE   | \n",
       "| door002 | door001 | 2411    | left    | 1       | 0       | 1       | A       | door002 |  0      | ...     |  1      | -1      |  0      |  0      | 1       | 1       |  TRUE   | right   | right   | FALSE   | \n",
       "| door002 | door005 | 1844    | right   | 1       | 0       | 1       | A       | door005 |  0      | ...     | -1      |  1      | -1      |  1      | 1       | 1       | FALSE   | right   | right   | FALSE   | \n",
       "| door003 | door000 | 1547    | left    | 1       | 0       | 1       | A       | door003 | -1      | ...     |  0      |  0      | -1      | -1      | 1       | 1       | FALSE   | left    | left    | FALSE   | \n",
       "| door000 | door001 | 2689    | left    | 1       | 0       | 1       | A       | door000 |  0      | ...     |  1      | -1      |  0      |  0      | 1       | 1       |  TRUE   | right   | right   | FALSE   | \n",
       "| door000 | door003 | 1832    | right   | 1       | 0       | 1       | A       | door003 |  0      | ...     | -1      | -1      | -1      | -1      | 1       | 1       | FALSE   | right   | right   | FALSE   | \n",
       "| door002 | door004 | 1131    | right   | 1       | 0       | 1       | A       | door004 |  0      | ...     |  1      |  1      |  1      |  1      | 1       | 1       | FALSE   | right   | right   | FALSE   | \n",
       "| door000 | door005 |  746    | right   | 1       | 0       | 1       | A       | door005 |  0      | ...     | -1      |  1      | -1      |  1      | 1       | 1       | FALSE   | right   | right   | FALSE   | \n",
       "| door004 | door002 |  882    | left    | 1       | 0       | 1       | A       | door004 |  1      | ...     |  0      |  0      |  1      |  1      | 1       | 1       | FALSE   | left    | left    | FALSE   | \n",
       "| door005 | door002 |  574    | left    | 1       | 0       | 1       | A       | door005 | -1      | ...     |  0      |  0      | -1      |  1      | 1       | 1       | FALSE   | left    | left    | FALSE   | \n",
       "| door008 | door010 | 2573    | right   | 2       | 1       | 1       | A       | door010 |  0      | ...     |  1      |  1      |  1      |  1      | 1       | 1       | FALSE   | right   | right   | FALSE   | \n",
       "| door010 | door006 | 1906    | left    | 2       | 1       | 1       | A       | door010 |  1      | ...     |  0      |  0      |  1      |  1      | 1       | 1       | FALSE   | left    | left    | FALSE   | \n",
       "| door006 | door007 | 3811    | left    | 2       | 1       | 1       | A       | door006 |  0      | ...     |  1      | -1      |  0      |  0      | 1       | 1       |  TRUE   | right   | right   | FALSE   | \n",
       "| door009 | door006 | 1514    | right   | 2       | 1       | 1       | A       | door006 | -1      | ...     |  0      |  0      |  0      |  0      | 1       | 1       |  TRUE   | left    | left    | FALSE   | \n",
       "| door007 | door008 | 1242    | right   | 2       | 1       | 1       | A       | door008 |  1      | ...     |  0      |  0      |  0      |  0      | 1       | 1       |  TRUE   | left    | left    | FALSE   | \n",
       "| door008 | door011 | 1581    | left    | 2       | 1       | 1       | A       | door008 |  0      | ...     | -1      |  1      |  0      |  0      | 1       | 1       |  TRUE   | right   | right   | FALSE   | \n",
       "| door007 | door006 |  878    | right   | 2       | 1       | 1       | A       | door006 |  1      | ...     |  0      |  0      |  0      |  0      | 1       | 1       |  TRUE   | left    | left    | FALSE   | \n",
       "| door006 | door009 | 1063    | left    | 2       | 1       | 1       | A       | door006 |  0      | ...     | -1      | -1      |  0      |  0      | 1       | 1       |  TRUE   | right   | right   | FALSE   | \n",
       "| door006 | door010 | 1568    | right   | 2       | 1       | 1       | A       | door010 |  0      | ...     |  1      |  1      |  1      |  1      | 1       | 1       | FALSE   | right   | right   | FALSE   | \n",
       "| door011 | door008 | 2655    | left    | 2       | 1       | 1       | A       | door011 | -1      | ...     |  0      |  0      | -1      |  1      | 1       | 1       | FALSE   | left    | left    | FALSE   | \n",
       "| door011 | door006 | 1396    | left    | 2       | 1       | 1       | A       | door011 | -1      | ...     |  0      |  0      | -1      |  1      | 1       | 1       | FALSE   | left    | left    | FALSE   | \n",
       "| door010 | door008 |  732    | left    | 2       | 1       | 1       | A       | door010 |  1      | ...     |  0      |  0      |  1      |  1      | 1       | 1       | FALSE   | left    | left    | FALSE   | \n",
       "| door009 | door008 |  573    | right   | 2       | 1       | 1       | A       | door008 | -1      | ...     |  0      |  0      |  0      |  0      | 1       | 1       |  TRUE   | left    | left    | FALSE   | \n",
       "| door008 | door007 |  796    | left    | 2       | 1       | 1       | A       | door008 |  0      | ...     |  1      | -1      |  0      |  0      | 1       | 1       |  TRUE   | right   | right   | FALSE   | \n",
       "| ... | ... | ... | ... | ... | ... | ... | ... | ... | ... |     | ... | ... | ... | ... | ... | ... | ... | ... | ... | ... | \n",
       "| door026 | door025 | 1844    | left    | 5       | 4       | 8       | B       | door026 |  0      | ...     |  1      | -1      |  0      |  0      | 1       | 1       |  TRUE   | right   | right   | FALSE   | \n",
       "| door024 | door028 | 1238    | right   | 5       | 4       | 8       | B       | door028 |  0      | ...     |  1      |  1      |  1      |  1      | 1       | 1       | FALSE   | right   | right   | FALSE   | \n",
       "| door026 | door027 | 3431    | left    | 5       | 4       | 8       | B       | door026 |  0      | ...     | -1      | -1      |  0      |  0      | 1       | 1       |  TRUE   | right   | right   | FALSE   | \n",
       "| door026 | door029 | 8286    | left    | 5       | 4       | 8       | B       | door026 |  0      | ...     | -1      |  1      |  0      |  0      | 1       | 1       |  TRUE   | right   | right   | FALSE   | \n",
       "| door024 | door027 | 4248    | left    | 5       | 4       | 8       | B       | door024 |  0      | ...     | -1      | -1      |  0      |  0      | 1       | 1       |  TRUE   | right   | right   | FALSE   | \n",
       "| door026 | door028 |  557    | right   | 5       | 4       | 8       | B       | door028 |  0      | ...     |  1      |  1      |  1      |  1      | 1       | 1       | FALSE   | right   | right   | FALSE   | \n",
       "| door027 | door026 | 3727    | left    | 5       | 4       | 8       | B       | door027 | -1      | ...     |  0      |  0      | -1      | -1      | 1       | 1       | FALSE   | left    | left    | FALSE   | \n",
       "| door024 | door025 | 1725    | left    | 5       | 4       | 8       | B       | door024 |  0      | ...     |  1      | -1      |  0      |  0      | 1       | 1       |  TRUE   | right   | right   | FALSE   | \n",
       "| door027 | door024 | 3064    | right   | 5       | 4       | 8       | B       | door024 | -1      | ...     |  0      |  0      |  0      |  0      | 1       | 1       |  TRUE   | left    | left    | FALSE   | \n",
       "| door029 | door026 |  788    | left    | 5       | 4       | 8       | B       | door029 | -1      | ...     |  0      |  0      | -1      |  1      | 1       | 1       | FALSE   | left    | left    | FALSE   | \n",
       "| door025 | door024 | 2207    | right   | 5       | 4       | 8       | B       | door024 |  1      | ...     |  0      |  0      |  0      |  0      | 1       | 1       |  TRUE   | left    | left    | FALSE   | \n",
       "| door025 | door026 | 1611    | left    | 5       | 4       | 8       | B       | door025 |  1      | ...     |  0      |  0      |  1      | -1      | 1       | 1       | FALSE   | left    | left    | FALSE   | \n",
       "| door029 | door024 | 1381    | left    | 5       | 4       | 8       | B       | door029 | -1      | ...     |  0      |  0      | -1      |  1      | 1       | 1       | FALSE   | left    | left    | FALSE   | \n",
       "| door028 | door024 |  622    | left    | 5       | 4       | 8       | B       | door028 |  1      | ...     |  0      |  0      |  1      |  1      | 1       | 1       | FALSE   | left    | left    | FALSE   | \n",
       "| door034 | door030 |  850    | left    | 6       | 5       | 8       | B       | door034 |  1      | ...     |  0      |  0      |  1      |  1      | 1       | 1       | FALSE   | left    | left    | FALSE   | \n",
       "| door032 | door033 | 4620    | left    | 6       | 5       | 8       | B       | door032 |  0      | ...     | -1      | -1      |  0      |  0      | 1       | 1       |  TRUE   | right   | right   | FALSE   | \n",
       "| door031 | door032 | 1732    | left    | 6       | 5       | 8       | B       | door031 |  1      | ...     |  0      |  0      |  1      | -1      | 1       | 1       | FALSE   | left    | left    | FALSE   | \n",
       "| door035 | door030 | 2885    | left    | 6       | 5       | 8       | B       | door035 | -1      | ...     |  0      |  0      | -1      |  1      | 1       | 1       | FALSE   | left    | left    | FALSE   | \n",
       "| door032 | door031 | 6001    | right   | 6       | 5       | 8       | B       | door031 |  0      | ...     |  1      | -1      |  1      | -1      | 1       | 1       | FALSE   | right   | right   | FALSE   | \n",
       "| door030 | door034 |  672    | right   | 6       | 5       | 8       | B       | door034 |  0      | ...     |  1      |  1      |  1      |  1      | 1       | 1       | FALSE   | right   | right   | FALSE   | \n",
       "| door030 | door033 | 2460    | left    | 6       | 5       | 8       | B       | door030 |  0      | ...     | -1      | -1      |  0      |  0      | 1       | 1       |  TRUE   | right   | right   | FALSE   | \n",
       "| door031 | door030 | 2293    | right   | 6       | 5       | 8       | B       | door030 |  1      | ...     |  0      |  0      |  0      |  0      | 1       | 1       |  TRUE   | left    | left    | FALSE   | \n",
       "| door032 | door034 | 1352    | right   | 6       | 5       | 8       | B       | door034 |  0      | ...     |  1      |  1      |  1      |  1      | 1       | 1       | FALSE   | right   | right   | FALSE   | \n",
       "| door035 | door032 |  850    | left    | 6       | 5       | 8       | B       | door035 | -1      | ...     |  0      |  0      | -1      |  1      | 1       | 1       | FALSE   | left    | left    | FALSE   | \n",
       "| door034 | door032 |  729    | left    | 6       | 5       | 8       | B       | door034 |  1      | ...     |  0      |  0      |  1      |  1      | 1       | 1       | FALSE   | left    | left    | FALSE   | \n",
       "| door032 | door035 |  899    | right   | 6       | 5       | 8       | B       | door035 |  0      | ...     | -1      |  1      | -1      |  1      | 1       | 1       | FALSE   | right   | right   | FALSE   | \n",
       "| door033 | door032 | 7583    | right   | 6       | 5       | 8       | B       | door032 | -1      | ...     |  0      |  0      |  0      |  0      | 1       | 1       |  TRUE   | left    | left    | FALSE   | \n",
       "| door030 | door031 | 1553    | left    | 6       | 5       | 8       | B       | door030 |  0      | ...     |  1      | -1      |  0      |  0      | 1       | 1       |  TRUE   | right   | right   | FALSE   | \n",
       "| door030 | door035 |  638    | right   | 6       | 5       | 8       | B       | door035 |  0      | ...     | -1      |  1      | -1      |  1      | 1       | 1       | FALSE   | right   | right   | FALSE   | \n",
       "| door033 | door030 | 2184    | right   | 6       | 5       | 8       | B       | door030 | -1      | ...     |  0      |  0      |  0      |  0      | 1       | 1       |  TRUE   | left    | left    | FALSE   | \n",
       "\n",
       "\n"
      ],
      "text/plain": [
       "     left_door right_door rt   key_pressed block_level_1_fc block id \n",
       "1    door005   door000    2271 left        1                0     1  \n",
       "2    door004   door000     567 left        1                0     1  \n",
       "3    door001   door000    3496 right       1                0     1  \n",
       "4    door000   door004    1084 right       1                0     1  \n",
       "5    door002   door003    4220 left        1                0     1  \n",
       "6    door001   door002    1124 right       1                0     1  \n",
       "7    door003   door002    1244 right       1                0     1  \n",
       "8    door002   door001    2411 left        1                0     1  \n",
       "9    door002   door005    1844 right       1                0     1  \n",
       "10   door003   door000    1547 left        1                0     1  \n",
       "11   door000   door001    2689 left        1                0     1  \n",
       "12   door000   door003    1832 right       1                0     1  \n",
       "13   door002   door004    1131 right       1                0     1  \n",
       "14   door000   door005     746 right       1                0     1  \n",
       "15   door004   door002     882 left        1                0     1  \n",
       "16   door005   door002     574 left        1                0     1  \n",
       "17   door008   door010    2573 right       2                1     1  \n",
       "18   door010   door006    1906 left        2                1     1  \n",
       "19   door006   door007    3811 left        2                1     1  \n",
       "20   door009   door006    1514 right       2                1     1  \n",
       "21   door007   door008    1242 right       2                1     1  \n",
       "22   door008   door011    1581 left        2                1     1  \n",
       "23   door007   door006     878 right       2                1     1  \n",
       "24   door006   door009    1063 left        2                1     1  \n",
       "25   door006   door010    1568 right       2                1     1  \n",
       "26   door011   door008    2655 left        2                1     1  \n",
       "27   door011   door006    1396 left        2                1     1  \n",
       "28   door010   door008     732 left        2                1     1  \n",
       "29   door009   door008     573 right       2                1     1  \n",
       "30   door008   door007     796 left        2                1     1  \n",
       "...  ...       ...        ...  ...         ...              ...   ...\n",
       "1891 door026   door025    1844 left        5                4     8  \n",
       "1892 door024   door028    1238 right       5                4     8  \n",
       "1893 door026   door027    3431 left        5                4     8  \n",
       "1894 door026   door029    8286 left        5                4     8  \n",
       "1895 door024   door027    4248 left        5                4     8  \n",
       "1896 door026   door028     557 right       5                4     8  \n",
       "1897 door027   door026    3727 left        5                4     8  \n",
       "1898 door024   door025    1725 left        5                4     8  \n",
       "1899 door027   door024    3064 right       5                4     8  \n",
       "1900 door029   door026     788 left        5                4     8  \n",
       "1901 door025   door024    2207 right       5                4     8  \n",
       "1902 door025   door026    1611 left        5                4     8  \n",
       "1903 door029   door024    1381 left        5                4     8  \n",
       "1904 door028   door024     622 left        5                4     8  \n",
       "1905 door034   door030     850 left        6                5     8  \n",
       "1906 door032   door033    4620 left        6                5     8  \n",
       "1907 door031   door032    1732 left        6                5     8  \n",
       "1908 door035   door030    2885 left        6                5     8  \n",
       "1909 door032   door031    6001 right       6                5     8  \n",
       "1910 door030   door034     672 right       6                5     8  \n",
       "1911 door030   door033    2460 left        6                5     8  \n",
       "1912 door031   door030    2293 right       6                5     8  \n",
       "1913 door032   door034    1352 right       6                5     8  \n",
       "1914 door035   door032     850 left        6                5     8  \n",
       "1915 door034   door032     729 left        6                5     8  \n",
       "1916 door032   door035     899 right       6                5     8  \n",
       "1917 door033   door032    7583 right       6                5     8  \n",
       "1918 door030   door031    1553 left        6                5     8  \n",
       "1919 door030   door035     638 right       6                5     8  \n",
       "1920 door033   door030    2184 right       6                5     8  \n",
       "     experiment chosen_door left_speed ... right_speed right_safety\n",
       "1    A          door005     -1         ...  0           0          \n",
       "2    A          door004      1         ...  0           0          \n",
       "3    A          door000      1         ...  0           0          \n",
       "4    A          door004      0         ...  1           1          \n",
       "5    A          door002      0         ... -1          -1          \n",
       "6    A          door002      1         ...  0           0          \n",
       "7    A          door002     -1         ...  0           0          \n",
       "8    A          door002      0         ...  1          -1          \n",
       "9    A          door005      0         ... -1           1          \n",
       "10   A          door003     -1         ...  0           0          \n",
       "11   A          door000      0         ...  1          -1          \n",
       "12   A          door003      0         ... -1          -1          \n",
       "13   A          door004      0         ...  1           1          \n",
       "14   A          door005      0         ... -1           1          \n",
       "15   A          door004      1         ...  0           0          \n",
       "16   A          door005     -1         ...  0           0          \n",
       "17   A          door010      0         ...  1           1          \n",
       "18   A          door010      1         ...  0           0          \n",
       "19   A          door006      0         ...  1          -1          \n",
       "20   A          door006     -1         ...  0           0          \n",
       "21   A          door008      1         ...  0           0          \n",
       "22   A          door008      0         ... -1           1          \n",
       "23   A          door006      1         ...  0           0          \n",
       "24   A          door006      0         ... -1          -1          \n",
       "25   A          door010      0         ...  1           1          \n",
       "26   A          door011     -1         ...  0           0          \n",
       "27   A          door011     -1         ...  0           0          \n",
       "28   A          door010      1         ...  0           0          \n",
       "29   A          door008     -1         ...  0           0          \n",
       "30   A          door008      0         ...  1          -1          \n",
       "...  ...        ...         ...            ...         ...         \n",
       "1891 B          door026      0         ...  1          -1          \n",
       "1892 B          door028      0         ...  1           1          \n",
       "1893 B          door026      0         ... -1          -1          \n",
       "1894 B          door026      0         ... -1           1          \n",
       "1895 B          door024      0         ... -1          -1          \n",
       "1896 B          door028      0         ...  1           1          \n",
       "1897 B          door027     -1         ...  0           0          \n",
       "1898 B          door024      0         ...  1          -1          \n",
       "1899 B          door024     -1         ...  0           0          \n",
       "1900 B          door029     -1         ...  0           0          \n",
       "1901 B          door024      1         ...  0           0          \n",
       "1902 B          door025      1         ...  0           0          \n",
       "1903 B          door029     -1         ...  0           0          \n",
       "1904 B          door028      1         ...  0           0          \n",
       "1905 B          door034      1         ...  0           0          \n",
       "1906 B          door032      0         ... -1          -1          \n",
       "1907 B          door031      1         ...  0           0          \n",
       "1908 B          door035     -1         ...  0           0          \n",
       "1909 B          door031      0         ...  1          -1          \n",
       "1910 B          door034      0         ...  1           1          \n",
       "1911 B          door030      0         ... -1          -1          \n",
       "1912 B          door030      1         ...  0           0          \n",
       "1913 B          door034      0         ...  1           1          \n",
       "1914 B          door035     -1         ...  0           0          \n",
       "1915 B          door034      1         ...  0           0          \n",
       "1916 B          door035      0         ... -1           1          \n",
       "1917 B          door032     -1         ...  0           0          \n",
       "1918 B          door030      0         ...  1          -1          \n",
       "1919 B          door035      0         ... -1           1          \n",
       "1920 B          door030     -1         ...  0           0          \n",
       "     chosen_speed chosen_safety steps_ttb_speed steps_ttb_safety\n",
       "1    -1            1            1               1               \n",
       "2     1            1            1               1               \n",
       "3     0            0            1               1               \n",
       "4     1            1            1               1               \n",
       "5     0            0            1               1               \n",
       "6     0            0            1               1               \n",
       "7     0            0            1               1               \n",
       "8     0            0            1               1               \n",
       "9    -1            1            1               1               \n",
       "10   -1           -1            1               1               \n",
       "11    0            0            1               1               \n",
       "12   -1           -1            1               1               \n",
       "13    1            1            1               1               \n",
       "14   -1            1            1               1               \n",
       "15    1            1            1               1               \n",
       "16   -1            1            1               1               \n",
       "17    1            1            1               1               \n",
       "18    1            1            1               1               \n",
       "19    0            0            1               1               \n",
       "20    0            0            1               1               \n",
       "21    0            0            1               1               \n",
       "22    0            0            1               1               \n",
       "23    0            0            1               1               \n",
       "24    0            0            1               1               \n",
       "25    1            1            1               1               \n",
       "26   -1            1            1               1               \n",
       "27   -1            1            1               1               \n",
       "28    1            1            1               1               \n",
       "29    0            0            1               1               \n",
       "30    0            0            1               1               \n",
       "...  ...          ...           ...             ...             \n",
       "1891  0            0            1               1               \n",
       "1892  1            1            1               1               \n",
       "1893  0            0            1               1               \n",
       "1894  0            0            1               1               \n",
       "1895  0            0            1               1               \n",
       "1896  1            1            1               1               \n",
       "1897 -1           -1            1               1               \n",
       "1898  0            0            1               1               \n",
       "1899  0            0            1               1               \n",
       "1900 -1            1            1               1               \n",
       "1901  0            0            1               1               \n",
       "1902  1           -1            1               1               \n",
       "1903 -1            1            1               1               \n",
       "1904  1            1            1               1               \n",
       "1905  1            1            1               1               \n",
       "1906  0            0            1               1               \n",
       "1907  1           -1            1               1               \n",
       "1908 -1            1            1               1               \n",
       "1909  1           -1            1               1               \n",
       "1910  1            1            1               1               \n",
       "1911  0            0            1               1               \n",
       "1912  0            0            1               1               \n",
       "1913  1            1            1               1               \n",
       "1914 -1            1            1               1               \n",
       "1915  1            1            1               1               \n",
       "1916 -1            1            1               1               \n",
       "1917  0            0            1               1               \n",
       "1918  0            0            1               1               \n",
       "1919 -1            1            1               1               \n",
       "1920  0            0            1               1               \n",
       "     chosen_door_is_unknown chosen_ttb_speed chosen_ttb_safety\n",
       "1    FALSE                  left             left             \n",
       "2    FALSE                  left             left             \n",
       "3     TRUE                  left             left             \n",
       "4    FALSE                  right            right            \n",
       "5     TRUE                  right            right            \n",
       "6     TRUE                  left             left             \n",
       "7     TRUE                  left             left             \n",
       "8     TRUE                  right            right            \n",
       "9    FALSE                  right            right            \n",
       "10   FALSE                  left             left             \n",
       "11    TRUE                  right            right            \n",
       "12   FALSE                  right            right            \n",
       "13   FALSE                  right            right            \n",
       "14   FALSE                  right            right            \n",
       "15   FALSE                  left             left             \n",
       "16   FALSE                  left             left             \n",
       "17   FALSE                  right            right            \n",
       "18   FALSE                  left             left             \n",
       "19    TRUE                  right            right            \n",
       "20    TRUE                  left             left             \n",
       "21    TRUE                  left             left             \n",
       "22    TRUE                  right            right            \n",
       "23    TRUE                  left             left             \n",
       "24    TRUE                  right            right            \n",
       "25   FALSE                  right            right            \n",
       "26   FALSE                  left             left             \n",
       "27   FALSE                  left             left             \n",
       "28   FALSE                  left             left             \n",
       "29    TRUE                  left             left             \n",
       "30    TRUE                  right            right            \n",
       "...  ...                    ...              ...              \n",
       "1891  TRUE                  right            right            \n",
       "1892 FALSE                  right            right            \n",
       "1893  TRUE                  right            right            \n",
       "1894  TRUE                  right            right            \n",
       "1895  TRUE                  right            right            \n",
       "1896 FALSE                  right            right            \n",
       "1897 FALSE                  left             left             \n",
       "1898  TRUE                  right            right            \n",
       "1899  TRUE                  left             left             \n",
       "1900 FALSE                  left             left             \n",
       "1901  TRUE                  left             left             \n",
       "1902 FALSE                  left             left             \n",
       "1903 FALSE                  left             left             \n",
       "1904 FALSE                  left             left             \n",
       "1905 FALSE                  left             left             \n",
       "1906  TRUE                  right            right            \n",
       "1907 FALSE                  left             left             \n",
       "1908 FALSE                  left             left             \n",
       "1909 FALSE                  right            right            \n",
       "1910 FALSE                  right            right            \n",
       "1911  TRUE                  right            right            \n",
       "1912  TRUE                  left             left             \n",
       "1913 FALSE                  right            right            \n",
       "1914 FALSE                  left             left             \n",
       "1915 FALSE                  left             left             \n",
       "1916 FALSE                  right            right            \n",
       "1917  TRUE                  left             left             \n",
       "1918  TRUE                  right            right            \n",
       "1919 FALSE                  right            right            \n",
       "1920  TRUE                  left             left             \n",
       "     equivalent_options\n",
       "1    FALSE             \n",
       "2    FALSE             \n",
       "3    FALSE             \n",
       "4    FALSE             \n",
       "5    FALSE             \n",
       "6    FALSE             \n",
       "7    FALSE             \n",
       "8    FALSE             \n",
       "9    FALSE             \n",
       "10   FALSE             \n",
       "11   FALSE             \n",
       "12   FALSE             \n",
       "13   FALSE             \n",
       "14   FALSE             \n",
       "15   FALSE             \n",
       "16   FALSE             \n",
       "17   FALSE             \n",
       "18   FALSE             \n",
       "19   FALSE             \n",
       "20   FALSE             \n",
       "21   FALSE             \n",
       "22   FALSE             \n",
       "23   FALSE             \n",
       "24   FALSE             \n",
       "25   FALSE             \n",
       "26   FALSE             \n",
       "27   FALSE             \n",
       "28   FALSE             \n",
       "29   FALSE             \n",
       "30   FALSE             \n",
       "...  ...               \n",
       "1891 FALSE             \n",
       "1892 FALSE             \n",
       "1893 FALSE             \n",
       "1894 FALSE             \n",
       "1895 FALSE             \n",
       "1896 FALSE             \n",
       "1897 FALSE             \n",
       "1898 FALSE             \n",
       "1899 FALSE             \n",
       "1900 FALSE             \n",
       "1901 FALSE             \n",
       "1902 FALSE             \n",
       "1903 FALSE             \n",
       "1904 FALSE             \n",
       "1905 FALSE             \n",
       "1906 FALSE             \n",
       "1907 FALSE             \n",
       "1908 FALSE             \n",
       "1909 FALSE             \n",
       "1910 FALSE             \n",
       "1911 FALSE             \n",
       "1912 FALSE             \n",
       "1913 FALSE             \n",
       "1914 FALSE             \n",
       "1915 FALSE             \n",
       "1916 FALSE             \n",
       "1917 FALSE             \n",
       "1918 FALSE             \n",
       "1919 FALSE             \n",
       "1920 FALSE             "
      ]
     },
     "metadata": {},
     "output_type": "display_data"
    }
   ],
   "source": [
    "dat %>%\n",
    "    filter(unknown_door_involved == TRUE) %>%\n",
    "    select(-KEY_RESPONSE_TIME, -DISPLAY_TIME, -row_id, -unknown_door_involved) %>%\n",
    "    filter(steps_ttb_safety == 1)"
   ]
  },
  {
   "cell_type": "code",
   "execution_count": null,
   "metadata": {
    "collapsed": true
   },
   "outputs": [],
   "source": []
  }
 ],
 "metadata": {
  "kernelspec": {
   "display_name": "R",
   "language": "R",
   "name": "ir"
  },
  "language_info": {
   "codemirror_mode": "r",
   "file_extension": ".r",
   "mimetype": "text/x-r-source",
   "name": "R",
   "pygments_lexer": "r",
   "version": "3.3.1"
  }
 },
 "nbformat": 4,
 "nbformat_minor": 2
}
