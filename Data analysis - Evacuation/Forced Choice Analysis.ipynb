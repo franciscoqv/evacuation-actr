{
 "cells": [
  {
   "cell_type": "markdown",
   "metadata": {},
   "source": [
    "# Libraries"
   ]
  },
  {
   "cell_type": "code",
   "execution_count": 87,
   "metadata": {},
   "outputs": [],
   "source": [
    "library(plyr)\n",
    "\n",
    "library(tidyverse)\n",
    "library(DT) # dependency\n",
    "library(ggthemes) # dependency"
   ]
  },
  {
   "cell_type": "code",
   "execution_count": 88,
   "metadata": {
    "collapsed": true
   },
   "outputs": [],
   "source": [
    "source(\"tools.R\") # Ad-hoc tools"
   ]
  },
  {
   "cell_type": "markdown",
   "metadata": {},
   "source": [
    "# General variables and functions"
   ]
  },
  {
   "cell_type": "code",
   "execution_count": 89,
   "metadata": {
    "collapsed": true
   },
   "outputs": [],
   "source": [
    "se <- function(x) {\n",
    "    sd(x)/sqrt(length(x))\n",
    "}\n",
    "\n",
    "bar_graph <- function(plot_data) {\n",
    "    plot_data %>%\n",
    "        ggplot(aes(x=x, y=y))+\n",
    "        geom_bar(stat=\"identity\", position=position_dodge()) +\n",
    "        geom_errorbar(aes(ymin=lower_bound, ymax=upper_bound),\n",
    "                      position=position_dodge(.9),\n",
    "                      width=0.2 )\n",
    "}\n",
    "\n",
    "decimals <- 2 # for rounding"
   ]
  },
  {
   "cell_type": "markdown",
   "metadata": {},
   "source": [
    "# Import data"
   ]
  },
  {
   "cell_type": "code",
   "execution_count": 90,
   "metadata": {
    "collapsed": true
   },
   "outputs": [],
   "source": [
    "directory <- \"Data January 2017/\"\n",
    "\n",
    "dat <- get_fc_table(directory)"
   ]
  },
  {
   "cell_type": "markdown",
   "metadata": {},
   "source": [
    "### Data mutation"
   ]
  },
  {
   "cell_type": "code",
   "execution_count": 91,
   "metadata": {},
   "outputs": [],
   "source": [
    "# Change column names\n",
    "colnames(dat) <- c( \"row_id\",\n",
    "                    \"left_door\",\n",
    "                    \"right_door\",\n",
    "                    \"rt\",\n",
    "                    \"KEY_RESPONSE_TIME\",\n",
    "                    \"DISPLAY_TIME\", \n",
    "                    \"key_pressed\",\n",
    "                    \"block_level_1_fc\",\n",
    "                    \"block\",\n",
    "                    \"id\",\n",
    "                    \"experiment\" )\n",
    "\n",
    "\n",
    "# Remove \".jpg\" of the doors' names; Change {f,j} to {left, right}; Add chosen_door column\n",
    "dat <- dat %>%\n",
    "    mutate(left_door = substr(left_door, 0, 7), \n",
    "           right_door = substr(right_door, 0, 7),\n",
    "           key_pressed = ifelse(key_pressed=='f', 'left', 'right'), \n",
    "           chosen_door = ifelse(key_pressed=='left', left_door, right_door)) "
   ]
  },
  {
   "cell_type": "markdown",
   "metadata": {},
   "source": [
    "Cue values"
   ]
  },
  {
   "cell_type": "code",
   "execution_count": 92,
   "metadata": {
    "collapsed": true,
    "scrolled": true
   },
   "outputs": [],
   "source": [
    "for(index in 1:length(dat$id)){\n",
    "    dat$left_speed[index] <- get_cues(dat$experiment[index], dat$left_door[index])[1]\n",
    "    dat$left_safety[index] <- get_cues(dat$experiment[index], dat$left_door[index])[2]\n",
    "    \n",
    "    dat$right_speed[index] <- get_cues(dat$experiment[index], dat$right_door[index])[1]\n",
    "    dat$right_safety[index] <- get_cues(dat$experiment[index], dat$right_door[index])[2]\n",
    "    \n",
    "    dat$chosen_speed[index] <- get_cues(dat$experiment[index], dat$chosen_door[index])[1]\n",
    "    dat$chosen_safety[index] <- get_cues(dat$experiment[index], dat$chosen_door[index])[2]\n",
    "}"
   ]
  },
  {
   "cell_type": "markdown",
   "metadata": {},
   "source": [
    "Add final columns"
   ]
  },
  {
   "cell_type": "code",
   "execution_count": 93,
   "metadata": {
    "collapsed": true
   },
   "outputs": [],
   "source": [
    "# Number of cues to check\n",
    "# ASSUMPTION: when an unknown door is involved, the decision takes 1 step\n",
    "\n",
    "dat <- dat %>%\n",
    "    mutate(steps_ttb_speed = ifelse(left_speed == right_speed, 2, 1),\n",
    "           steps_ttb_safety = ifelse(left_safety == right_safety, 2, 1),\n",
    "           unknown_door_involved = (left_speed == 0 | right_speed ==0),\n",
    "           chosen_door_is_unknown = (chosen_speed == 0) ) # Checking one cue is enough"
   ]
  },
  {
   "cell_type": "markdown",
   "metadata": {},
   "source": [
    "Now that we have the cue values, we can calculate the **predicted** decisions"
   ]
  },
  {
   "cell_type": "code",
   "execution_count": 94,
   "metadata": {
    "collapsed": true
   },
   "outputs": [],
   "source": [
    "# Choice per TTB.\n",
    "# ASSUMPTION: unknown door is never chosen\n",
    "\n",
    "## TTB Speed\n",
    "\n",
    "dat[!dat$unknown_door_involved & dat$left_speed > dat$right_speed, 'chosen_ttb_speed'] <- 'left'\n",
    "\n",
    "dat[!dat$unknown_door_involved & dat$left_speed < dat$right_speed, 'chosen_ttb_speed'] <- 'right'\n",
    "\n",
    "dat[!dat$unknown_door_involved & dat$left_speed == dat$right_speed & dat$left_safety > dat$right_safety, 'chosen_ttb_speed'] <- 'left'\n",
    "\n",
    "dat[!dat$unknown_door_involved & dat$left_speed == dat$right_speed & dat$left_safety < dat$right_safety, 'chosen_ttb_speed'] <- 'right'\n",
    "\n",
    "dat[dat$unknown_door_involved & dat$left_speed == 0 , 'chosen_ttb_speed'] <- 'right'\n",
    "\n",
    "dat[dat$unknown_door_involved & dat$right_speed == 0 , 'chosen_ttb_speed'] <- 'left'\n",
    "\n",
    "\n",
    "## TTB Safety\n",
    "\n",
    "dat[!dat$unknown_door_involved & dat$left_safety > dat$right_safety, 'chosen_ttb_safety'] <- 'left'\n",
    "\n",
    "dat[!dat$unknown_door_involved & dat$left_safety < dat$right_safety, 'chosen_ttb_safety'] <- 'right'\n",
    "\n",
    "dat[!dat$unknown_door_involved & dat$left_safety == dat$right_safety & dat$left_speed > dat$right_speed, 'chosen_ttb_safety'] <- 'left'\n",
    "\n",
    "dat[!dat$unknown_door_involved & dat$left_safety == dat$right_safety & dat$left_speed < dat$right_speed, 'chosen_ttb_safety'] <- 'right'\n",
    "\n",
    "dat[dat$unknown_door_involved & dat$left_safety == 0 , 'chosen_ttb_safety'] <- 'right'\n",
    "\n",
    "dat[dat$unknown_door_involved & dat$right_safety == 0 , 'chosen_ttb_safety'] <- 'left'"
   ]
  },
  {
   "cell_type": "code",
   "execution_count": 95,
   "metadata": {},
   "outputs": [],
   "source": [
    "# When choices are equivalent, the predicted choice is unknown\n",
    "dat$equivalent_options = FALSE\n",
    "\n",
    "dat[dat$right_speed == dat$left_speed & dat$right_safety == dat$left_safety, 'equivalent_options'] <- TRUE\n",
    "\n",
    "dat[dat$equivalent_options == TRUE, 'chosen_ttb_safety'] <- 'unknown'\n",
    "dat[dat$equivalent_options == TRUE, 'chosen_ttb_speed'] <- 'unknown'"
   ]
  },
  {
   "cell_type": "markdown",
   "metadata": {},
   "source": [
    "\n",
    "\n",
    "\n",
    "\n",
    "\n"
   ]
  },
  {
   "cell_type": "markdown",
   "metadata": {},
   "source": [
    "<hr>\n",
    "<hr>"
   ]
  },
  {
   "cell_type": "markdown",
   "metadata": {},
   "source": [
    "# Accordance rates"
   ]
  },
  {
   "cell_type": "markdown",
   "metadata": {},
   "source": [
    "Accordance rate is the proportion of human responses that were correctly predicted"
   ]
  },
  {
   "cell_type": "code",
   "execution_count": 96,
   "metadata": {},
   "outputs": [],
   "source": [
    "accordance <- function( data, column ) {\n",
    "    \n",
    "    column <- enquo(column)\n",
    "    \n",
    "    data %>%\n",
    "        mutate( correctly_predicted = (key_pressed == !!column) ) %>%\n",
    "        group_by( id ) %>%\n",
    "        summarize( accordance_rate = mean(correctly_predicted) ) %>%\n",
    "        summarize( accordance_rate_mean = mean(accordance_rate), \n",
    "                   se = se(accordance_rate),\n",
    "                   lower_bound = t.test(accordance_rate, conf.level=0.95)$conf.int[1],\n",
    "                   upper_bound = t.test(accordance_rate, conf.level=0.95)$conf.int[2]) %>%\n",
    "        round( decimals )\n",
    "}"
   ]
  },
  {
   "cell_type": "markdown",
   "metadata": {},
   "source": [
    "### 1. Cases where both models predict the same outcome"
   ]
  },
  {
   "cell_type": "code",
   "execution_count": 97,
   "metadata": {},
   "outputs": [
    {
     "name": "stdout",
     "output_type": "stream",
     "text": [
      "[1] \"Safety\"\n"
     ]
    },
    {
     "data": {
      "text/html": [
       "<table>\n",
       "<thead><tr><th scope=col>accordance_rate_mean</th><th scope=col>se</th><th scope=col>lower_bound</th><th scope=col>upper_bound</th></tr></thead>\n",
       "<tbody>\n",
       "\t<tr><td>0.92</td><td>0.01</td><td>0.89</td><td>0.95</td></tr>\n",
       "</tbody>\n",
       "</table>\n"
      ],
      "text/latex": [
       "\\begin{tabular}{r|llll}\n",
       " accordance\\_rate\\_mean & se & lower\\_bound & upper\\_bound\\\\\n",
       "\\hline\n",
       "\t 0.92 & 0.01 & 0.89 & 0.95\\\\\n",
       "\\end{tabular}\n"
      ],
      "text/markdown": [
       "\n",
       "accordance_rate_mean | se | lower_bound | upper_bound | \n",
       "|---|\n",
       "| 0.92 | 0.01 | 0.89 | 0.95 | \n",
       "\n",
       "\n"
      ],
      "text/plain": [
       "  accordance_rate_mean se   lower_bound upper_bound\n",
       "1 0.92                 0.01 0.89        0.95       "
      ]
     },
     "metadata": {},
     "output_type": "display_data"
    },
    {
     "name": "stdout",
     "output_type": "stream",
     "text": [
      "[1] \"Speed\"\n"
     ]
    },
    {
     "data": {
      "text/html": [
       "<table>\n",
       "<thead><tr><th scope=col>accordance_rate_mean</th><th scope=col>se</th><th scope=col>lower_bound</th><th scope=col>upper_bound</th></tr></thead>\n",
       "<tbody>\n",
       "\t<tr><td>0.92</td><td>0.01</td><td>0.89</td><td>0.95</td></tr>\n",
       "</tbody>\n",
       "</table>\n"
      ],
      "text/latex": [
       "\\begin{tabular}{r|llll}\n",
       " accordance\\_rate\\_mean & se & lower\\_bound & upper\\_bound\\\\\n",
       "\\hline\n",
       "\t 0.92 & 0.01 & 0.89 & 0.95\\\\\n",
       "\\end{tabular}\n"
      ],
      "text/markdown": [
       "\n",
       "accordance_rate_mean | se | lower_bound | upper_bound | \n",
       "|---|\n",
       "| 0.92 | 0.01 | 0.89 | 0.95 | \n",
       "\n",
       "\n"
      ],
      "text/plain": [
       "  accordance_rate_mean se   lower_bound upper_bound\n",
       "1 0.92                 0.01 0.89        0.95       "
      ]
     },
     "metadata": {},
     "output_type": "display_data"
    }
   ],
   "source": [
    "print('Safety')\n",
    "dat %>% \n",
    "    filter( chosen_ttb_speed == chosen_ttb_safety ,\n",
    "            unknown_door_involved == FALSE ,\n",
    "            equivalent_options == FALSE ) %>%\n",
    "    accordance( chosen_ttb_safety )\n",
    "\n",
    "print('Speed')\n",
    "dat %>% \n",
    "    filter( chosen_ttb_speed == chosen_ttb_safety ,\n",
    "            unknown_door_involved == FALSE ,\n",
    "            equivalent_options == FALSE ) %>%\n",
    "    accordance( chosen_ttb_speed )"
   ]
  },
  {
   "cell_type": "markdown",
   "metadata": {},
   "source": [
    "### 2. Cases where both models predict different outcomes"
   ]
  },
  {
   "cell_type": "code",
   "execution_count": 98,
   "metadata": {},
   "outputs": [
    {
     "name": "stdout",
     "output_type": "stream",
     "text": [
      "[1] \"Safety\"\n"
     ]
    },
    {
     "data": {
      "text/html": [
       "<table>\n",
       "<thead><tr><th scope=col>accordance_rate_mean</th><th scope=col>se</th><th scope=col>lower_bound</th><th scope=col>upper_bound</th></tr></thead>\n",
       "<tbody>\n",
       "\t<tr><td>0.96</td><td>0.02</td><td>0.92</td><td>1   </td></tr>\n",
       "</tbody>\n",
       "</table>\n"
      ],
      "text/latex": [
       "\\begin{tabular}{r|llll}\n",
       " accordance\\_rate\\_mean & se & lower\\_bound & upper\\_bound\\\\\n",
       "\\hline\n",
       "\t 0.96 & 0.02 & 0.92 & 1   \\\\\n",
       "\\end{tabular}\n"
      ],
      "text/markdown": [
       "\n",
       "accordance_rate_mean | se | lower_bound | upper_bound | \n",
       "|---|\n",
       "| 0.96 | 0.02 | 0.92 | 1    | \n",
       "\n",
       "\n"
      ],
      "text/plain": [
       "  accordance_rate_mean se   lower_bound upper_bound\n",
       "1 0.96                 0.02 0.92        1          "
      ]
     },
     "metadata": {},
     "output_type": "display_data"
    },
    {
     "name": "stdout",
     "output_type": "stream",
     "text": [
      "[1] \"Speed\"\n"
     ]
    },
    {
     "data": {
      "text/html": [
       "<table>\n",
       "<thead><tr><th scope=col>accordance_rate_mean</th><th scope=col>se</th><th scope=col>lower_bound</th><th scope=col>upper_bound</th></tr></thead>\n",
       "<tbody>\n",
       "\t<tr><td>0.04</td><td>0.02</td><td>0   </td><td>0.08</td></tr>\n",
       "</tbody>\n",
       "</table>\n"
      ],
      "text/latex": [
       "\\begin{tabular}{r|llll}\n",
       " accordance\\_rate\\_mean & se & lower\\_bound & upper\\_bound\\\\\n",
       "\\hline\n",
       "\t 0.04 & 0.02 & 0    & 0.08\\\\\n",
       "\\end{tabular}\n"
      ],
      "text/markdown": [
       "\n",
       "accordance_rate_mean | se | lower_bound | upper_bound | \n",
       "|---|\n",
       "| 0.04 | 0.02 | 0    | 0.08 | \n",
       "\n",
       "\n"
      ],
      "text/plain": [
       "  accordance_rate_mean se   lower_bound upper_bound\n",
       "1 0.04                 0.02 0           0.08       "
      ]
     },
     "metadata": {},
     "output_type": "display_data"
    }
   ],
   "source": [
    "print('Safety')\n",
    "dat %>% \n",
    "    filter( chosen_ttb_speed != chosen_ttb_safety ,\n",
    "            unknown_door_involved == FALSE ,\n",
    "            equivalent_options == FALSE ) %>%\n",
    "    accordance( chosen_ttb_safety )\n",
    "\n",
    "print('Speed')\n",
    "dat %>% \n",
    "    filter( chosen_ttb_speed != chosen_ttb_safety ,\n",
    "            unknown_door_involved == FALSE ,\n",
    "            equivalent_options == FALSE ) %>%\n",
    "    accordance( chosen_ttb_speed )"
   ]
  },
  {
   "cell_type": "markdown",
   "metadata": {},
   "source": [
    "### 3. Both choices are equivalent"
   ]
  },
  {
   "cell_type": "markdown",
   "metadata": {},
   "source": [
    "Rate of 'right' choices. It should be 50%."
   ]
  },
  {
   "cell_type": "code",
   "execution_count": 99,
   "metadata": {},
   "outputs": [
    {
     "data": {
      "text/html": [
       "<table>\n",
       "<thead><tr><th scope=col>selected_right_rate_mean</th><th scope=col>se</th><th scope=col>lower_bound</th><th scope=col>upper_bound</th></tr></thead>\n",
       "<tbody>\n",
       "\t<tr><td>0.55</td><td>0.03</td><td>0.5 </td><td>0.6 </td></tr>\n",
       "</tbody>\n",
       "</table>\n"
      ],
      "text/latex": [
       "\\begin{tabular}{r|llll}\n",
       " selected\\_right\\_rate\\_mean & se & lower\\_bound & upper\\_bound\\\\\n",
       "\\hline\n",
       "\t 0.55 & 0.03 & 0.5  & 0.6 \\\\\n",
       "\\end{tabular}\n"
      ],
      "text/markdown": [
       "\n",
       "selected_right_rate_mean | se | lower_bound | upper_bound | \n",
       "|---|\n",
       "| 0.55 | 0.03 | 0.5  | 0.6  | \n",
       "\n",
       "\n"
      ],
      "text/plain": [
       "  selected_right_rate_mean se   lower_bound upper_bound\n",
       "1 0.55                     0.03 0.5         0.6        "
      ]
     },
     "metadata": {},
     "output_type": "display_data"
    }
   ],
   "source": [
    "dat %>%\n",
    "    filter( equivalent_options == TRUE ) %>%\n",
    "    mutate(selected_right = key_pressed == 'right') %>%\n",
    "    group_by( id ) %>%\n",
    "    summarize( selected_right_rate = mean(selected_right) ) %>%\n",
    "    summarize( selected_right_rate_mean = mean(selected_right_rate), \n",
    "               se = se(selected_right_rate),\n",
    "               lower_bound = t.test(selected_right_rate, conf.level=0.95)$conf.int[1],\n",
    "               upper_bound = t.test(selected_right_rate, conf.level=0.95)$conf.int[2]) %>%\n",
    "    round( decimals )"
   ]
  },
  {
   "cell_type": "markdown",
   "metadata": {},
   "source": [
    "### 4. Unknown door is involved"
   ]
  },
  {
   "cell_type": "code",
   "execution_count": 100,
   "metadata": {},
   "outputs": [
    {
     "name": "stdout",
     "output_type": "stream",
     "text": [
      "[1] \"Safety\"\n"
     ]
    },
    {
     "data": {
      "text/html": [
       "<table>\n",
       "<thead><tr><th scope=col>accordance_rate_mean</th><th scope=col>se</th><th scope=col>lower_bound</th><th scope=col>upper_bound</th></tr></thead>\n",
       "<tbody>\n",
       "\t<tr><td>0.58</td><td>0.02</td><td>0.53</td><td>0.62</td></tr>\n",
       "</tbody>\n",
       "</table>\n"
      ],
      "text/latex": [
       "\\begin{tabular}{r|llll}\n",
       " accordance\\_rate\\_mean & se & lower\\_bound & upper\\_bound\\\\\n",
       "\\hline\n",
       "\t 0.58 & 0.02 & 0.53 & 0.62\\\\\n",
       "\\end{tabular}\n"
      ],
      "text/markdown": [
       "\n",
       "accordance_rate_mean | se | lower_bound | upper_bound | \n",
       "|---|\n",
       "| 0.58 | 0.02 | 0.53 | 0.62 | \n",
       "\n",
       "\n"
      ],
      "text/plain": [
       "  accordance_rate_mean se   lower_bound upper_bound\n",
       "1 0.58                 0.02 0.53        0.62       "
      ]
     },
     "metadata": {},
     "output_type": "display_data"
    },
    {
     "name": "stdout",
     "output_type": "stream",
     "text": [
      "[1] \"Speed\"\n"
     ]
    },
    {
     "data": {
      "text/html": [
       "<table>\n",
       "<thead><tr><th scope=col>accordance_rate_mean</th><th scope=col>se</th><th scope=col>lower_bound</th><th scope=col>upper_bound</th></tr></thead>\n",
       "<tbody>\n",
       "\t<tr><td>0.58</td><td>0.02</td><td>0.53</td><td>0.62</td></tr>\n",
       "</tbody>\n",
       "</table>\n"
      ],
      "text/latex": [
       "\\begin{tabular}{r|llll}\n",
       " accordance\\_rate\\_mean & se & lower\\_bound & upper\\_bound\\\\\n",
       "\\hline\n",
       "\t 0.58 & 0.02 & 0.53 & 0.62\\\\\n",
       "\\end{tabular}\n"
      ],
      "text/markdown": [
       "\n",
       "accordance_rate_mean | se | lower_bound | upper_bound | \n",
       "|---|\n",
       "| 0.58 | 0.02 | 0.53 | 0.62 | \n",
       "\n",
       "\n"
      ],
      "text/plain": [
       "  accordance_rate_mean se   lower_bound upper_bound\n",
       "1 0.58                 0.02 0.53        0.62       "
      ]
     },
     "metadata": {},
     "output_type": "display_data"
    }
   ],
   "source": [
    "print('Safety')\n",
    "dat %>% \n",
    "    filter( unknown_door_involved == TRUE ,\n",
    "            equivalent_options == FALSE ) %>%\n",
    "    accordance( chosen_ttb_safety )\n",
    "\n",
    "print('Speed')\n",
    "dat %>% \n",
    "    filter( unknown_door_involved == TRUE ,\n",
    "            equivalent_options == FALSE ) %>%\n",
    "    accordance( chosen_ttb_speed )"
   ]
  },
  {
   "cell_type": "markdown",
   "metadata": {},
   "source": [
    "### 4.2 Unknown door is involved. Digging deeper"
   ]
  },
  {
   "cell_type": "markdown",
   "metadata": {},
   "source": [
    "Here I check what happens when different types of doors are contrasted against an unknown door"
   ]
  },
  {
   "cell_type": "code",
   "execution_count": 101,
   "metadata": {},
   "outputs": [
    {
     "name": "stdout",
     "output_type": "stream",
     "text": [
      "[1] \"Safety, Speed = [1, 1]\"\n"
     ]
    },
    {
     "data": {
      "text/html": [
       "<table>\n",
       "<thead><tr><th scope=col>selected_right_rate_mean</th><th scope=col>se</th><th scope=col>lower_bound</th><th scope=col>upper_bound</th></tr></thead>\n",
       "<tbody>\n",
       "\t<tr><td>0.97</td><td>0.01</td><td>0.95</td><td>0.99</td></tr>\n",
       "</tbody>\n",
       "</table>\n"
      ],
      "text/latex": [
       "\\begin{tabular}{r|llll}\n",
       " selected\\_right\\_rate\\_mean & se & lower\\_bound & upper\\_bound\\\\\n",
       "\\hline\n",
       "\t 0.97 & 0.01 & 0.95 & 0.99\\\\\n",
       "\\end{tabular}\n"
      ],
      "text/markdown": [
       "\n",
       "selected_right_rate_mean | se | lower_bound | upper_bound | \n",
       "|---|\n",
       "| 0.97 | 0.01 | 0.95 | 0.99 | \n",
       "\n",
       "\n"
      ],
      "text/plain": [
       "  selected_right_rate_mean se   lower_bound upper_bound\n",
       "1 0.97                     0.01 0.95        0.99       "
      ]
     },
     "metadata": {},
     "output_type": "display_data"
    },
    {
     "name": "stdout",
     "output_type": "stream",
     "text": [
      "[1] \"Safety, Speed = [1, -1]\"\n"
     ]
    },
    {
     "data": {
      "text/html": [
       "<table>\n",
       "<thead><tr><th scope=col>selected_right_rate_mean</th><th scope=col>se</th><th scope=col>lower_bound</th><th scope=col>upper_bound</th></tr></thead>\n",
       "<tbody>\n",
       "\t<tr><td>0.92</td><td>0.02</td><td>0.88</td><td>0.95</td></tr>\n",
       "</tbody>\n",
       "</table>\n"
      ],
      "text/latex": [
       "\\begin{tabular}{r|llll}\n",
       " selected\\_right\\_rate\\_mean & se & lower\\_bound & upper\\_bound\\\\\n",
       "\\hline\n",
       "\t 0.92 & 0.02 & 0.88 & 0.95\\\\\n",
       "\\end{tabular}\n"
      ],
      "text/markdown": [
       "\n",
       "selected_right_rate_mean | se | lower_bound | upper_bound | \n",
       "|---|\n",
       "| 0.92 | 0.02 | 0.88 | 0.95 | \n",
       "\n",
       "\n"
      ],
      "text/plain": [
       "  selected_right_rate_mean se   lower_bound upper_bound\n",
       "1 0.92                     0.02 0.88        0.95       "
      ]
     },
     "metadata": {},
     "output_type": "display_data"
    },
    {
     "name": "stdout",
     "output_type": "stream",
     "text": [
      "[1] \"Safety, Speed = [-1, 1]\"\n"
     ]
    },
    {
     "data": {
      "text/html": [
       "<table>\n",
       "<thead><tr><th scope=col>selected_right_rate_mean</th><th scope=col>se</th><th scope=col>lower_bound</th><th scope=col>upper_bound</th></tr></thead>\n",
       "<tbody>\n",
       "\t<tr><td>0.28</td><td>0.05</td><td>0.17</td><td>0.39</td></tr>\n",
       "</tbody>\n",
       "</table>\n"
      ],
      "text/latex": [
       "\\begin{tabular}{r|llll}\n",
       " selected\\_right\\_rate\\_mean & se & lower\\_bound & upper\\_bound\\\\\n",
       "\\hline\n",
       "\t 0.28 & 0.05 & 0.17 & 0.39\\\\\n",
       "\\end{tabular}\n"
      ],
      "text/markdown": [
       "\n",
       "selected_right_rate_mean | se | lower_bound | upper_bound | \n",
       "|---|\n",
       "| 0.28 | 0.05 | 0.17 | 0.39 | \n",
       "\n",
       "\n"
      ],
      "text/plain": [
       "  selected_right_rate_mean se   lower_bound upper_bound\n",
       "1 0.28                     0.05 0.17        0.39       "
      ]
     },
     "metadata": {},
     "output_type": "display_data"
    },
    {
     "name": "stdout",
     "output_type": "stream",
     "text": [
      "[1] \"Safety, Speed = [-1, -1]\"\n"
     ]
    },
    {
     "data": {
      "text/html": [
       "<table>\n",
       "<thead><tr><th scope=col>selected_right_rate_mean</th><th scope=col>se</th><th scope=col>lower_bound</th><th scope=col>upper_bound</th></tr></thead>\n",
       "<tbody>\n",
       "\t<tr><td>0.14</td><td>0.03</td><td>0.07</td><td>0.2 </td></tr>\n",
       "</tbody>\n",
       "</table>\n"
      ],
      "text/latex": [
       "\\begin{tabular}{r|llll}\n",
       " selected\\_right\\_rate\\_mean & se & lower\\_bound & upper\\_bound\\\\\n",
       "\\hline\n",
       "\t 0.14 & 0.03 & 0.07 & 0.2 \\\\\n",
       "\\end{tabular}\n"
      ],
      "text/markdown": [
       "\n",
       "selected_right_rate_mean | se | lower_bound | upper_bound | \n",
       "|---|\n",
       "| 0.14 | 0.03 | 0.07 | 0.2  | \n",
       "\n",
       "\n"
      ],
      "text/plain": [
       "  selected_right_rate_mean se   lower_bound upper_bound\n",
       "1 0.14                     0.03 0.07        0.2        "
      ]
     },
     "metadata": {},
     "output_type": "display_data"
    }
   ],
   "source": [
    "print(\"Safety, Speed = [1, 1]\")\n",
    "safety_val = 1\n",
    "speed_val = 1\n",
    "\n",
    "dat %>%\n",
    "    filter( unknown_door_involved == TRUE ,\n",
    "            equivalent_options == FALSE ) %>%\n",
    "    filter( right_safety == safety_val | left_safety == safety_val,\n",
    "            right_speed == speed_val | left_speed == speed_val) %>%\n",
    "    mutate(selected_right = chosen_door_is_unknown == FALSE) %>%\n",
    "    group_by( id ) %>%\n",
    "    summarize( selected_right_rate = mean(selected_right) ) %>%\n",
    "    summarize( selected_right_rate_mean = mean(selected_right_rate), \n",
    "               se = se(selected_right_rate),\n",
    "               lower_bound = t.test(selected_right_rate, conf.level=0.95)$conf.int[1],\n",
    "               upper_bound = t.test(selected_right_rate, conf.level=0.95)$conf.int[2]) %>%\n",
    "    round( decimals )\n",
    "\n",
    "\n",
    "print(\"Safety, Speed = [1, -1]\")\n",
    "safety_val = 1\n",
    "speed_val = -1\n",
    "\n",
    "dat %>%\n",
    "    filter( unknown_door_involved == TRUE ,\n",
    "            equivalent_options == FALSE ) %>%\n",
    "    filter( right_safety == safety_val | left_safety == safety_val,\n",
    "            right_speed == speed_val | left_speed == speed_val) %>%\n",
    "    mutate(selected_right = chosen_door_is_unknown == FALSE) %>%\n",
    "    group_by( id ) %>%\n",
    "    summarize( selected_right_rate = mean(selected_right) ) %>%\n",
    "    summarize( selected_right_rate_mean = mean(selected_right_rate), \n",
    "               se = se(selected_right_rate),\n",
    "               lower_bound = t.test(selected_right_rate, conf.level=0.95)$conf.int[1],\n",
    "               upper_bound = t.test(selected_right_rate, conf.level=0.95)$conf.int[2]) %>%\n",
    "    round( decimals )\n",
    "\n",
    "\n",
    "print(\"Safety, Speed = [-1, 1]\")\n",
    "safety_val = -1\n",
    "speed_val = 1\n",
    "\n",
    "dat %>%\n",
    "    filter( unknown_door_involved == TRUE ,\n",
    "            equivalent_options == FALSE ) %>%\n",
    "    filter( right_safety == safety_val | left_safety == safety_val,\n",
    "            right_speed == speed_val | left_speed == speed_val) %>%\n",
    "    mutate(selected_right = chosen_door_is_unknown == FALSE) %>%\n",
    "    group_by( id ) %>%\n",
    "    summarize( selected_right_rate = mean(selected_right) ) %>%\n",
    "    summarize( selected_right_rate_mean = mean(selected_right_rate), \n",
    "               se = se(selected_right_rate),\n",
    "               lower_bound = t.test(selected_right_rate, conf.level=0.95)$conf.int[1],\n",
    "               upper_bound = t.test(selected_right_rate, conf.level=0.95)$conf.int[2]) %>%\n",
    "    round( decimals )\n",
    "\n",
    "\n",
    "print(\"Safety, Speed = [-1, -1]\")\n",
    "safety_val = -1\n",
    "speed_val = -1\n",
    "\n",
    "dat %>%\n",
    "    filter( unknown_door_involved == TRUE ,\n",
    "            equivalent_options == FALSE ) %>%\n",
    "    filter( right_safety == safety_val | left_safety == safety_val,\n",
    "            right_speed == speed_val | left_speed == speed_val) %>%\n",
    "    mutate(selected_right = chosen_door_is_unknown == FALSE) %>%\n",
    "    group_by( id ) %>%\n",
    "    summarize( selected_right_rate = mean(selected_right) ) %>%\n",
    "    summarize( selected_right_rate_mean = mean(selected_right_rate), \n",
    "               se = se(selected_right_rate),\n",
    "               lower_bound = t.test(selected_right_rate, conf.level=0.95)$conf.int[1],\n",
    "               upper_bound = t.test(selected_right_rate, conf.level=0.95)$conf.int[2]) %>%\n",
    "    round( decimals )"
   ]
  },
  {
   "cell_type": "markdown",
   "metadata": {},
   "source": [
    "# Accordance rates of Corrected Safety Prioritized Model"
   ]
  },
  {
   "cell_type": "markdown",
   "metadata": {},
   "source": [
    "Change those decisions where one (1) unknown door is involved. The cue order remains to be Safety > Speed. However, an Unknown door is (always) better than an Unsafe one."
   ]
  },
  {
   "cell_type": "code",
   "execution_count": 116,
   "metadata": {
    "collapsed": true
   },
   "outputs": [],
   "source": [
    "# Copy TTB Safety\n",
    "dat$chosen_ttb_safety_corrected <- dat$chosen_ttb_safety\n",
    "\n",
    "## Make changes to those decisions where an unknown door is involved\n",
    "dat[dat$unknown_door_involved & dat$left_safety == 1 , 'chosen_ttb_safety_corrected'] <- 'left'\n",
    "dat[dat$unknown_door_involved & dat$left_safety == -1 , 'chosen_ttb_safety_corrected'] <- 'right'\n",
    "\n",
    "dat[dat$unknown_door_involved & dat$right_safety == 1 , 'chosen_ttb_safety_corrected'] <- 'right'\n",
    "dat[dat$unknown_door_involved & dat$right_safety == -1 , 'chosen_ttb_safety_corrected'] <- 'left'"
   ]
  },
  {
   "cell_type": "markdown",
   "metadata": {},
   "source": [
    "### Corrected Safety: Overall accordance rate"
   ]
  },
  {
   "cell_type": "code",
   "execution_count": 132,
   "metadata": {},
   "outputs": [
    {
     "data": {
      "text/html": [
       "<table>\n",
       "<thead><tr><th scope=col>accordance_rate_mean</th><th scope=col>se</th><th scope=col>lower_bound</th><th scope=col>upper_bound</th></tr></thead>\n",
       "<tbody>\n",
       "\t<tr><td>0.73</td><td>0.01</td><td>0.7 </td><td>0.75</td></tr>\n",
       "</tbody>\n",
       "</table>\n"
      ],
      "text/latex": [
       "\\begin{tabular}{r|llll}\n",
       " accordance\\_rate\\_mean & se & lower\\_bound & upper\\_bound\\\\\n",
       "\\hline\n",
       "\t 0.73 & 0.01 & 0.7  & 0.75\\\\\n",
       "\\end{tabular}\n"
      ],
      "text/markdown": [
       "\n",
       "accordance_rate_mean | se | lower_bound | upper_bound | \n",
       "|---|\n",
       "| 0.73 | 0.01 | 0.7  | 0.75 | \n",
       "\n",
       "\n"
      ],
      "text/plain": [
       "  accordance_rate_mean se   lower_bound upper_bound\n",
       "1 0.73                 0.01 0.7         0.75       "
      ]
     },
     "metadata": {},
     "output_type": "display_data"
    },
    {
     "data": {
      "text/html": [
       "<table>\n",
       "<thead><tr><th scope=col>accordance_rate_mean</th><th scope=col>se</th><th scope=col>lower_bound</th><th scope=col>upper_bound</th></tr></thead>\n",
       "<tbody>\n",
       "\t<tr><td>0.66</td><td>0.01</td><td>0.64</td><td>0.69</td></tr>\n",
       "</tbody>\n",
       "</table>\n"
      ],
      "text/latex": [
       "\\begin{tabular}{r|llll}\n",
       " accordance\\_rate\\_mean & se & lower\\_bound & upper\\_bound\\\\\n",
       "\\hline\n",
       "\t 0.66 & 0.01 & 0.64 & 0.69\\\\\n",
       "\\end{tabular}\n"
      ],
      "text/markdown": [
       "\n",
       "accordance_rate_mean | se | lower_bound | upper_bound | \n",
       "|---|\n",
       "| 0.66 | 0.01 | 0.64 | 0.69 | \n",
       "\n",
       "\n"
      ],
      "text/plain": [
       "  accordance_rate_mean se   lower_bound upper_bound\n",
       "1 0.66                 0.01 0.64        0.69       "
      ]
     },
     "metadata": {},
     "output_type": "display_data"
    },
    {
     "data": {
      "text/html": [
       "<table>\n",
       "<thead><tr><th scope=col>accordance_rate_mean</th><th scope=col>se</th><th scope=col>lower_bound</th><th scope=col>upper_bound</th></tr></thead>\n",
       "<tbody>\n",
       "\t<tr><td>0.89</td><td>0.01</td><td>0.86</td><td>0.92</td></tr>\n",
       "</tbody>\n",
       "</table>\n"
      ],
      "text/latex": [
       "\\begin{tabular}{r|llll}\n",
       " accordance\\_rate\\_mean & se & lower\\_bound & upper\\_bound\\\\\n",
       "\\hline\n",
       "\t 0.89 & 0.01 & 0.86 & 0.92\\\\\n",
       "\\end{tabular}\n"
      ],
      "text/markdown": [
       "\n",
       "accordance_rate_mean | se | lower_bound | upper_bound | \n",
       "|---|\n",
       "| 0.89 | 0.01 | 0.86 | 0.92 | \n",
       "\n",
       "\n"
      ],
      "text/plain": [
       "  accordance_rate_mean se   lower_bound upper_bound\n",
       "1 0.89                 0.01 0.86        0.92       "
      ]
     },
     "metadata": {},
     "output_type": "display_data"
    }
   ],
   "source": [
    "dat %>%\n",
    "    filter( equivalent_options == FALSE ) %>%\n",
    "    accordance( chosen_ttb_safety )\n",
    "\n",
    "dat %>%\n",
    "    filter( equivalent_options == FALSE ) %>%\n",
    "    accordance( chosen_ttb_speed )\n",
    "\n",
    "dat %>%\n",
    "    filter( equivalent_options == FALSE ) %>%\n",
    "    accordance( chosen_ttb_safety_corrected )"
   ]
  },
  {
   "cell_type": "markdown",
   "metadata": {},
   "source": [
    "### 4. Corrected Safety: Unknown door is involved"
   ]
  },
  {
   "cell_type": "code",
   "execution_count": 133,
   "metadata": {},
   "outputs": [
    {
     "name": "stdout",
     "output_type": "stream",
     "text": [
      "[1] \"Safety\"\n"
     ]
    },
    {
     "data": {
      "text/html": [
       "<table>\n",
       "<thead><tr><th scope=col>accordance_rate_mean</th><th scope=col>se</th><th scope=col>lower_bound</th><th scope=col>upper_bound</th></tr></thead>\n",
       "<tbody>\n",
       "\t<tr><td>0.58</td><td>0.02</td><td>0.53</td><td>0.62</td></tr>\n",
       "</tbody>\n",
       "</table>\n"
      ],
      "text/latex": [
       "\\begin{tabular}{r|llll}\n",
       " accordance\\_rate\\_mean & se & lower\\_bound & upper\\_bound\\\\\n",
       "\\hline\n",
       "\t 0.58 & 0.02 & 0.53 & 0.62\\\\\n",
       "\\end{tabular}\n"
      ],
      "text/markdown": [
       "\n",
       "accordance_rate_mean | se | lower_bound | upper_bound | \n",
       "|---|\n",
       "| 0.58 | 0.02 | 0.53 | 0.62 | \n",
       "\n",
       "\n"
      ],
      "text/plain": [
       "  accordance_rate_mean se   lower_bound upper_bound\n",
       "1 0.58                 0.02 0.53        0.62       "
      ]
     },
     "metadata": {},
     "output_type": "display_data"
    },
    {
     "name": "stdout",
     "output_type": "stream",
     "text": [
      "[1] \"Speed\"\n"
     ]
    },
    {
     "data": {
      "text/html": [
       "<table>\n",
       "<thead><tr><th scope=col>accordance_rate_mean</th><th scope=col>se</th><th scope=col>lower_bound</th><th scope=col>upper_bound</th></tr></thead>\n",
       "<tbody>\n",
       "\t<tr><td>0.58</td><td>0.02</td><td>0.53</td><td>0.62</td></tr>\n",
       "</tbody>\n",
       "</table>\n"
      ],
      "text/latex": [
       "\\begin{tabular}{r|llll}\n",
       " accordance\\_rate\\_mean & se & lower\\_bound & upper\\_bound\\\\\n",
       "\\hline\n",
       "\t 0.58 & 0.02 & 0.53 & 0.62\\\\\n",
       "\\end{tabular}\n"
      ],
      "text/markdown": [
       "\n",
       "accordance_rate_mean | se | lower_bound | upper_bound | \n",
       "|---|\n",
       "| 0.58 | 0.02 | 0.53 | 0.62 | \n",
       "\n",
       "\n"
      ],
      "text/plain": [
       "  accordance_rate_mean se   lower_bound upper_bound\n",
       "1 0.58                 0.02 0.53        0.62       "
      ]
     },
     "metadata": {},
     "output_type": "display_data"
    },
    {
     "name": "stdout",
     "output_type": "stream",
     "text": [
      "[1] \"Corrected Safety\"\n"
     ]
    },
    {
     "data": {
      "text/html": [
       "<table>\n",
       "<thead><tr><th scope=col>accordance_rate_mean</th><th scope=col>se</th><th scope=col>lower_bound</th><th scope=col>upper_bound</th></tr></thead>\n",
       "<tbody>\n",
       "\t<tr><td>0.87</td><td>0.02</td><td>0.83</td><td>0.91</td></tr>\n",
       "</tbody>\n",
       "</table>\n"
      ],
      "text/latex": [
       "\\begin{tabular}{r|llll}\n",
       " accordance\\_rate\\_mean & se & lower\\_bound & upper\\_bound\\\\\n",
       "\\hline\n",
       "\t 0.87 & 0.02 & 0.83 & 0.91\\\\\n",
       "\\end{tabular}\n"
      ],
      "text/markdown": [
       "\n",
       "accordance_rate_mean | se | lower_bound | upper_bound | \n",
       "|---|\n",
       "| 0.87 | 0.02 | 0.83 | 0.91 | \n",
       "\n",
       "\n"
      ],
      "text/plain": [
       "  accordance_rate_mean se   lower_bound upper_bound\n",
       "1 0.87                 0.02 0.83        0.91       "
      ]
     },
     "metadata": {},
     "output_type": "display_data"
    }
   ],
   "source": [
    "print('Safety')\n",
    "dat %>% \n",
    "    filter( unknown_door_involved == TRUE ,\n",
    "            equivalent_options == FALSE ) %>%\n",
    "    accordance( chosen_ttb_safety )\n",
    "\n",
    "print('Speed')\n",
    "dat %>% \n",
    "    filter( unknown_door_involved == TRUE ,\n",
    "            equivalent_options == FALSE ) %>%\n",
    "    accordance( chosen_ttb_speed )\n",
    "\n",
    "print('Corrected Safety')\n",
    "dat %>% \n",
    "    filter( unknown_door_involved == TRUE ,\n",
    "            equivalent_options == FALSE ) %>%\n",
    "    accordance( chosen_ttb_safety_corrected )"
   ]
  },
  {
   "cell_type": "markdown",
   "metadata": {},
   "source": [
    "### 4.2 Corrected Safety: Unknown door is involved. Digging deeper"
   ]
  },
  {
   "cell_type": "code",
   "execution_count": null,
   "metadata": {
    "collapsed": true
   },
   "outputs": [],
   "source": [
    "print(\"Safety, Speed = [1, 1]\")\n",
    "safety_val = 1\n",
    "speed_val = 1\n",
    "\n",
    "dat %>%\n",
    "    filter( unknown_door_involved == TRUE ,\n",
    "            equivalent_options == FALSE ) %>%\n",
    "    filter( right_safety == safety_val | left_safety == safety_val,\n",
    "            right_speed == speed_val | left_speed == speed_val) %>%\n",
    "    mutate(selected_right = chosen_door_is_unknown == FALSE) %>%\n",
    "    group_by( id ) %>%\n",
    "    summarize( selected_right_rate = mean(selected_right) ) %>%\n",
    "    summarize( selected_right_rate_mean = mean(selected_right_rate), \n",
    "               se = se(selected_right_rate),\n",
    "               lower_bound = t.test(selected_right_rate, conf.level=0.95)$conf.int[1],\n",
    "               upper_bound = t.test(selected_right_rate, conf.level=0.95)$conf.int[2]) %>%\n",
    "    round( decimals )\n",
    "\n",
    "\n",
    "print(\"Safety, Speed = [1, -1]\")\n",
    "safety_val = 1\n",
    "speed_val = -1\n",
    "\n",
    "dat %>%\n",
    "    filter( unknown_door_involved == TRUE ,\n",
    "            equivalent_options == FALSE ) %>%\n",
    "    filter( right_safety == safety_val | left_safety == safety_val,\n",
    "            right_speed == speed_val | left_speed == speed_val) %>%\n",
    "    mutate(selected_right = chosen_door_is_unknown == FALSE) %>%\n",
    "    group_by( id ) %>%\n",
    "    summarize( selected_right_rate = mean(selected_right) ) %>%\n",
    "    summarize( selected_right_rate_mean = mean(selected_right_rate), \n",
    "               se = se(selected_right_rate),\n",
    "               lower_bound = t.test(selected_right_rate, conf.level=0.95)$conf.int[1],\n",
    "               upper_bound = t.test(selected_right_rate, conf.level=0.95)$conf.int[2]) %>%\n",
    "    round( decimals )\n",
    "\n",
    "\n",
    "print(\"Safety, Speed = [-1, 1]\")\n",
    "safety_val = -1\n",
    "speed_val = 1\n",
    "\n",
    "dat %>%\n",
    "    filter( unknown_door_involved == TRUE ,\n",
    "            equivalent_options == FALSE ) %>%\n",
    "    filter( right_safety == safety_val | left_safety == safety_val,\n",
    "            right_speed == speed_val | left_speed == speed_val) %>%\n",
    "    mutate(selected_right = chosen_door_is_unknown == FALSE) %>%\n",
    "    group_by( id ) %>%\n",
    "    summarize( selected_right_rate = mean(selected_right) ) %>%\n",
    "    summarize( selected_right_rate_mean = mean(selected_right_rate), \n",
    "               se = se(selected_right_rate),\n",
    "               lower_bound = t.test(selected_right_rate, conf.level=0.95)$conf.int[1],\n",
    "               upper_bound = t.test(selected_right_rate, conf.level=0.95)$conf.int[2]) %>%\n",
    "    round( decimals )\n",
    "\n",
    "\n",
    "print(\"Safety, Speed = [-1, -1]\")\n",
    "safety_val = -1\n",
    "speed_val = -1\n",
    "\n",
    "dat %>%\n",
    "    filter( unknown_door_involved == TRUE ,\n",
    "            equivalent_options == FALSE ) %>%\n",
    "    filter( right_safety == safety_val | left_safety == safety_val,\n",
    "            right_speed == speed_val | left_speed == speed_val) %>%\n",
    "    mutate(selected_right = chosen_door_is_unknown == FALSE) %>%\n",
    "    group_by( id ) %>%\n",
    "    summarize( selected_right_rate = mean(selected_right) ) %>%\n",
    "    summarize( selected_right_rate_mean = mean(selected_right_rate), \n",
    "               se = se(selected_right_rate),\n",
    "               lower_bound = t.test(selected_right_rate, conf.level=0.95)$conf.int[1],\n",
    "               upper_bound = t.test(selected_right_rate, conf.level=0.95)$conf.int[2]) %>%\n",
    "    round( decimals )"
   ]
  },
  {
   "cell_type": "code",
   "execution_count": null,
   "metadata": {
    "collapsed": true
   },
   "outputs": [],
   "source": []
  },
  {
   "cell_type": "markdown",
   "metadata": {},
   "source": [
    "# Response times"
   ]
  },
  {
   "cell_type": "markdown",
   "metadata": {},
   "source": [
    "### Overall response time per block\n",
    "It is calculated as an average of averages."
   ]
  },
  {
   "cell_type": "code",
   "execution_count": null,
   "metadata": {},
   "outputs": [],
   "source": [
    "response_times <- dat %>%\n",
    "                    group_by(id, block) %>%\n",
    "                    summarize(subject_rt_mean = mean(rt)) %>% # per subject per block\n",
    "                    group_by(block) %>%\n",
    "                    summarize(y = mean(subject_rt_mean),\n",
    "                              lower_bound = t.test(subject_rt_mean, conf.level=0.95)$conf.int[1],\n",
    "                              upper_bound = t.test(subject_rt_mean, conf.level=0.95)$conf.int[2]) %>%\n",
    "                    mutate(x = block)\n",
    "\n",
    "response_times"
   ]
  },
  {
   "cell_type": "code",
   "execution_count": null,
   "metadata": {
    "collapsed": true
   },
   "outputs": [],
   "source": [
    "p1 = bar_graph(response_times)"
   ]
  },
  {
   "cell_type": "code",
   "execution_count": null,
   "metadata": {
    "collapsed": true
   },
   "outputs": [],
   "source": [
    "#p1"
   ]
  },
  {
   "cell_type": "markdown",
   "metadata": {},
   "source": [
    "## Hypotheses comparison"
   ]
  },
  {
   "cell_type": "markdown",
   "metadata": {},
   "source": [
    "TTB_Safety vs TTB_Speed"
   ]
  },
  {
   "cell_type": "code",
   "execution_count": 102,
   "metadata": {
    "collapsed": true
   },
   "outputs": [],
   "source": [
    "bar_graph_2 <- function(plot_data, title) {\n",
    "    plot_data %>%\n",
    "        ggplot(aes(x=factor(x), y=y, group=group, fill=factor(group)))+\n",
    "        geom_bar(stat=\"identity\", position=position_dodge()) +\n",
    "        geom_errorbar(aes(ymin=lower_bound, ymax=upper_bound),\n",
    "                      position=position_dodge(.9),\n",
    "                      width=0.2 ) +\n",
    "        labs(fill = \"Cues checked\") + xlab(\"Block\") + ylab(\"Response time (ms.)\") + ggtitle(title)\n",
    "}"
   ]
  },
  {
   "cell_type": "code",
   "execution_count": 103,
   "metadata": {
    "collapsed": true
   },
   "outputs": [],
   "source": [
    "rt_ttb_safety <- dat %>%\n",
    "                    group_by(id, block, steps_ttb_safety) %>%\n",
    "                    summarize(subject_rt_mean = mean(rt)) %>% # per subject per block\n",
    "                    group_by(block, steps_ttb_safety) %>%\n",
    "                    summarize(y = mean(subject_rt_mean),\n",
    "                              lower_bound = t.test(subject_rt_mean, conf.level=0.95)$conf.int[1],\n",
    "                              upper_bound = t.test(subject_rt_mean, conf.level=0.95)$conf.int[2]) %>%\n",
    "                    mutate(x = block + 1,\n",
    "                           group = steps_ttb_safety)\n",
    "\n",
    "p1 <- bar_graph_2(rt_ttb_safety, \"(a)\")"
   ]
  },
  {
   "cell_type": "code",
   "execution_count": 104,
   "metadata": {
    "collapsed": true
   },
   "outputs": [],
   "source": [
    "rt_ttb_safety <- dat %>%\n",
    "                    filter(unknown_door_involved == FALSE) %>% # Unknown doors filtered out\n",
    "                    group_by(id, block, steps_ttb_safety) %>%\n",
    "                    summarize(subject_rt_mean = mean(rt)) %>% # per subject per block\n",
    "                    group_by(block, steps_ttb_safety) %>%\n",
    "                    summarize(y = mean(subject_rt_mean),\n",
    "                              lower_bound = t.test(subject_rt_mean, conf.level=0.95)$conf.int[1],\n",
    "                              upper_bound = t.test(subject_rt_mean, conf.level=0.95)$conf.int[2]) %>%\n",
    "                    mutate(x = block + 1,\n",
    "                           group = steps_ttb_safety)\n",
    "\n",
    "p12 <- bar_graph_2(rt_ttb_safety, \"(c)\")"
   ]
  },
  {
   "cell_type": "code",
   "execution_count": 105,
   "metadata": {
    "collapsed": true
   },
   "outputs": [],
   "source": [
    "rt_ttb_speed <- dat %>%\n",
    "                    group_by(id, block, steps_ttb_speed) %>%\n",
    "                    summarize(subject_rt_mean = mean(rt)) %>% # per subject per block\n",
    "                    group_by(block, steps_ttb_speed) %>%\n",
    "                    summarize(y = mean(subject_rt_mean),\n",
    "                              lower_bound = t.test(subject_rt_mean, conf.level=0.95)$conf.int[1],\n",
    "                              upper_bound = t.test(subject_rt_mean, conf.level=0.95)$conf.int[2]) %>%\n",
    "                    mutate(x = block + 1,\n",
    "                           group = steps_ttb_speed)\n",
    "\n",
    "p2 <- bar_graph_2(rt_ttb_speed, \"(b)\")"
   ]
  },
  {
   "cell_type": "code",
   "execution_count": 106,
   "metadata": {
    "collapsed": true
   },
   "outputs": [],
   "source": [
    "rt_ttb_speed <- dat %>%\n",
    "                    filter(unknown_door_involved == FALSE) %>% # Unknown doors filtered out\n",
    "                    group_by(id, block, steps_ttb_speed) %>%\n",
    "                    summarize(subject_rt_mean = mean(rt)) %>% # per subject per block\n",
    "                    group_by(block, steps_ttb_speed) %>%\n",
    "                    summarize(y = mean(subject_rt_mean),\n",
    "                              lower_bound = t.test(subject_rt_mean, conf.level=0.95)$conf.int[1],\n",
    "                              upper_bound = t.test(subject_rt_mean, conf.level=0.95)$conf.int[2]) %>%\n",
    "                    mutate(x = block + 1,\n",
    "                           group = steps_ttb_speed)\n",
    "\n",
    "p22 <- bar_graph_2(rt_ttb_speed, \"(d)\")"
   ]
  },
  {
   "cell_type": "code",
   "execution_count": 107,
   "metadata": {},
   "outputs": [
    {
     "data": {
      "text/html": [
       "<strong>png:</strong> 2"
      ],
      "text/latex": [
       "\\textbf{png:} 2"
      ],
      "text/markdown": [
       "**png:** 2"
      ],
      "text/plain": [
       "png \n",
       "  2 "
      ]
     },
     "metadata": {},
     "output_type": "display_data"
    }
   ],
   "source": [
    "svg(\"Images/response_times.svg\", width=8, height=4)\n",
    "multiplot(p1, p12, p2, p22, cols=2)\n",
    "dev.off()"
   ]
  },
  {
   "cell_type": "markdown",
   "metadata": {},
   "source": [
    "### Only known doors: response times"
   ]
  },
  {
   "cell_type": "code",
   "execution_count": null,
   "metadata": {},
   "outputs": [],
   "source": [
    "response_times <- dat %>%\n",
    "                    filter(unknown_door_involved == FALSE) %>%\n",
    "                    group_by(id, block) %>%\n",
    "                    summarize(subject_rt_mean = mean(rt)) %>% # per subject per block\n",
    "                    group_by(block) %>%\n",
    "                    summarize(y = mean(subject_rt_mean),\n",
    "                              lower_bound = t.test(subject_rt_mean, conf.level=0.95)$conf.int[1],\n",
    "                              upper_bound = t.test(subject_rt_mean, conf.level=0.95)$conf.int[2]) %>%\n",
    "                    mutate(x = block)\n",
    "\n",
    "response_times"
   ]
  },
  {
   "cell_type": "code",
   "execution_count": null,
   "metadata": {
    "collapsed": true
   },
   "outputs": [],
   "source": [
    "p2 = bar_graph(response_times)"
   ]
  },
  {
   "cell_type": "markdown",
   "metadata": {},
   "source": [
    "### Individual response times"
   ]
  },
  {
   "cell_type": "code",
   "execution_count": null,
   "metadata": {},
   "outputs": [],
   "source": [
    "response_times <- dat %>%\n",
    "                    group_by(id) %>%\n",
    "                    summarize(y = mean(rt),\n",
    "                              lower_bound = t.test(rt, conf.level=0.95)$conf.int[1],\n",
    "                              upper_bound = t.test(rt, conf.level=0.95)$conf.int[2]) %>%\n",
    "                    mutate(x=id)\n",
    "\n",
    "head(response_times)"
   ]
  },
  {
   "cell_type": "code",
   "execution_count": null,
   "metadata": {},
   "outputs": [],
   "source": [
    "response_times %>%\n",
    "    summarize(mean_rt = mean(y),\n",
    "              lower_bound = t.test(y, conf.level=0.95)$conf.int[1],\n",
    "              upper_bound = t.test(y, conf.level=0.95)$conf.int[2])"
   ]
  },
  {
   "cell_type": "markdown",
   "metadata": {},
   "source": [
    "#### Separated between those decisions that involved unknown doors and those that did not"
   ]
  },
  {
   "cell_type": "code",
   "execution_count": null,
   "metadata": {},
   "outputs": [],
   "source": [
    "response_times <- dat %>%\n",
    "                    filter(id==1 | id==2 | id==4) %>%\n",
    "                    group_by(id, unknown_door_involved) %>%\n",
    "                    summarize(y = mean(rt),\n",
    "                              se = se(rt))  %>%\n",
    "                    mutate(lower_bound = y - se/2, \n",
    "                           upper_bound = y + se/2, \n",
    "                           x=paste(id, unknown_door_involved))\n",
    "\n",
    "head(response_times)"
   ]
  },
  {
   "cell_type": "markdown",
   "metadata": {
    "collapsed": true
   },
   "source": [
    "# Explore"
   ]
  },
  {
   "cell_type": "code",
   "execution_count": null,
   "metadata": {},
   "outputs": [],
   "source": [
    "dat %>%\n",
    "    select(-KEY_RESPONSE_TIME, -DISPLAY_TIME, -row_id, -unknown_door_involved) %>%\n",
    "    filter(chosen_ttb_speed != chosen_ttb_safety) %>%\n",
    "    head"
   ]
  },
  {
   "cell_type": "code",
   "execution_count": null,
   "metadata": {
    "collapsed": true
   },
   "outputs": [],
   "source": []
  },
  {
   "cell_type": "code",
   "execution_count": null,
   "metadata": {
    "collapsed": true
   },
   "outputs": [],
   "source": []
  }
 ],
 "metadata": {
  "kernelspec": {
   "display_name": "R",
   "language": "R",
   "name": "ir"
  },
  "language_info": {
   "codemirror_mode": "r",
   "file_extension": ".r",
   "mimetype": "text/x-r-source",
   "name": "R",
   "pygments_lexer": "r",
   "version": "3.3.1"
  }
 },
 "nbformat": 4,
 "nbformat_minor": 2
}
